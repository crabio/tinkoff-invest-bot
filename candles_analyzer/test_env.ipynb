{
 "metadata": {
  "language_info": {
   "codemirror_mode": {
    "name": "ipython",
    "version": 3
   },
   "file_extension": ".py",
   "mimetype": "text/x-python",
   "name": "python",
   "nbconvert_exporter": "python",
   "pygments_lexer": "ipython3",
   "version": "3.7.9-final"
  },
  "orig_nbformat": 2,
  "kernelspec": {
   "name": "python37964bit3bffe351162749fba048ab36cc01edff",
   "display_name": "Python 3.7.9 64-bit",
   "language": "python"
  }
 },
 "nbformat": 4,
 "nbformat_minor": 2,
 "cells": [
  {
   "cell_type": "code",
   "execution_count": 1,
   "metadata": {},
   "outputs": [],
   "source": [
    "import numpy as np\n",
    "import pandas as pd\n",
    "\n",
    "from stock_trading_env import StockTradingEnv"
   ]
  },
  {
   "cell_type": "code",
   "execution_count": 2,
   "metadata": {},
   "outputs": [
    {
     "output_type": "execute_result",
     "data": {
      "text/plain": [
       "   0_open  0_close  0_high   0_low  0_volume  0_MACD  0_MACDh  0_MACDs  \\\n",
       "0  114.20   114.23  114.26  114.16   76837.0     NaN      NaN      NaN   \n",
       "1  114.37   114.21  114.39  114.19   34299.0     NaN      NaN      NaN   \n",
       "2  114.33   114.36  114.41  114.31   27240.0     NaN      NaN      NaN   \n",
       "3  114.32   114.32  114.34  114.25   22342.0     NaN      NaN      NaN   \n",
       "4  114.36   114.32  114.37  114.29   16668.0     NaN      NaN      NaN   \n",
       "\n",
       "        0_RSI  0_MFI  ...  2_open  2_close  2_high  2_low  2_volume  2_MACD  \\\n",
       "0  100.000000    NaN  ...   37.20    37.19   37.26  37.18   98644.0     NaN   \n",
       "1   90.697674    NaN  ...   37.15    37.20   37.20  37.14   38002.0     NaN   \n",
       "2   94.688458    NaN  ...   37.15    37.15   37.18  37.14   33423.0     NaN   \n",
       "3   84.302204    NaN  ...   37.22    37.14   37.22  37.14   59713.0     NaN   \n",
       "4   84.302204    NaN  ...   37.26    37.22   37.26  37.22   17075.0     NaN   \n",
       "\n",
       "   2_MACDh  2_MACDs      2_RSI  2_MFI  \n",
       "0      NaN      NaN  32.049265    NaN  \n",
       "1      NaN      NaN  36.604042    NaN  \n",
       "2      NaN      NaN  26.896268    NaN  \n",
       "3      NaN      0.0  25.442911    NaN  \n",
       "4      NaN      0.0  49.126458    NaN  \n",
       "\n",
       "[5 rows x 30 columns]"
      ],
      "text/html": "<div>\n<style scoped>\n    .dataframe tbody tr th:only-of-type {\n        vertical-align: middle;\n    }\n\n    .dataframe tbody tr th {\n        vertical-align: top;\n    }\n\n    .dataframe thead th {\n        text-align: right;\n    }\n</style>\n<table border=\"1\" class=\"dataframe\">\n  <thead>\n    <tr style=\"text-align: right;\">\n      <th></th>\n      <th>0_open</th>\n      <th>0_close</th>\n      <th>0_high</th>\n      <th>0_low</th>\n      <th>0_volume</th>\n      <th>0_MACD</th>\n      <th>0_MACDh</th>\n      <th>0_MACDs</th>\n      <th>0_RSI</th>\n      <th>0_MFI</th>\n      <th>...</th>\n      <th>2_open</th>\n      <th>2_close</th>\n      <th>2_high</th>\n      <th>2_low</th>\n      <th>2_volume</th>\n      <th>2_MACD</th>\n      <th>2_MACDh</th>\n      <th>2_MACDs</th>\n      <th>2_RSI</th>\n      <th>2_MFI</th>\n    </tr>\n  </thead>\n  <tbody>\n    <tr>\n      <th>0</th>\n      <td>114.20</td>\n      <td>114.23</td>\n      <td>114.26</td>\n      <td>114.16</td>\n      <td>76837.0</td>\n      <td>NaN</td>\n      <td>NaN</td>\n      <td>NaN</td>\n      <td>100.000000</td>\n      <td>NaN</td>\n      <td>...</td>\n      <td>37.20</td>\n      <td>37.19</td>\n      <td>37.26</td>\n      <td>37.18</td>\n      <td>98644.0</td>\n      <td>NaN</td>\n      <td>NaN</td>\n      <td>NaN</td>\n      <td>32.049265</td>\n      <td>NaN</td>\n    </tr>\n    <tr>\n      <th>1</th>\n      <td>114.37</td>\n      <td>114.21</td>\n      <td>114.39</td>\n      <td>114.19</td>\n      <td>34299.0</td>\n      <td>NaN</td>\n      <td>NaN</td>\n      <td>NaN</td>\n      <td>90.697674</td>\n      <td>NaN</td>\n      <td>...</td>\n      <td>37.15</td>\n      <td>37.20</td>\n      <td>37.20</td>\n      <td>37.14</td>\n      <td>38002.0</td>\n      <td>NaN</td>\n      <td>NaN</td>\n      <td>NaN</td>\n      <td>36.604042</td>\n      <td>NaN</td>\n    </tr>\n    <tr>\n      <th>2</th>\n      <td>114.33</td>\n      <td>114.36</td>\n      <td>114.41</td>\n      <td>114.31</td>\n      <td>27240.0</td>\n      <td>NaN</td>\n      <td>NaN</td>\n      <td>NaN</td>\n      <td>94.688458</td>\n      <td>NaN</td>\n      <td>...</td>\n      <td>37.15</td>\n      <td>37.15</td>\n      <td>37.18</td>\n      <td>37.14</td>\n      <td>33423.0</td>\n      <td>NaN</td>\n      <td>NaN</td>\n      <td>NaN</td>\n      <td>26.896268</td>\n      <td>NaN</td>\n    </tr>\n    <tr>\n      <th>3</th>\n      <td>114.32</td>\n      <td>114.32</td>\n      <td>114.34</td>\n      <td>114.25</td>\n      <td>22342.0</td>\n      <td>NaN</td>\n      <td>NaN</td>\n      <td>NaN</td>\n      <td>84.302204</td>\n      <td>NaN</td>\n      <td>...</td>\n      <td>37.22</td>\n      <td>37.14</td>\n      <td>37.22</td>\n      <td>37.14</td>\n      <td>59713.0</td>\n      <td>NaN</td>\n      <td>NaN</td>\n      <td>0.0</td>\n      <td>25.442911</td>\n      <td>NaN</td>\n    </tr>\n    <tr>\n      <th>4</th>\n      <td>114.36</td>\n      <td>114.32</td>\n      <td>114.37</td>\n      <td>114.29</td>\n      <td>16668.0</td>\n      <td>NaN</td>\n      <td>NaN</td>\n      <td>NaN</td>\n      <td>84.302204</td>\n      <td>NaN</td>\n      <td>...</td>\n      <td>37.26</td>\n      <td>37.22</td>\n      <td>37.26</td>\n      <td>37.22</td>\n      <td>17075.0</td>\n      <td>NaN</td>\n      <td>NaN</td>\n      <td>0.0</td>\n      <td>49.126458</td>\n      <td>NaN</td>\n    </tr>\n  </tbody>\n</table>\n<p>5 rows × 30 columns</p>\n</div>"
     },
     "metadata": {},
     "execution_count": 2
    }
   ],
   "source": [
    "# Read df\n",
    "df = pd.read_parquet(\"processed_data.parquet\")\n",
    "df.head()"
   ]
  },
  {
   "cell_type": "code",
   "execution_count": 3,
   "metadata": {},
   "outputs": [],
   "source": [
    "test_env = StockTradingEnv(df)"
   ]
  },
  {
   "cell_type": "code",
   "execution_count": 4,
   "metadata": {},
   "outputs": [
    {
     "output_type": "execute_result",
     "data": {
      "text/plain": [
       "array([ 1.14470000e+02,  1.14420000e+02,  1.14470000e+02,  1.14280000e+02,\n",
       "        1.30880000e+04, -2.60019513e-02, -6.65165961e-03, -1.93502917e-02,\n",
       "        5.23306882e+01,  3.10822656e+01,  4.46925000e+01,  4.47275000e+01,\n",
       "        4.47350000e+01,  4.46750000e+01,  1.99588000e+05,  1.49051163e-02,\n",
       "       -3.84654769e-03,  1.87516640e-02,  5.73695873e+01,  4.65503920e+01,\n",
       "        3.72700000e+01,  3.73000000e+01,  3.73200000e+01,  3.72700000e+01,\n",
       "        1.15110000e+04,  1.84411809e-02,  1.35637394e-02,  4.87744158e-03,\n",
       "        6.45381401e+01,  6.89120833e+01,  0.00000000e+00,  0.00000000e+00,\n",
       "        0.00000000e+00,  1.00000000e+04])"
      ]
     },
     "metadata": {},
     "execution_count": 4
    }
   ],
   "source": [
    "test_env.reset()"
   ]
  },
  {
   "cell_type": "code",
   "execution_count": 5,
   "metadata": {},
   "outputs": [
    {
     "output_type": "execute_result",
     "data": {
      "text/plain": [
       "(array([ 1.14450000e+02,  1.14480000e+02,  1.14490000e+02,  1.14420000e+02,\n",
       "         7.30500000e+03, -1.46545775e-02,  3.75657133e-03, -1.84111489e-02,\n",
       "         5.61917507e+01,  3.03869965e+01,  4.46900000e+01,  4.46850000e+01,\n",
       "         4.47000000e+01,  4.46450000e+01,  1.69452000e+05,  1.26402560e-02,\n",
       "        -4.88912641e-03,  1.75293824e-02,  5.03440756e+01,  4.18090577e+01,\n",
       "         3.73000000e+01,  3.72600000e+01,  3.73200000e+01,  3.72400000e+01,\n",
       "         2.44710000e+04,  2.01737624e-02,  1.22370567e-02,  7.93670574e-03,\n",
       "         5.75865106e+01,  5.77484177e+01,  8.70000000e+01,  0.00000000e+00,\n",
       "         0.00000000e+00,  4.25503195e+01]),\n",
       " 0.11488586276455572,\n",
       " False,\n",
       " {})"
      ]
     },
     "metadata": {},
     "execution_count": 5
    }
   ],
   "source": [
    "action = np.array([3,0,100])\n",
    "test_env.step(action)"
   ]
  }
 ]
}