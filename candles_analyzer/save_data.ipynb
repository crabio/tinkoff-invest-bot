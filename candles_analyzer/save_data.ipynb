{
 "cells": [
  {
   "cell_type": "code",
   "execution_count": 9,
   "metadata": {},
   "outputs": [],
   "source": [
    "# Example python program to read data from a PostgreSQL table\n",
    "\n",
    "# and load into a pandas DataFrame\n",
    "\n",
    "import psycopg2\n",
    "\n",
    "import pandas as pd\n",
    "\n",
    "import re\n",
    "\n",
    "from sqlalchemy import create_engine"
   ]
  },
  {
   "cell_type": "code",
   "execution_count": 10,
   "metadata": {},
   "outputs": [],
   "source": [
    "dbUser = \"postgres\"\n",
    "dbPassword = \"postgres\"\n",
    "dbHostname = \"localhost\"\n",
    "dbPort = 5432\n",
    "dbName = \"tinkoff\"\n",
    "\n",
    "connectionString = \"postgresql://%s:%s@%s:%d/%s?sslmode=disable\" % (dbUser, dbPassword, dbHostname, dbPort, dbName)\n",
    "# Create an engine instance\n",
    "alchemyEngine = create_engine(connectionString, pool_recycle=3600);"
   ]
  },
  {
   "cell_type": "code",
   "execution_count": 11,
   "metadata": {},
   "outputs": [
    {
     "output_type": "execute_result",
     "data": {
      "text/plain": [
       "(8734770, 9)"
      ]
     },
     "metadata": {},
     "execution_count": 11
    }
   ],
   "source": [
    "# Connect to PostgreSQL server\n",
    "dbConnection = alchemyEngine.connect();\n",
    "\n",
    "# Read data from PostgreSQL database table and load into a DataFrame instance\n",
    "df = pd.read_sql(\"\"\"\n",
    "SELECT name, instrument.id, figi, ts, open_price, close_price, high_price, low_price, volume\n",
    "FROM candle\n",
    "LEFT JOIN instrument\n",
    " ON candle.instrument_id=instrument.id\"\"\", dbConnection);\n",
    "\n",
    "pd.set_option('display.expand_frame_repr', False);\n",
    "\n",
    "# Close the database connectio\n",
    "dbConnection.close();\n",
    "\n",
    "# Drop duplicates\n",
    "df = df.drop_duplicates()\n",
    "\n",
    "# Print the DataFrame\n",
    "df.shape"
   ]
  },
  {
   "cell_type": "markdown",
   "metadata": {},
   "source": [
    "## Generate parquet"
   ]
  },
  {
   "cell_type": "code",
   "execution_count": 12,
   "metadata": {},
   "outputs": [],
   "source": [
    "df.to_parquet(\"data.parquet\", compression='gzip')"
   ]
  }
 ],
 "metadata": {
  "kernelspec": {
   "name": "python37964bit3bffe351162749fba048ab36cc01edff",
   "display_name": "Python 3.7.9 64-bit",
   "language": "python"
  },
  "language_info": {
   "codemirror_mode": {
    "name": "ipython",
    "version": 3
   },
   "file_extension": ".py",
   "mimetype": "text/x-python",
   "name": "python",
   "nbconvert_exporter": "python",
   "pygments_lexer": "ipython3",
   "version": "3.7.9-final"
  }
 },
 "nbformat": 4,
 "nbformat_minor": 4
}