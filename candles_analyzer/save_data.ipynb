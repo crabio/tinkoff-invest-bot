{
 "cells": [
  {
   "cell_type": "code",
   "execution_count": 3,
   "metadata": {},
   "outputs": [],
   "source": [
    "# Example python program to read data from a PostgreSQL table\n",
    "\n",
    "# and load into a pandas DataFrame\n",
    "\n",
    "import psycopg2\n",
    "\n",
    "import pandas as pd\n",
    "\n",
    "import re\n",
    "\n",
    "from sqlalchemy import create_engine"
   ]
  },
  {
   "cell_type": "code",
   "execution_count": 4,
   "metadata": {},
   "outputs": [],
   "source": [
    "dbUser = \"postgres\"\n",
    "dbPassword = \"postgres\"\n",
    "dbHostname = \"localhost\"\n",
    "dbPort = 5432\n",
    "dbName = \"tinkoff\"\n",
    "\n",
    "connectionString = \"postgresql://%s:%s@%s:%d/%s?sslmode=disable\" % (dbUser, dbPassword, dbHostname, dbPort, dbName)\n",
    "# Create an engine instance\n",
    "alchemyEngine = create_engine(connectionString, pool_recycle=3600);"
   ]
  },
  {
   "source": [
    "## Instruments"
   ],
   "cell_type": "markdown",
   "metadata": {}
  },
  {
   "cell_type": "code",
   "execution_count": 5,
   "metadata": {},
   "outputs": [
    {
     "output_type": "execute_result",
     "data": {
      "text/plain": [
       "(533, 3)"
      ]
     },
     "metadata": {},
     "execution_count": 5
    }
   ],
   "source": [
    "# Connect to PostgreSQL server\n",
    "dbConnection = alchemyEngine.connect();\n",
    "\n",
    "# Read data from PostgreSQL database table and load into a DataFrame instance\n",
    "instruments_df = pd.read_sql(\"SELECT name, id, figi FROM instrument\", dbConnection);\n",
    "\n",
    "pd.set_option('display.expand_frame_repr', False);\n",
    "\n",
    "# Close the database connectio\n",
    "dbConnection.close();\n",
    "\n",
    "# Print the DataFrame\n",
    "instruments_df.shape"
   ]
  },
  {
   "source": [
    "### Save"
   ],
   "cell_type": "markdown",
   "metadata": {}
  },
  {
   "cell_type": "code",
   "execution_count": 6,
   "metadata": {},
   "outputs": [],
   "source": [
    "instruments_df.to_parquet(\"instruments.parquet\", compression='gzip')"
   ]
  },
  {
   "source": [
    "## Candles"
   ],
   "cell_type": "markdown",
   "metadata": {}
  },
  {
   "cell_type": "code",
   "execution_count": 3,
   "metadata": {},
   "outputs": [],
   "source": [
    "# Connect to PostgreSQL server\n",
    "dbConnection = alchemyEngine.connect();\n",
    "\n",
    "# Read data from PostgreSQL database table and load into a DataFrame instance\n",
    "data_df = pd.read_sql(\"\"\"\n",
    "SELECT instrument_id, ts, open_price, close_price, high_price, low_price, volume\n",
    "FROM candle\"\"\", dbConnection);\n",
    "\n",
    "pd.set_option('display.expand_frame_repr', False);\n",
    "\n",
    "# Close the database connectio\n",
    "dbConnection.close();\n",
    "\n",
    "# Print the DataFrame\n",
    "data_df.shape"
   ]
  },
  {
   "cell_type": "markdown",
   "metadata": {},
   "source": [
    "## Generate parquet"
   ]
  },
  {
   "cell_type": "code",
   "execution_count": 1,
   "metadata": {},
   "outputs": [
    {
     "output_type": "error",
     "ename": "NameError",
     "evalue": "name 'df' is not defined",
     "traceback": [
      "\u001b[0;31m---------------------------------------------------------------------------\u001b[0m",
      "\u001b[0;31mNameError\u001b[0m                                 Traceback (most recent call last)",
      "\u001b[0;32m<ipython-input-1-0ee04cd9b323>\u001b[0m in \u001b[0;36m<module>\u001b[0;34m\u001b[0m\n\u001b[0;32m----> 1\u001b[0;31m \u001b[0mdf\u001b[0m\u001b[0;34m.\u001b[0m\u001b[0mto_parquet\u001b[0m\u001b[0;34m(\u001b[0m\u001b[0;34m\"data.parquet\"\u001b[0m\u001b[0;34m,\u001b[0m \u001b[0mcompression\u001b[0m\u001b[0;34m=\u001b[0m\u001b[0;34m'gzip'\u001b[0m\u001b[0;34m)\u001b[0m\u001b[0;34m\u001b[0m\u001b[0;34m\u001b[0m\u001b[0m\n\u001b[0m",
      "\u001b[0;31mNameError\u001b[0m: name 'df' is not defined"
     ]
    }
   ],
   "source": [
    "data_df.to_parquet(\"data.parquet\", compression='gzip')"
   ]
  }
 ],
 "metadata": {
  "kernelspec": {
   "name": "python37964bit3bffe351162749fba048ab36cc01edff",
   "display_name": "Python 3.7.9 64-bit",
   "language": "python"
  },
  "language_info": {
   "codemirror_mode": {
    "name": "ipython",
    "version": 3
   },
   "file_extension": ".py",
   "mimetype": "text/x-python",
   "name": "python",
   "nbconvert_exporter": "python",
   "pygments_lexer": "ipython3",
   "version": "3.7.9-final"
  }
 },
 "nbformat": 4,
 "nbformat_minor": 4
}