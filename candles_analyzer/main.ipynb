{
 "cells": [
  {
   "cell_type": "code",
   "execution_count": 2,
   "metadata": {},
   "outputs": [],
   "source": [
    "# Example python program to read data from a PostgreSQL table\n",
    "\n",
    "# and load into a pandas DataFrame\n",
    "\n",
    "import psycopg2\n",
    "\n",
    "import pandas as pd\n",
    "\n",
    "from sqlalchemy import create_engine"
   ]
  },
  {
   "cell_type": "code",
   "execution_count": 3,
   "metadata": {},
   "outputs": [],
   "source": [
    "dbUser = \"postgres\"\n",
    "dbPassword = \"postgres\"\n",
    "dbHostname = \"localhost\"\n",
    "dbPort = 5432\n",
    "dbName = \"tinkoff\"\n",
    "\n",
    "connectionString = \"postgresql://%s:%s@%s:%d/%s?sslmode=disable\" % (dbUser, dbPassword, dbHostname, dbPort, dbName)\n",
    "# Create an engine instance\n",
    "alchemyEngine = create_engine(connectionString, pool_recycle=3600);"
   ]
  },
  {
   "cell_type": "code",
   "execution_count": 4,
   "metadata": {},
   "outputs": [
    {
     "data": {
      "text/plain": [
       "(85897, 9)"
      ]
     },
     "execution_count": 4,
     "metadata": {},
     "output_type": "execute_result"
    }
   ],
   "source": [
    "# Connect to PostgreSQL server\n",
    "dbConnection = alchemyEngine.connect();\n",
    "\n",
    "# Read data from PostgreSQL database table and load into a DataFrame instance\n",
    "df = pd.read_sql(\"\"\"\n",
    "SELECT name, instrument.id, figi, ts, open_price, close_price, high_price, low_price, volume\n",
    "FROM candle\n",
    "LEFT JOIN instrument\n",
    " ON candle.instrument_id=instrument.id\n",
    "WHERE instrument.id < 4\"\"\", dbConnection);\n",
    "\n",
    "pd.set_option('display.expand_frame_repr', False);\n",
    "\n",
    "# Close the database connectio\n",
    "dbConnection.close();\n",
    "\n",
    "# Print the DataFrame\n",
    "df.shape"
   ]
  },
  {
   "cell_type": "code",
   "execution_count": 5,
   "metadata": {},
   "outputs": [
    {
     "data": {
      "text/html": [
       "<div>\n",
       "<style scoped>\n",
       "    .dataframe tbody tr th:only-of-type {\n",
       "        vertical-align: middle;\n",
       "    }\n",
       "\n",
       "    .dataframe tbody tr th {\n",
       "        vertical-align: top;\n",
       "    }\n",
       "\n",
       "    .dataframe thead th {\n",
       "        text-align: right;\n",
       "    }\n",
       "</style>\n",
       "<table border=\"1\" class=\"dataframe\">\n",
       "  <thead>\n",
       "    <tr style=\"text-align: right;\">\n",
       "      <th></th>\n",
       "      <th>name</th>\n",
       "      <th>id</th>\n",
       "      <th>figi</th>\n",
       "      <th>ts</th>\n",
       "      <th>open_price</th>\n",
       "      <th>close_price</th>\n",
       "      <th>high_price</th>\n",
       "      <th>low_price</th>\n",
       "      <th>volume</th>\n",
       "    </tr>\n",
       "  </thead>\n",
       "  <tbody>\n",
       "    <tr>\n",
       "      <th>0</th>\n",
       "      <td>JPMorgan</td>\n",
       "      <td>1</td>\n",
       "      <td>BBG000DMBXR2</td>\n",
       "      <td>2018-02-08 20:45:00+00:00</td>\n",
       "      <td>108.96</td>\n",
       "      <td>108.57</td>\n",
       "      <td>108.99</td>\n",
       "      <td>108.57</td>\n",
       "      <td>960.0</td>\n",
       "    </tr>\n",
       "    <tr>\n",
       "      <th>1</th>\n",
       "      <td>JPMorgan</td>\n",
       "      <td>1</td>\n",
       "      <td>BBG000DMBXR2</td>\n",
       "      <td>2018-02-08 20:30:00+00:00</td>\n",
       "      <td>109.44</td>\n",
       "      <td>109.44</td>\n",
       "      <td>109.44</td>\n",
       "      <td>109.44</td>\n",
       "      <td>300.0</td>\n",
       "    </tr>\n",
       "    <tr>\n",
       "      <th>2</th>\n",
       "      <td>Bank of America Corp</td>\n",
       "      <td>3</td>\n",
       "      <td>BBG000BCTLF6</td>\n",
       "      <td>2018-02-08 20:45:00+00:00</td>\n",
       "      <td>29.76</td>\n",
       "      <td>29.76</td>\n",
       "      <td>29.76</td>\n",
       "      <td>29.76</td>\n",
       "      <td>800.0</td>\n",
       "    </tr>\n",
       "    <tr>\n",
       "      <th>3</th>\n",
       "      <td>JPMorgan</td>\n",
       "      <td>1</td>\n",
       "      <td>BBG000DMBXR2</td>\n",
       "      <td>2018-02-09 21:00:00+00:00</td>\n",
       "      <td>110.17</td>\n",
       "      <td>110.17</td>\n",
       "      <td>110.17</td>\n",
       "      <td>110.17</td>\n",
       "      <td>2.0</td>\n",
       "    </tr>\n",
       "    <tr>\n",
       "      <th>4</th>\n",
       "      <td>JPMorgan</td>\n",
       "      <td>1</td>\n",
       "      <td>BBG000DMBXR2</td>\n",
       "      <td>2018-02-09 20:45:00+00:00</td>\n",
       "      <td>110.20</td>\n",
       "      <td>110.12</td>\n",
       "      <td>110.89</td>\n",
       "      <td>109.92</td>\n",
       "      <td>73128.0</td>\n",
       "    </tr>\n",
       "  </tbody>\n",
       "</table>\n",
       "</div>"
      ],
      "text/plain": [
       "                   name  id          figi                        ts  open_price  close_price  high_price  low_price   volume\n",
       "0              JPMorgan   1  BBG000DMBXR2 2018-02-08 20:45:00+00:00      108.96       108.57      108.99     108.57    960.0\n",
       "1              JPMorgan   1  BBG000DMBXR2 2018-02-08 20:30:00+00:00      109.44       109.44      109.44     109.44    300.0\n",
       "2  Bank of America Corp   3  BBG000BCTLF6 2018-02-08 20:45:00+00:00       29.76        29.76       29.76      29.76    800.0\n",
       "3              JPMorgan   1  BBG000DMBXR2 2018-02-09 21:00:00+00:00      110.17       110.17      110.17     110.17      2.0\n",
       "4              JPMorgan   1  BBG000DMBXR2 2018-02-09 20:45:00+00:00      110.20       110.12      110.89     109.92  73128.0"
      ]
     },
     "execution_count": 5,
     "metadata": {},
     "output_type": "execute_result"
    }
   ],
   "source": [
    "df.head()"
   ]
  },
  {
   "cell_type": "code",
   "execution_count": 170,
   "metadata": {},
   "outputs": [
    {
     "name": "stdout",
     "output_type": "stream",
     "text": [
      "(33770, 24)\n"
     ]
    },
    {
     "data": {
      "text/html": [
       "<div>\n",
       "<style scoped>\n",
       "    .dataframe tbody tr th:only-of-type {\n",
       "        vertical-align: middle;\n",
       "    }\n",
       "\n",
       "    .dataframe tbody tr th {\n",
       "        vertical-align: top;\n",
       "    }\n",
       "\n",
       "    .dataframe thead th {\n",
       "        text-align: right;\n",
       "    }\n",
       "</style>\n",
       "<table border=\"1\" class=\"dataframe\">\n",
       "  <thead>\n",
       "    <tr style=\"text-align: right;\">\n",
       "      <th></th>\n",
       "      <th>open_price_1</th>\n",
       "      <th>open_price_2</th>\n",
       "      <th>open_price_3</th>\n",
       "      <th>close_price_1</th>\n",
       "      <th>close_price_2</th>\n",
       "      <th>close_price_3</th>\n",
       "      <th>high_price_1</th>\n",
       "      <th>high_price_2</th>\n",
       "      <th>high_price_3</th>\n",
       "      <th>low_price_1</th>\n",
       "      <th>...</th>\n",
       "      <th>volume_3</th>\n",
       "      <th>year</th>\n",
       "      <th>month</th>\n",
       "      <th>day</th>\n",
       "      <th>weekday</th>\n",
       "      <th>hour</th>\n",
       "      <th>minute</th>\n",
       "      <th>target_1</th>\n",
       "      <th>target_2</th>\n",
       "      <th>target_3</th>\n",
       "    </tr>\n",
       "    <tr>\n",
       "      <th>ts</th>\n",
       "      <th></th>\n",
       "      <th></th>\n",
       "      <th></th>\n",
       "      <th></th>\n",
       "      <th></th>\n",
       "      <th></th>\n",
       "      <th></th>\n",
       "      <th></th>\n",
       "      <th></th>\n",
       "      <th></th>\n",
       "      <th></th>\n",
       "      <th></th>\n",
       "      <th></th>\n",
       "      <th></th>\n",
       "      <th></th>\n",
       "      <th></th>\n",
       "      <th></th>\n",
       "      <th></th>\n",
       "      <th></th>\n",
       "      <th></th>\n",
       "      <th></th>\n",
       "    </tr>\n",
       "  </thead>\n",
       "  <tbody>\n",
       "    <tr>\n",
       "      <th>2018-04-05 22:00:00+00:00</th>\n",
       "      <td>111.88</td>\n",
       "      <td>200.77</td>\n",
       "      <td>30.36</td>\n",
       "      <td>111.88</td>\n",
       "      <td>200.77</td>\n",
       "      <td>30.36</td>\n",
       "      <td>111.88</td>\n",
       "      <td>200.77</td>\n",
       "      <td>30.36</td>\n",
       "      <td>111.88</td>\n",
       "      <td>...</td>\n",
       "      <td>1000.0</td>\n",
       "      <td>2018</td>\n",
       "      <td>4</td>\n",
       "      <td>5</td>\n",
       "      <td>3</td>\n",
       "      <td>22</td>\n",
       "      <td>0</td>\n",
       "      <td>111.50</td>\n",
       "      <td>200.50</td>\n",
       "      <td>30.33</td>\n",
       "    </tr>\n",
       "    <tr>\n",
       "      <th>2018-04-05 22:45:00+00:00</th>\n",
       "      <td>111.50</td>\n",
       "      <td>200.50</td>\n",
       "      <td>30.33</td>\n",
       "      <td>111.50</td>\n",
       "      <td>200.50</td>\n",
       "      <td>30.22</td>\n",
       "      <td>111.50</td>\n",
       "      <td>200.50</td>\n",
       "      <td>30.33</td>\n",
       "      <td>111.50</td>\n",
       "      <td>...</td>\n",
       "      <td>1548.0</td>\n",
       "      <td>2018</td>\n",
       "      <td>4</td>\n",
       "      <td>5</td>\n",
       "      <td>3</td>\n",
       "      <td>22</td>\n",
       "      <td>45</td>\n",
       "      <td>111.09</td>\n",
       "      <td>199.25</td>\n",
       "      <td>30.02</td>\n",
       "    </tr>\n",
       "    <tr>\n",
       "      <th>2018-04-05 23:00:00+00:00</th>\n",
       "      <td>111.09</td>\n",
       "      <td>199.25</td>\n",
       "      <td>30.02</td>\n",
       "      <td>110.81</td>\n",
       "      <td>199.00</td>\n",
       "      <td>29.94</td>\n",
       "      <td>111.09</td>\n",
       "      <td>199.25</td>\n",
       "      <td>30.02</td>\n",
       "      <td>110.81</td>\n",
       "      <td>...</td>\n",
       "      <td>1058.0</td>\n",
       "      <td>2018</td>\n",
       "      <td>4</td>\n",
       "      <td>5</td>\n",
       "      <td>3</td>\n",
       "      <td>23</td>\n",
       "      <td>0</td>\n",
       "      <td>110.09</td>\n",
       "      <td>198.50</td>\n",
       "      <td>30.02</td>\n",
       "    </tr>\n",
       "    <tr>\n",
       "      <th>2018-04-05 23:15:00+00:00</th>\n",
       "      <td>110.09</td>\n",
       "      <td>198.50</td>\n",
       "      <td>30.02</td>\n",
       "      <td>110.09</td>\n",
       "      <td>198.50</td>\n",
       "      <td>29.94</td>\n",
       "      <td>110.09</td>\n",
       "      <td>198.50</td>\n",
       "      <td>30.02</td>\n",
       "      <td>110.09</td>\n",
       "      <td>...</td>\n",
       "      <td>1058.0</td>\n",
       "      <td>2018</td>\n",
       "      <td>4</td>\n",
       "      <td>5</td>\n",
       "      <td>3</td>\n",
       "      <td>23</td>\n",
       "      <td>15</td>\n",
       "      <td>110.09</td>\n",
       "      <td>198.50</td>\n",
       "      <td>29.92</td>\n",
       "    </tr>\n",
       "    <tr>\n",
       "      <th>2018-04-05 23:30:00+00:00</th>\n",
       "      <td>110.09</td>\n",
       "      <td>198.50</td>\n",
       "      <td>29.92</td>\n",
       "      <td>110.09</td>\n",
       "      <td>198.25</td>\n",
       "      <td>29.95</td>\n",
       "      <td>110.09</td>\n",
       "      <td>198.50</td>\n",
       "      <td>29.95</td>\n",
       "      <td>110.09</td>\n",
       "      <td>...</td>\n",
       "      <td>5625.0</td>\n",
       "      <td>2018</td>\n",
       "      <td>4</td>\n",
       "      <td>5</td>\n",
       "      <td>3</td>\n",
       "      <td>23</td>\n",
       "      <td>30</td>\n",
       "      <td>110.09</td>\n",
       "      <td>199.21</td>\n",
       "      <td>29.92</td>\n",
       "    </tr>\n",
       "  </tbody>\n",
       "</table>\n",
       "<p>5 rows × 24 columns</p>\n",
       "</div>"
      ],
      "text/plain": [
       "                           open_price_1  open_price_2  open_price_3  close_price_1  close_price_2  close_price_3  high_price_1  high_price_2  high_price_3  low_price_1  ...  volume_3  year  month  day  weekday  hour  minute  target_1  target_2  target_3\n",
       "ts                                                                                                                                                                       ...                                                                                 \n",
       "2018-04-05 22:00:00+00:00        111.88        200.77         30.36         111.88         200.77          30.36        111.88        200.77         30.36       111.88  ...    1000.0  2018      4    5        3    22       0    111.50    200.50     30.33\n",
       "2018-04-05 22:45:00+00:00        111.50        200.50         30.33         111.50         200.50          30.22        111.50        200.50         30.33       111.50  ...    1548.0  2018      4    5        3    22      45    111.09    199.25     30.02\n",
       "2018-04-05 23:00:00+00:00        111.09        199.25         30.02         110.81         199.00          29.94        111.09        199.25         30.02       110.81  ...    1058.0  2018      4    5        3    23       0    110.09    198.50     30.02\n",
       "2018-04-05 23:15:00+00:00        110.09        198.50         30.02         110.09         198.50          29.94        110.09        198.50         30.02       110.09  ...    1058.0  2018      4    5        3    23      15    110.09    198.50     29.92\n",
       "2018-04-05 23:30:00+00:00        110.09        198.50         29.92         110.09         198.25          29.95        110.09        198.50         29.95       110.09  ...    5625.0  2018      4    5        3    23      30    110.09    199.21     29.92\n",
       "\n",
       "[5 rows x 24 columns]"
      ]
     },
     "execution_count": 170,
     "metadata": {},
     "output_type": "execute_result"
    }
   ],
   "source": [
    "df_data_set = pd.DataFrame()\n",
    "\n",
    "metric_names = ['open_price','close_price','high_price','low_price','volume']\n",
    "\n",
    "for metric_name in metric_names:\n",
    "    # Pivot table and create data set part with single metric\n",
    "    df_buf = df.pivot(index='ts', columns='id')[metric_name]\n",
    "    \n",
    "    # Rename column\n",
    "    df_buf.columns = ['%s_%d' % (metric_name, x) for x in df_buf.columns]\n",
    "    \n",
    "    # Concat dataset\n",
    "    df_data_set = pd.concat([df_data_set, df_buf], axis=1, sort=False)\n",
    "\n",
    "# Add timestamp features\n",
    "df_data_set['year'] = df_data_set.index.year\n",
    "df_data_set['month'] = df_data_set.index.month\n",
    "df_data_set['day'] = df_data_set.index.day\n",
    "df_data_set['weekday'] = df_data_set.index.weekday\n",
    "df_data_set['hour'] = df_data_set.index.hour\n",
    "df_data_set['minute'] = df_data_set.index.minute\n",
    "\n",
    "\n",
    "# Add target column\n",
    "target_name = 'open_price'\n",
    "# Pivot table and create data set part with single metric\n",
    "df_buf = df.pivot(index='ts', columns='id')[target_name]\n",
    "# Add target metric\n",
    "df_buf = df_buf.shift(-1)\n",
    "# Rename column\n",
    "df_buf.columns = ['target_%d' % x for x in df_buf.columns]\n",
    "# Concat dataset\n",
    "df_data_set = pd.concat([df_data_set, df_buf], axis=1, sort=False)\n",
    "\n",
    "\n",
    "# Fill NAN\n",
    "df_data_set = df_data_set.fillna(method='ffill')\n",
    "\n",
    "# Remove nan\n",
    "df_data_set = df_data_set.dropna()\n",
    "\n",
    "print(df_data_set.shape)\n",
    "df_data_set.head()"
   ]
  },
  {
   "cell_type": "code",
   "execution_count": 171,
   "metadata": {},
   "outputs": [
    {
     "data": {
      "text/plain": [
       "<AxesSubplot:xlabel='ts'>"
      ]
     },
     "execution_count": 171,
     "metadata": {},
     "output_type": "execute_result"
    },
    {
     "data": {
      "image/png": "[encoded data removed]",
      "text/plain": [
       "<Figure size 432x288 with 1 Axes>"
      ]
     },
     "metadata": {
      "needs_background": "light"
     },
     "output_type": "display_data"
    }
   ],
   "source": [
    "df_data_set.iloc[:,:4].plot()"
   ]
  },
  {
   "cell_type": "markdown",
   "metadata": {},
   "source": [
    "# Neural network"
   ]
  },
  {
   "cell_type": "code",
   "execution_count": 172,
   "metadata": {},
   "outputs": [],
   "source": [
    "import tensorflow as tf\n",
    "from tensorflow import keras\n",
    "from tensorflow.keras import layers\n",
    "from sklearn.model_selection import train_test_split\n",
    "\n",
    "from sklearn.preprocessing import MinMaxScaler\n",
    "\n",
    "import numpy as np\n",
    "\n",
    "import matplotlib.pyplot as plt"
   ]
  },
  {
   "cell_type": "code",
   "execution_count": 185,
   "metadata": {},
   "outputs": [
    {
     "name": "stdout",
     "output_type": "stream",
     "text": [
      "(22575, 51, 21)\n",
      "(22575, 3)\n",
      "(11095, 51, 21)\n",
      "(11095, 3)\n"
     ]
    }
   ],
   "source": [
    "X_size = ((df_data_set.shape[1] - 6) // len(metric_names)) * len(metric_names) + 6\n",
    "y_size = df_data_set.shape[1] - X_size\n",
    "\n",
    "\n",
    "# Cut features and targets\n",
    "X = df_data_set.iloc[:,:X_size]\n",
    "y = df_data_set.iloc[:,X_size:X_size+y_size]\n",
    "\n",
    "# Split train and test data\n",
    "X_train, X_test, y_train, y_test = train_test_split(X, y, test_size=0.33, shuffle=False)\n",
    "\n",
    "# scale inputs with MinMaxScaler()\n",
    "input_scaler =  MinMaxScaler()\n",
    "# fit scaler\n",
    "input_scaler.fit(X_train)\n",
    "# transform training dataset\n",
    "X_train = input_scaler.transform(X_train)\n",
    "# transform test dataset\n",
    "X_test = input_scaler.transform(X_test)\n",
    "\n",
    "# Transform output with MinMaxScaler()\n",
    "output_scaler = MinMaxScaler()\n",
    "# fit scaler on training dataset\n",
    "output_scaler.fit(y_train)\n",
    "# transform training dataset\n",
    "y_train = output_scaler.transform(y_train)\n",
    "# transform test dataset\n",
    "y_test = output_scaler.transform(y_test)\n",
    "\n",
    "# Reshape and create loopback\n",
    "look_back = 50\n",
    "\n",
    "def reshape_with_look_back(look_back, dataset):\n",
    "    output = np.ndarray(((dataset.shape[0] - look_back), look_back + 1, dataset.shape[1]))\n",
    "\n",
    "    for i in range(look_back, dataset.shape[0]):\n",
    "        output[i-look_back] = dataset[i-look_back:i+1]\n",
    "\n",
    "    return output\n",
    "\n",
    "# Create look back for input\n",
    "X_train = reshape_with_look_back(look_back, X_train)\n",
    "X_test = reshape_with_look_back(look_back, X_test)\n",
    "\n",
    "# Adopt look back for output\n",
    "y_train = y_train[look_back:]\n",
    "y_test = y_test[look_back:]\n",
    "\n",
    "# TODO Add forward days\n",
    "foward_days = 50\n",
    "\n",
    "print(X_train.shape)\n",
    "print(y_train.shape)\n",
    "print(X_test.shape)\n",
    "print(y_test.shape)"
   ]
  },
  {
   "cell_type": "code",
   "execution_count": 186,
   "metadata": {},
   "outputs": [
    {
     "name": "stdout",
     "output_type": "stream",
     "text": [
      "Train on 22575 samples, validate on 11095 samples\n",
      "Epoch 1/10\n",
      " - 24s - loss: 0.0042 - acc: 0.8410 - val_loss: 0.0050 - val_acc: 0.7133\n",
      "Epoch 2/10\n",
      " - 22s - loss: 1.9096e-04 - acc: 0.9195 - val_loss: 0.0029 - val_acc: 0.8762\n",
      "Epoch 3/10\n",
      " - 22s - loss: 1.5252e-04 - acc: 0.9383 - val_loss: 0.0024 - val_acc: 0.8909\n",
      "Epoch 4/10\n",
      " - 23s - loss: 1.3952e-04 - acc: 0.9432 - val_loss: 0.0020 - val_acc: 0.8818\n",
      "Epoch 5/10\n",
      " - 22s - loss: 1.3356e-04 - acc: 0.9406 - val_loss: 0.0015 - val_acc: 0.8914\n",
      "Epoch 6/10\n",
      " - 22s - loss: 1.2527e-04 - acc: 0.9434 - val_loss: 0.0013 - val_acc: 0.9109\n",
      "Epoch 7/10\n",
      " - 22s - loss: 1.1659e-04 - acc: 0.9415 - val_loss: 0.0011 - val_acc: 0.9115\n",
      "Epoch 8/10\n",
      " - 26s - loss: 1.0975e-04 - acc: 0.9471 - val_loss: 0.0012 - val_acc: 0.9116\n",
      "Epoch 9/10\n",
      " - 23s - loss: 1.0944e-04 - acc: 0.9410 - val_loss: 0.0011 - val_acc: 0.9171\n",
      "Epoch 10/10\n",
      " - 26s - loss: 1.0414e-04 - acc: 0.9413 - val_loss: 0.0010 - val_acc: 0.9036\n"
     ]
    },
    {
     "data": {
      "image/png": "[encoded data removed]",
      "text/plain": [
       "<Figure size 432x288 with 1 Axes>"
      ]
     },
     "metadata": {
      "needs_background": "light"
     },
     "output_type": "display_data"
    },
    {
     "data": {
      "image/png": "[encoded data removed]",
      "text/plain": [
       "<Figure size 432x288 with 1 Axes>"
      ]
     },
     "metadata": {
      "needs_background": "light"
     },
     "output_type": "display_data"
    }
   ],
   "source": [
    "#Build the model\n",
    "model = keras.Sequential()\n",
    "model.add(layers.LSTM(100, input_shape=(look_back + 1,X_size), return_sequences=True))\n",
    "model.add(layers.LSTM(50, input_shape=(100,1)))\n",
    "model.add(layers.Dense(y_size))\n",
    "model.compile(loss='mean_squared_error', optimizer='adam', metrics=['accuracy'])\n",
    "\n",
    "history = model.fit(X_train,y_train,epochs=10,validation_data=(X_test,y_test),shuffle=True,batch_size=100, verbose=2)\n",
    "\n",
    "# summarize history for accuracy\n",
    "plt.plot(history.history['acc'])\n",
    "plt.plot(history.history['val_acc'])\n",
    "plt.title('model accuracy')\n",
    "plt.ylabel('accuracy')\n",
    "plt.xlabel('epoch')\n",
    "plt.legend(['train', 'test'], loc='upper left')\n",
    "plt.show()\n",
    "# summarize history for loss\n",
    "plt.plot(history.history['loss'])\n",
    "plt.plot(history.history['val_loss'])\n",
    "plt.title('model loss')\n",
    "plt.ylabel('loss')\n",
    "plt.xlabel('epoch')\n",
    "plt.legend(['train', 'test'], loc='upper left')\n",
    "plt.show()"
   ]
  },
  {
   "cell_type": "markdown",
   "metadata": {},
   "source": [
    "# Prediction"
   ]
  },
  {
   "cell_type": "code",
   "execution_count": 191,
   "metadata": {},
   "outputs": [
    {
     "data": {
      "text/plain": [
       "[<matplotlib.lines.Line2D at 0x7fb373c67f90>]"
      ]
     },
     "execution_count": 191,
     "metadata": {},
     "output_type": "execute_result"
    },
    {
     "data": {
      "image/png": "[encoded data removed]",
      "text/plain": [
       "<Figure size 432x288 with 1 Axes>"
      ]
     },
     "metadata": {
      "needs_background": "light"
     },
     "output_type": "display_data"
    }
   ],
   "source": [
    "plt.plot(y_test[:,0])"
   ]
  },
  {
   "cell_type": "code",
   "execution_count": 192,
   "metadata": {},
   "outputs": [
    {
     "data": {
      "text/plain": [
       "[<matplotlib.lines.Line2D at 0x7fb37476d210>]"
      ]
     },
     "execution_count": 192,
     "metadata": {},
     "output_type": "execute_result"
    },
    {
     "data": {
      "image/png": "[encoded data removed]",
      "text/plain": [
       "<Figure size 432x288 with 1 Axes>"
      ]
     },
     "metadata": {
      "needs_background": "light"
     },
     "output_type": "display_data"
    }
   ],
   "source": [
    "plt.plot(output_scaler.inverse_transform(y_test)[:,0])"
   ]
  },
  {
   "cell_type": "code",
   "execution_count": 189,
   "metadata": {},
   "outputs": [],
   "source": [
    "y_pred_test = model.predict(X_test)"
   ]
  },
  {
   "cell_type": "code",
   "execution_count": 190,
   "metadata": {},
   "outputs": [
    {
     "data": {
      "text/plain": [
       "[<matplotlib.lines.Line2D at 0x7fb37324c8d0>]"
      ]
     },
     "execution_count": 190,
     "metadata": {},
     "output_type": "execute_result"
    },
    {
     "data": {
      "image/png": "[encoded data removed]",
      "text/plain": [
       "<Figure size 432x288 with 1 Axes>"
      ]
     },
     "metadata": {
      "needs_background": "light"
     },
     "output_type": "display_data"
    }
   ],
   "source": [
    "plt.plot(output_scaler.inverse_transform(y_pred_test)[:,0])"
   ]
  }
 ],
 "metadata": {
  "kernelspec": {
   "display_name": "Python 3",
   "language": "python",
   "name": "python3"
  },
  "language_info": {
   "codemirror_mode": {
    "name": "ipython",
    "version": 3
   },
   "file_extension": ".py",
   "mimetype": "text/x-python",
   "name": "python",
   "nbconvert_exporter": "python",
   "pygments_lexer": "ipython3",
   "version": "3.7.6"
  }
 },
 "nbformat": 4,
 "nbformat_minor": 4
}
