{
 "cells": [
  {
   "cell_type": "code",
   "execution_count": 1,
   "metadata": {},
   "outputs": [],
   "source": [
    "# Example python program to read data from a PostgreSQL table\n",
    "\n",
    "# and load into a pandas DataFrame\n",
    "\n",
    "import psycopg2\n",
    "\n",
    "import pandas as pd\n",
    "\n",
    "import re\n",
    "\n",
    "from sqlalchemy import create_engine"
   ]
  },
  {
   "cell_type": "code",
   "execution_count": 2,
   "metadata": {},
   "outputs": [],
   "source": [
    "dbUser = \"postgres\"\n",
    "dbPassword = \"postgres\"\n",
    "dbHostname = \"localhost\"\n",
    "dbPort = 5432\n",
    "dbName = \"tinkoff\"\n",
    "\n",
    "connectionString = \"postgresql://%s:%s@%s:%d/%s?sslmode=disable\" % (dbUser, dbPassword, dbHostname, dbPort, dbName)\n",
    "# Create an engine instance\n",
    "alchemyEngine = create_engine(connectionString, pool_recycle=3600);"
   ]
  },
  {
   "cell_type": "code",
   "execution_count": null,
   "metadata": {},
   "outputs": [],
   "source": []
  },
  {
   "cell_type": "code",
   "execution_count": 3,
   "metadata": {},
   "outputs": [
    {
     "output_type": "execute_result",
     "data": {
      "text/plain": "(1596435, 9)"
     },
     "metadata": {},
     "execution_count": 3
    }
   ],
   "source": [
    "# Connect to PostgreSQL server\n",
    "dbConnection = alchemyEngine.connect();\n",
    "\n",
    "# Read data from PostgreSQL database table and load into a DataFrame instance\n",
    "df = pd.read_sql(\"\"\"\n",
    "SELECT name, instrument.id, figi, ts, open_price, close_price, high_price, low_price, volume\n",
    "FROM candle\n",
    "LEFT JOIN instrument\n",
    " ON candle.instrument_id=instrument.id\"\"\", dbConnection);\n",
    "\n",
    "pd.set_option('display.expand_frame_repr', False);\n",
    "\n",
    "# Close the database connectio\n",
    "dbConnection.close();\n",
    "\n",
    "# Drop duplicates\n",
    "df = df.drop_duplicates()\n",
    "\n",
    "# Print the DataFrame\n",
    "df.shape"
   ]
  },
  {
   "cell_type": "markdown",
   "metadata": {},
   "source": [
    "## Generate parquet"
   ]
  },
  {
   "cell_type": "code",
   "execution_count": 4,
   "metadata": {},
   "outputs": [],
   "source": [
    "df.to_parquet(\"data.parquet\", compression='gzip')"
   ]
  },
  {
   "cell_type": "markdown",
   "metadata": {},
   "source": [
    "## Load parquet"
   ]
  },
  {
   "cell_type": "code",
   "execution_count": 182,
   "metadata": {},
   "outputs": [],
   "source": [
    "df = pd.read_parquet(\"data.parquet\")"
   ]
  },
  {
   "cell_type": "code",
   "execution_count": 183,
   "metadata": {},
   "outputs": [
    {
     "output_type": "execute_result",
     "data": {
      "text/plain": [
       "       name  id          figi                        ts  open_price  \\\n",
       "0  JPMorgan   1  BBG000DMBXR2 2018-01-23 21:00:00+00:00      114.02   \n",
       "1  JPMorgan   1  BBG000DMBXR2 2018-01-23 20:00:00+00:00      114.43   \n",
       "2  JPMorgan   1  BBG000DMBXR2 2018-01-23 19:00:00+00:00      114.50   \n",
       "3  JPMorgan   1  BBG000DMBXR2 2018-01-23 18:00:00+00:00      114.43   \n",
       "4  JPMorgan   1  BBG000DMBXR2 2018-01-23 17:00:00+00:00      114.28   \n",
       "\n",
       "   close_price  high_price  low_price    volume  \n",
       "0       114.02      114.02     114.02      16.0  \n",
       "1       114.23      114.43     114.16  314028.0  \n",
       "2       114.43      114.62     114.27  172536.0  \n",
       "3       114.50      114.64     114.40  151600.0  \n",
       "4       114.44      114.51     114.23   96186.0  "
      ],
      "text/html": "<div>\n<style scoped>\n    .dataframe tbody tr th:only-of-type {\n        vertical-align: middle;\n    }\n\n    .dataframe tbody tr th {\n        vertical-align: top;\n    }\n\n    .dataframe thead th {\n        text-align: right;\n    }\n</style>\n<table border=\"1\" class=\"dataframe\">\n  <thead>\n    <tr style=\"text-align: right;\">\n      <th></th>\n      <th>name</th>\n      <th>id</th>\n      <th>figi</th>\n      <th>ts</th>\n      <th>open_price</th>\n      <th>close_price</th>\n      <th>high_price</th>\n      <th>low_price</th>\n      <th>volume</th>\n    </tr>\n  </thead>\n  <tbody>\n    <tr>\n      <th>0</th>\n      <td>JPMorgan</td>\n      <td>1</td>\n      <td>BBG000DMBXR2</td>\n      <td>2018-01-23 21:00:00+00:00</td>\n      <td>114.02</td>\n      <td>114.02</td>\n      <td>114.02</td>\n      <td>114.02</td>\n      <td>16.0</td>\n    </tr>\n    <tr>\n      <th>1</th>\n      <td>JPMorgan</td>\n      <td>1</td>\n      <td>BBG000DMBXR2</td>\n      <td>2018-01-23 20:00:00+00:00</td>\n      <td>114.43</td>\n      <td>114.23</td>\n      <td>114.43</td>\n      <td>114.16</td>\n      <td>314028.0</td>\n    </tr>\n    <tr>\n      <th>2</th>\n      <td>JPMorgan</td>\n      <td>1</td>\n      <td>BBG000DMBXR2</td>\n      <td>2018-01-23 19:00:00+00:00</td>\n      <td>114.50</td>\n      <td>114.43</td>\n      <td>114.62</td>\n      <td>114.27</td>\n      <td>172536.0</td>\n    </tr>\n    <tr>\n      <th>3</th>\n      <td>JPMorgan</td>\n      <td>1</td>\n      <td>BBG000DMBXR2</td>\n      <td>2018-01-23 18:00:00+00:00</td>\n      <td>114.43</td>\n      <td>114.50</td>\n      <td>114.64</td>\n      <td>114.40</td>\n      <td>151600.0</td>\n    </tr>\n    <tr>\n      <th>4</th>\n      <td>JPMorgan</td>\n      <td>1</td>\n      <td>BBG000DMBXR2</td>\n      <td>2018-01-23 17:00:00+00:00</td>\n      <td>114.28</td>\n      <td>114.44</td>\n      <td>114.51</td>\n      <td>114.23</td>\n      <td>96186.0</td>\n    </tr>\n  </tbody>\n</table>\n</div>"
     },
     "metadata": {},
     "execution_count": 183
    }
   ],
   "source": [
    "df.head()"
   ]
  },
  {
   "cell_type": "markdown",
   "metadata": {},
   "source": [
    "## Limit instruments count"
   ]
  },
  {
   "cell_type": "code",
   "execution_count": 184,
   "metadata": {},
   "outputs": [],
   "source": [
    "df = df[df[\"id\"] <= 10]"
   ]
  },
  {
   "cell_type": "code",
   "execution_count": 185,
   "metadata": {},
   "outputs": [],
   "source": [
    "instruments_count = df[\"id\"].unique().size"
   ]
  },
  {
   "cell_type": "markdown",
   "metadata": {},
   "source": [
    "## Preprocess data"
   ]
  },
  {
   "cell_type": "code",
   "execution_count": 186,
   "metadata": {
    "tags": []
   },
   "outputs": [
    {
     "output_type": "stream",
     "name": "stdout",
     "text": [
      "(1298, 66)\n"
     ]
    },
    {
     "output_type": "execute_result",
     "data": {
      "text/plain": [
       "       open_price_1  open_price_2  open_price_3  open_price_4  open_price_5  \\\n",
       "count   1298.000000   1298.000000   1298.000000   1298.000000   1298.000000   \n",
       "mean     120.127188    210.393914     30.149006     58.696649     37.351772   \n",
       "std        8.540918      7.195184      2.324084      5.363102      1.351878   \n",
       "min      104.270000    195.730000     26.200000     49.997500     33.950000   \n",
       "25%      112.980000    205.317500     27.980000     54.363125     36.980000   \n",
       "50%      119.200000    209.550000     29.880000     57.392500     37.555000   \n",
       "75%      129.040000    218.060000     32.720000     64.596875     38.227500   \n",
       "max      135.670000    223.500000     33.780000     67.697500     39.800000   \n",
       "\n",
       "       open_price_6  open_price_7  open_price_8  open_price_9  open_price_10  \\\n",
       "count   1298.000000   1298.000000   1298.000000   1298.000000    1298.000000   \n",
       "mean      49.931325     69.983698     59.416387     57.753929    1775.860154   \n",
       "std        3.098412      4.282393      1.320888      1.505259      34.398669   \n",
       "min       43.380000     60.590000     55.600000     54.640000    1662.000000   \n",
       "25%       48.252500     66.902500     59.112500     56.490000    1749.212500   \n",
       "50%       49.455000     69.875000     59.810000     57.850000    1774.175000   \n",
       "75%       53.200000     74.065000     60.290000     58.795000    1802.712500   \n",
       "max       54.720000     76.240000     61.430000     61.000000    1850.700000   \n",
       "\n",
       "       ...     target_1     target_2     target_3     target_4     target_5  \\\n",
       "count  ...  1298.000000  1298.000000  1298.000000  1298.000000  1298.000000   \n",
       "mean   ...   120.158428   210.407473    30.155616    58.716949    37.353960   \n",
       "std    ...     8.545964     7.199936     2.327080     5.369492     1.348308   \n",
       "min    ...   104.260000   195.370000    26.150000    49.995000    33.900000   \n",
       "25%    ...   113.042500   205.315000    27.992500    54.380625    36.980000   \n",
       "50%    ...   119.245000   209.570000    29.885000    57.456250    37.555000   \n",
       "75%    ...   129.037500   218.000000    32.727500    64.614375    38.200000   \n",
       "max    ...   135.670000   224.090000    33.780000    67.700000    39.630000   \n",
       "\n",
       "          target_6     target_7     target_8     target_9    target_10  \n",
       "count  1298.000000  1298.000000  1298.000000  1298.000000  1298.000000  \n",
       "mean     49.939168    70.002966    59.420724    57.749584  1775.580508  \n",
       "std       3.094889     4.282036     1.321591     1.507506    34.406810  \n",
       "min      43.380000    60.330000    55.580000    54.670000  1652.950000  \n",
       "25%      48.260000    66.930000    59.112500    56.490000  1749.815000  \n",
       "50%      49.515000    69.880000    59.810000    57.840000  1774.080000  \n",
       "75%      53.200000    74.050000    60.290000    58.860000  1802.322500  \n",
       "max      54.750000    76.240000    61.300000    61.000000  1848.830000  \n",
       "\n",
       "[8 rows x 66 columns]"
      ],
      "text/html": "<div>\n<style scoped>\n    .dataframe tbody tr th:only-of-type {\n        vertical-align: middle;\n    }\n\n    .dataframe tbody tr th {\n        vertical-align: top;\n    }\n\n    .dataframe thead th {\n        text-align: right;\n    }\n</style>\n<table border=\"1\" class=\"dataframe\">\n  <thead>\n    <tr style=\"text-align: right;\">\n      <th></th>\n      <th>open_price_1</th>\n      <th>open_price_2</th>\n      <th>open_price_3</th>\n      <th>open_price_4</th>\n      <th>open_price_5</th>\n      <th>open_price_6</th>\n      <th>open_price_7</th>\n      <th>open_price_8</th>\n      <th>open_price_9</th>\n      <th>open_price_10</th>\n      <th>...</th>\n      <th>target_1</th>\n      <th>target_2</th>\n      <th>target_3</th>\n      <th>target_4</th>\n      <th>target_5</th>\n      <th>target_6</th>\n      <th>target_7</th>\n      <th>target_8</th>\n      <th>target_9</th>\n      <th>target_10</th>\n    </tr>\n  </thead>\n  <tbody>\n    <tr>\n      <th>count</th>\n      <td>1298.000000</td>\n      <td>1298.000000</td>\n      <td>1298.000000</td>\n      <td>1298.000000</td>\n      <td>1298.000000</td>\n      <td>1298.000000</td>\n      <td>1298.000000</td>\n      <td>1298.000000</td>\n      <td>1298.000000</td>\n      <td>1298.000000</td>\n      <td>...</td>\n      <td>1298.000000</td>\n      <td>1298.000000</td>\n      <td>1298.000000</td>\n      <td>1298.000000</td>\n      <td>1298.000000</td>\n      <td>1298.000000</td>\n      <td>1298.000000</td>\n      <td>1298.000000</td>\n      <td>1298.000000</td>\n      <td>1298.000000</td>\n    </tr>\n    <tr>\n      <th>mean</th>\n      <td>120.127188</td>\n      <td>210.393914</td>\n      <td>30.149006</td>\n      <td>58.696649</td>\n      <td>37.351772</td>\n      <td>49.931325</td>\n      <td>69.983698</td>\n      <td>59.416387</td>\n      <td>57.753929</td>\n      <td>1775.860154</td>\n      <td>...</td>\n      <td>120.158428</td>\n      <td>210.407473</td>\n      <td>30.155616</td>\n      <td>58.716949</td>\n      <td>37.353960</td>\n      <td>49.939168</td>\n      <td>70.002966</td>\n      <td>59.420724</td>\n      <td>57.749584</td>\n      <td>1775.580508</td>\n    </tr>\n    <tr>\n      <th>std</th>\n      <td>8.540918</td>\n      <td>7.195184</td>\n      <td>2.324084</td>\n      <td>5.363102</td>\n      <td>1.351878</td>\n      <td>3.098412</td>\n      <td>4.282393</td>\n      <td>1.320888</td>\n      <td>1.505259</td>\n      <td>34.398669</td>\n      <td>...</td>\n      <td>8.545964</td>\n      <td>7.199936</td>\n      <td>2.327080</td>\n      <td>5.369492</td>\n      <td>1.348308</td>\n      <td>3.094889</td>\n      <td>4.282036</td>\n      <td>1.321591</td>\n      <td>1.507506</td>\n      <td>34.406810</td>\n    </tr>\n    <tr>\n      <th>min</th>\n      <td>104.270000</td>\n      <td>195.730000</td>\n      <td>26.200000</td>\n      <td>49.997500</td>\n      <td>33.950000</td>\n      <td>43.380000</td>\n      <td>60.590000</td>\n      <td>55.600000</td>\n      <td>54.640000</td>\n      <td>1662.000000</td>\n      <td>...</td>\n      <td>104.260000</td>\n      <td>195.370000</td>\n      <td>26.150000</td>\n      <td>49.995000</td>\n      <td>33.900000</td>\n      <td>43.380000</td>\n      <td>60.330000</td>\n      <td>55.580000</td>\n      <td>54.670000</td>\n      <td>1652.950000</td>\n    </tr>\n    <tr>\n      <th>25%</th>\n      <td>112.980000</td>\n      <td>205.317500</td>\n      <td>27.980000</td>\n      <td>54.363125</td>\n      <td>36.980000</td>\n      <td>48.252500</td>\n      <td>66.902500</td>\n      <td>59.112500</td>\n      <td>56.490000</td>\n      <td>1749.212500</td>\n      <td>...</td>\n      <td>113.042500</td>\n      <td>205.315000</td>\n      <td>27.992500</td>\n      <td>54.380625</td>\n      <td>36.980000</td>\n      <td>48.260000</td>\n      <td>66.930000</td>\n      <td>59.112500</td>\n      <td>56.490000</td>\n      <td>1749.815000</td>\n    </tr>\n    <tr>\n      <th>50%</th>\n      <td>119.200000</td>\n      <td>209.550000</td>\n      <td>29.880000</td>\n      <td>57.392500</td>\n      <td>37.555000</td>\n      <td>49.455000</td>\n      <td>69.875000</td>\n      <td>59.810000</td>\n      <td>57.850000</td>\n      <td>1774.175000</td>\n      <td>...</td>\n      <td>119.245000</td>\n      <td>209.570000</td>\n      <td>29.885000</td>\n      <td>57.456250</td>\n      <td>37.555000</td>\n      <td>49.515000</td>\n      <td>69.880000</td>\n      <td>59.810000</td>\n      <td>57.840000</td>\n      <td>1774.080000</td>\n    </tr>\n    <tr>\n      <th>75%</th>\n      <td>129.040000</td>\n      <td>218.060000</td>\n      <td>32.720000</td>\n      <td>64.596875</td>\n      <td>38.227500</td>\n      <td>53.200000</td>\n      <td>74.065000</td>\n      <td>60.290000</td>\n      <td>58.795000</td>\n      <td>1802.712500</td>\n      <td>...</td>\n      <td>129.037500</td>\n      <td>218.000000</td>\n      <td>32.727500</td>\n      <td>64.614375</td>\n      <td>38.200000</td>\n      <td>53.200000</td>\n      <td>74.050000</td>\n      <td>60.290000</td>\n      <td>58.860000</td>\n      <td>1802.322500</td>\n    </tr>\n    <tr>\n      <th>max</th>\n      <td>135.670000</td>\n      <td>223.500000</td>\n      <td>33.780000</td>\n      <td>67.697500</td>\n      <td>39.800000</td>\n      <td>54.720000</td>\n      <td>76.240000</td>\n      <td>61.430000</td>\n      <td>61.000000</td>\n      <td>1850.700000</td>\n      <td>...</td>\n      <td>135.670000</td>\n      <td>224.090000</td>\n      <td>33.780000</td>\n      <td>67.700000</td>\n      <td>39.630000</td>\n      <td>54.750000</td>\n      <td>76.240000</td>\n      <td>61.300000</td>\n      <td>61.000000</td>\n      <td>1848.830000</td>\n    </tr>\n  </tbody>\n</table>\n<p>8 rows × 66 columns</p>\n</div>"
     },
     "metadata": {},
     "execution_count": 186
    }
   ],
   "source": [
    "metric_names = ['open_price','close_price','high_price','low_price','volume']\n",
    "\n",
    "df_data_set = pd.DataFrame()\n",
    "\n",
    "for metric_name in metric_names:\n",
    "    # Pivot table and create data set part with single metric\n",
    "    df_buf = df.pivot(index='ts', columns='id')[metric_name]\n",
    "    \n",
    "    # Rename column\n",
    "    df_buf.columns = ['%s_%d' % (metric_name, x) for x in df_buf.columns]\n",
    "    \n",
    "    # Concat dataset\n",
    "    df_data_set = pd.concat([df_data_set, df_buf], axis=1, sort=False)\n",
    "\n",
    "# Add timestamp features\n",
    "df_data_set['year'] = df_data_set.index.year\n",
    "df_data_set['month'] = df_data_set.index.month\n",
    "df_data_set['day'] = df_data_set.index.day\n",
    "df_data_set['weekday'] = df_data_set.index.weekday\n",
    "df_data_set['hour'] = df_data_set.index.hour\n",
    "df_data_set['minute'] = df_data_set.index.minute\n",
    "\n",
    "# Add target column\n",
    "target_name = 'close_price'\n",
    "# Pivot table and create data set part with single metric\n",
    "df_buf = df.pivot(index='ts', columns='id')[target_name]\n",
    "# Add target metric\n",
    "df_buf = df_buf.shift(-1)\n",
    "# Rename column\n",
    "df_buf.columns = ['target_%d' % x for x in df_buf.columns]\n",
    "# Concat dataset\n",
    "df_data_set = pd.concat([df_data_set, df_buf], axis=1, sort=False)\n",
    "\n",
    "# Fill NAN\n",
    "df_data_set = df_data_set.fillna(method='ffill')\n",
    "\n",
    "# Remove nan\n",
    "df_data_set = df_data_set.dropna()\n",
    "\n",
    "# Create non time columns list\n",
    "data_columns_list = [x for x in df_data_set.columns if re.match('.*_\\d+', x) is not None]\n",
    "\n",
    "# # Calc percentage\n",
    "# # df_data_set[data_columns_list] /= df_data_set[data_columns_list].iloc[0]\n",
    "# # Calc derivative for each column\n",
    "# df_data_set[data_columns_list] = df_data_set[data_columns_list].diff()\n",
    "# # # Fill first row with zeros\n",
    "# df_data_set = df_data_set.fillna(0)\n",
    "\n",
    "# # Normalize data\n",
    "# column_normalizer = {'year':3000, 'month':12, 'day':31, 'weekday':7, 'hour':24, 'minute':60}\n",
    "# for column_name, normalizer_val in column_normalizer.items():\n",
    "#     df_data_set[column_name] /= normalizer_val\n",
    "\n",
    "# # Calc percentage\n",
    "# # df_data_set /= df_data_set.iloc[0]\n",
    "# # Calc derivative for each column\n",
    "# df_data_set = df_data_set.diff()\n",
    "# # Fill first row with zeros\n",
    "# df_data_set = df_data_set.fillna(0)\n",
    "\n",
    "print(df_data_set.shape)\n",
    "df_data_set.describe()"
   ]
  },
  {
   "cell_type": "code",
   "execution_count": 161,
   "metadata": {},
   "outputs": [
    {
     "output_type": "execute_result",
     "data": {
      "text/plain": [
       "<AxesSubplot:xlabel='ts'>"
      ]
     },
     "metadata": {},
     "execution_count": 161
    },
    {
     "output_type": "display_data",
     "data": {
      "text/plain": "<Figure size 432x288 with 1 Axes>",
      "image/svg+xml": "<?xml version=\"1.0\" encoding=\"utf-8\" standalone=\"no\"?>\n<!DOCTYPE svg PUBLIC \"-//W3C//DTD SVG 1.1//EN\"\n  \"http://www.w3.org/Graphics/SVG/1.1/DTD/svg11.dtd\">\n<!-- Created with matplotlib (https://matplotlib.org/) -->\n<svg height=\"260.191033pt\" version=\"1.1\" viewBox=\"0 0 375.2875 260.191033\" width=\"375.2875pt\" xmlns=\"http://www.w3.org/2000/svg\" xmlns:xlink=\"http://www.w3.org/1999/xlink\">\n <metadata>\n  <rdf:RDF xmlns:cc=\"http://creativecommons.org/ns#\" xmlns:dc=\"http://purl.org/dc/elements/1.1/\" xmlns:rdf=\"http://www.w3.org/1999/02/22-rdf-syntax-ns#\">\n   <cc:Work>\n    <dc:type rdf:resource=\"http://purl.org/dc/dcmitype/StillImage\"/>\n    <dc:date>2020-10-07T20:06:04.268162</dc:date>\n    <dc:format>image/svg+xml</dc:format>\n    <dc:creator>\n     <cc:Agent>\n      <dc:title>Matplotlib v3.3.0, https://matplotlib.org/</dc:title>\n     </cc:Agent>\n    </dc:creator>\n   </cc:Work>\n  </rdf:RDF>\n </metadata>\n <defs>\n  <style type=\"text/css\">*{stroke-linecap:butt;stroke-linejoin:round;}</style>\n </defs>\n <g id=\"figure_1\">\n  <g id=\"patch_1\">\n   <path d=\"M 0 260.191033 \nL 375.2875 260.191033 \nL 375.2875 0 \nL 0 0 \nz\n\" style=\"fill:none;\"/>\n  </g>\n  <g id=\"axes_1\">\n   <g id=\"patch_2\">\n    <path d=\"M 33.2875 203.04 \nL 368.0875 203.04 \nL 368.0875 7.2 \nL 33.2875 7.2 \nz\n\" style=\"fill:#ffffff;\"/>\n   </g>\n   <g id=\"matplotlib.axis_1\">\n    <g id=\"xtick_1\">\n     <g id=\"line2d_1\">\n      <defs>\n       <path d=\"M 0 0 \nL 0 3.5 \n\" id=\"m4866fcef46\" style=\"stroke:#000000;stroke-width:0.8;\"/>\n      </defs>\n      <g>\n       <use style=\"stroke:#000000;stroke-width:0.8;\" x=\"61.021181\" xlink:href=\"#m4866fcef46\" y=\"203.04\"/>\n      </g>\n     </g>\n     <g id=\"text_1\">\n      <!-- 2018-05 -->\n      <g transform=\"translate(23.79636 237.511846)rotate(-30)scale(0.1 -0.1)\">\n       <defs>\n        <path d=\"M 19.1875 8.296875 \nL 53.609375 8.296875 \nL 53.609375 0 \nL 7.328125 0 \nL 7.328125 8.296875 \nQ 12.9375 14.109375 22.625 23.890625 \nQ 32.328125 33.6875 34.8125 36.53125 \nQ 39.546875 41.84375 41.421875 45.53125 \nQ 43.3125 49.21875 43.3125 52.78125 \nQ 43.3125 58.59375 39.234375 62.25 \nQ 35.15625 65.921875 28.609375 65.921875 \nQ 23.96875 65.921875 18.8125 64.3125 \nQ 13.671875 62.703125 7.8125 59.421875 \nL 7.8125 69.390625 \nQ 13.765625 71.78125 18.9375 73 \nQ 24.125 74.21875 28.421875 74.21875 \nQ 39.75 74.21875 46.484375 68.546875 \nQ 53.21875 62.890625 53.21875 53.421875 \nQ 53.21875 48.921875 51.53125 44.890625 \nQ 49.859375 40.875 45.40625 35.40625 \nQ 44.1875 33.984375 37.640625 27.21875 \nQ 31.109375 20.453125 19.1875 8.296875 \nz\n\" id=\"DejaVuSans-50\"/>\n        <path d=\"M 31.78125 66.40625 \nQ 24.171875 66.40625 20.328125 58.90625 \nQ 16.5 51.421875 16.5 36.375 \nQ 16.5 21.390625 20.328125 13.890625 \nQ 24.171875 6.390625 31.78125 6.390625 \nQ 39.453125 6.390625 43.28125 13.890625 \nQ 47.125 21.390625 47.125 36.375 \nQ 47.125 51.421875 43.28125 58.90625 \nQ 39.453125 66.40625 31.78125 66.40625 \nz\nM 31.78125 74.21875 \nQ 44.046875 74.21875 50.515625 64.515625 \nQ 56.984375 54.828125 56.984375 36.375 \nQ 56.984375 17.96875 50.515625 8.265625 \nQ 44.046875 -1.421875 31.78125 -1.421875 \nQ 19.53125 -1.421875 13.0625 8.265625 \nQ 6.59375 17.96875 6.59375 36.375 \nQ 6.59375 54.828125 13.0625 64.515625 \nQ 19.53125 74.21875 31.78125 74.21875 \nz\n\" id=\"DejaVuSans-48\"/>\n        <path d=\"M 12.40625 8.296875 \nL 28.515625 8.296875 \nL 28.515625 63.921875 \nL 10.984375 60.40625 \nL 10.984375 69.390625 \nL 28.421875 72.90625 \nL 38.28125 72.90625 \nL 38.28125 8.296875 \nL 54.390625 8.296875 \nL 54.390625 0 \nL 12.40625 0 \nz\n\" id=\"DejaVuSans-49\"/>\n        <path d=\"M 31.78125 34.625 \nQ 24.75 34.625 20.71875 30.859375 \nQ 16.703125 27.09375 16.703125 20.515625 \nQ 16.703125 13.921875 20.71875 10.15625 \nQ 24.75 6.390625 31.78125 6.390625 \nQ 38.8125 6.390625 42.859375 10.171875 \nQ 46.921875 13.96875 46.921875 20.515625 \nQ 46.921875 27.09375 42.890625 30.859375 \nQ 38.875 34.625 31.78125 34.625 \nz\nM 21.921875 38.8125 \nQ 15.578125 40.375 12.03125 44.71875 \nQ 8.5 49.078125 8.5 55.328125 \nQ 8.5 64.0625 14.71875 69.140625 \nQ 20.953125 74.21875 31.78125 74.21875 \nQ 42.671875 74.21875 48.875 69.140625 \nQ 55.078125 64.0625 55.078125 55.328125 \nQ 55.078125 49.078125 51.53125 44.71875 \nQ 48 40.375 41.703125 38.8125 \nQ 48.828125 37.15625 52.796875 32.3125 \nQ 56.78125 27.484375 56.78125 20.515625 \nQ 56.78125 9.90625 50.3125 4.234375 \nQ 43.84375 -1.421875 31.78125 -1.421875 \nQ 19.734375 -1.421875 13.25 4.234375 \nQ 6.78125 9.90625 6.78125 20.515625 \nQ 6.78125 27.484375 10.78125 32.3125 \nQ 14.796875 37.15625 21.921875 38.8125 \nz\nM 18.3125 54.390625 \nQ 18.3125 48.734375 21.84375 45.5625 \nQ 25.390625 42.390625 31.78125 42.390625 \nQ 38.140625 42.390625 41.71875 45.5625 \nQ 45.3125 48.734375 45.3125 54.390625 \nQ 45.3125 60.0625 41.71875 63.234375 \nQ 38.140625 66.40625 31.78125 66.40625 \nQ 25.390625 66.40625 21.84375 63.234375 \nQ 18.3125 60.0625 18.3125 54.390625 \nz\n\" id=\"DejaVuSans-56\"/>\n        <path d=\"M 4.890625 31.390625 \nL 31.203125 31.390625 \nL 31.203125 23.390625 \nL 4.890625 23.390625 \nz\n\" id=\"DejaVuSans-45\"/>\n        <path d=\"M 10.796875 72.90625 \nL 49.515625 72.90625 \nL 49.515625 64.59375 \nL 19.828125 64.59375 \nL 19.828125 46.734375 \nQ 21.96875 47.46875 24.109375 47.828125 \nQ 26.265625 48.1875 28.421875 48.1875 \nQ 40.625 48.1875 47.75 41.5 \nQ 54.890625 34.8125 54.890625 23.390625 \nQ 54.890625 11.625 47.5625 5.09375 \nQ 40.234375 -1.421875 26.90625 -1.421875 \nQ 22.3125 -1.421875 17.546875 -0.640625 \nQ 12.796875 0.140625 7.71875 1.703125 \nL 7.71875 11.625 \nQ 12.109375 9.234375 16.796875 8.0625 \nQ 21.484375 6.890625 26.703125 6.890625 \nQ 35.15625 6.890625 40.078125 11.328125 \nQ 45.015625 15.765625 45.015625 23.390625 \nQ 45.015625 31 40.078125 35.4375 \nQ 35.15625 39.890625 26.703125 39.890625 \nQ 22.75 39.890625 18.8125 39.015625 \nQ 14.890625 38.140625 10.796875 36.28125 \nz\n\" id=\"DejaVuSans-53\"/>\n       </defs>\n       <use xlink:href=\"#DejaVuSans-50\"/>\n       <use x=\"63.623047\" xlink:href=\"#DejaVuSans-48\"/>\n       <use x=\"127.246094\" xlink:href=\"#DejaVuSans-49\"/>\n       <use x=\"190.869141\" xlink:href=\"#DejaVuSans-56\"/>\n       <use x=\"254.492188\" xlink:href=\"#DejaVuSans-45\"/>\n       <use x=\"290.576172\" xlink:href=\"#DejaVuSans-48\"/>\n       <use x=\"354.199219\" xlink:href=\"#DejaVuSans-53\"/>\n      </g>\n     </g>\n    </g>\n    <g id=\"xtick_2\">\n     <g id=\"line2d_2\">\n      <g>\n       <use style=\"stroke:#000000;stroke-width:0.8;\" x=\"91.457545\" xlink:href=\"#m4866fcef46\" y=\"203.04\"/>\n      </g>\n     </g>\n     <g id=\"text_2\">\n      <!-- 2018-07 -->\n      <g transform=\"translate(54.232724 237.511846)rotate(-30)scale(0.1 -0.1)\">\n       <defs>\n        <path d=\"M 8.203125 72.90625 \nL 55.078125 72.90625 \nL 55.078125 68.703125 \nL 28.609375 0 \nL 18.3125 0 \nL 43.21875 64.59375 \nL 8.203125 64.59375 \nz\n\" id=\"DejaVuSans-55\"/>\n       </defs>\n       <use xlink:href=\"#DejaVuSans-50\"/>\n       <use x=\"63.623047\" xlink:href=\"#DejaVuSans-48\"/>\n       <use x=\"127.246094\" xlink:href=\"#DejaVuSans-49\"/>\n       <use x=\"190.869141\" xlink:href=\"#DejaVuSans-56\"/>\n       <use x=\"254.492188\" xlink:href=\"#DejaVuSans-45\"/>\n       <use x=\"290.576172\" xlink:href=\"#DejaVuSans-48\"/>\n       <use x=\"354.199219\" xlink:href=\"#DejaVuSans-55\"/>\n      </g>\n     </g>\n    </g>\n    <g id=\"xtick_3\">\n     <g id=\"line2d_3\">\n      <g>\n       <use style=\"stroke:#000000;stroke-width:0.8;\" x=\"122.392865\" xlink:href=\"#m4866fcef46\" y=\"203.04\"/>\n      </g>\n     </g>\n     <g id=\"text_3\">\n      <!-- 2018-09 -->\n      <g transform=\"translate(85.168044 237.511846)rotate(-30)scale(0.1 -0.1)\">\n       <defs>\n        <path d=\"M 10.984375 1.515625 \nL 10.984375 10.5 \nQ 14.703125 8.734375 18.5 7.8125 \nQ 22.3125 6.890625 25.984375 6.890625 \nQ 35.75 6.890625 40.890625 13.453125 \nQ 46.046875 20.015625 46.78125 33.40625 \nQ 43.953125 29.203125 39.59375 26.953125 \nQ 35.25 24.703125 29.984375 24.703125 \nQ 19.046875 24.703125 12.671875 31.3125 \nQ 6.296875 37.9375 6.296875 49.421875 \nQ 6.296875 60.640625 12.9375 67.421875 \nQ 19.578125 74.21875 30.609375 74.21875 \nQ 43.265625 74.21875 49.921875 64.515625 \nQ 56.59375 54.828125 56.59375 36.375 \nQ 56.59375 19.140625 48.40625 8.859375 \nQ 40.234375 -1.421875 26.421875 -1.421875 \nQ 22.703125 -1.421875 18.890625 -0.6875 \nQ 15.09375 0.046875 10.984375 1.515625 \nz\nM 30.609375 32.421875 \nQ 37.25 32.421875 41.125 36.953125 \nQ 45.015625 41.5 45.015625 49.421875 \nQ 45.015625 57.28125 41.125 61.84375 \nQ 37.25 66.40625 30.609375 66.40625 \nQ 23.96875 66.40625 20.09375 61.84375 \nQ 16.21875 57.28125 16.21875 49.421875 \nQ 16.21875 41.5 20.09375 36.953125 \nQ 23.96875 32.421875 30.609375 32.421875 \nz\n\" id=\"DejaVuSans-57\"/>\n       </defs>\n       <use xlink:href=\"#DejaVuSans-50\"/>\n       <use x=\"63.623047\" xlink:href=\"#DejaVuSans-48\"/>\n       <use x=\"127.246094\" xlink:href=\"#DejaVuSans-49\"/>\n       <use x=\"190.869141\" xlink:href=\"#DejaVuSans-56\"/>\n       <use x=\"254.492188\" xlink:href=\"#DejaVuSans-45\"/>\n       <use x=\"290.576172\" xlink:href=\"#DejaVuSans-48\"/>\n       <use x=\"354.199219\" xlink:href=\"#DejaVuSans-57\"/>\n      </g>\n     </g>\n    </g>\n    <g id=\"xtick_4\">\n     <g id=\"line2d_4\">\n      <g>\n       <use style=\"stroke:#000000;stroke-width:0.8;\" x=\"152.829229\" xlink:href=\"#m4866fcef46\" y=\"203.04\"/>\n      </g>\n     </g>\n     <g id=\"text_4\">\n      <!-- 2018-11 -->\n      <g transform=\"translate(115.604408 237.511846)rotate(-30)scale(0.1 -0.1)\">\n       <use xlink:href=\"#DejaVuSans-50\"/>\n       <use x=\"63.623047\" xlink:href=\"#DejaVuSans-48\"/>\n       <use x=\"127.246094\" xlink:href=\"#DejaVuSans-49\"/>\n       <use x=\"190.869141\" xlink:href=\"#DejaVuSans-56\"/>\n       <use x=\"254.492188\" xlink:href=\"#DejaVuSans-45\"/>\n       <use x=\"290.576172\" xlink:href=\"#DejaVuSans-49\"/>\n       <use x=\"354.199219\" xlink:href=\"#DejaVuSans-49\"/>\n      </g>\n     </g>\n    </g>\n    <g id=\"xtick_5\">\n     <g id=\"line2d_5\">\n      <g>\n       <use style=\"stroke:#000000;stroke-width:0.8;\" x=\"183.265592\" xlink:href=\"#m4866fcef46\" y=\"203.04\"/>\n      </g>\n     </g>\n     <g id=\"text_5\">\n      <!-- 2019-01 -->\n      <g transform=\"translate(146.040772 237.511846)rotate(-30)scale(0.1 -0.1)\">\n       <use xlink:href=\"#DejaVuSans-50\"/>\n       <use x=\"63.623047\" xlink:href=\"#DejaVuSans-48\"/>\n       <use x=\"127.246094\" xlink:href=\"#DejaVuSans-49\"/>\n       <use x=\"190.869141\" xlink:href=\"#DejaVuSans-57\"/>\n       <use x=\"254.492188\" xlink:href=\"#DejaVuSans-45\"/>\n       <use x=\"290.576172\" xlink:href=\"#DejaVuSans-48\"/>\n       <use x=\"354.199219\" xlink:href=\"#DejaVuSans-49\"/>\n      </g>\n     </g>\n    </g>\n    <g id=\"xtick_6\">\n     <g id=\"line2d_6\">\n      <g>\n       <use style=\"stroke:#000000;stroke-width:0.8;\" x=\"212.704042\" xlink:href=\"#m4866fcef46\" y=\"203.04\"/>\n      </g>\n     </g>\n     <g id=\"text_6\">\n      <!-- 2019-03 -->\n      <g transform=\"translate(175.479222 237.511846)rotate(-30)scale(0.1 -0.1)\">\n       <defs>\n        <path d=\"M 40.578125 39.3125 \nQ 47.65625 37.796875 51.625 33 \nQ 55.609375 28.21875 55.609375 21.1875 \nQ 55.609375 10.40625 48.1875 4.484375 \nQ 40.765625 -1.421875 27.09375 -1.421875 \nQ 22.515625 -1.421875 17.65625 -0.515625 \nQ 12.796875 0.390625 7.625 2.203125 \nL 7.625 11.71875 \nQ 11.71875 9.328125 16.59375 8.109375 \nQ 21.484375 6.890625 26.8125 6.890625 \nQ 36.078125 6.890625 40.9375 10.546875 \nQ 45.796875 14.203125 45.796875 21.1875 \nQ 45.796875 27.640625 41.28125 31.265625 \nQ 36.765625 34.90625 28.71875 34.90625 \nL 20.21875 34.90625 \nL 20.21875 43.015625 \nL 29.109375 43.015625 \nQ 36.375 43.015625 40.234375 45.921875 \nQ 44.09375 48.828125 44.09375 54.296875 \nQ 44.09375 59.90625 40.109375 62.90625 \nQ 36.140625 65.921875 28.71875 65.921875 \nQ 24.65625 65.921875 20.015625 65.03125 \nQ 15.375 64.15625 9.8125 62.3125 \nL 9.8125 71.09375 \nQ 15.4375 72.65625 20.34375 73.4375 \nQ 25.25 74.21875 29.59375 74.21875 \nQ 40.828125 74.21875 47.359375 69.109375 \nQ 53.90625 64.015625 53.90625 55.328125 \nQ 53.90625 49.265625 50.4375 45.09375 \nQ 46.96875 40.921875 40.578125 39.3125 \nz\n\" id=\"DejaVuSans-51\"/>\n       </defs>\n       <use xlink:href=\"#DejaVuSans-50\"/>\n       <use x=\"63.623047\" xlink:href=\"#DejaVuSans-48\"/>\n       <use x=\"127.246094\" xlink:href=\"#DejaVuSans-49\"/>\n       <use x=\"190.869141\" xlink:href=\"#DejaVuSans-57\"/>\n       <use x=\"254.492188\" xlink:href=\"#DejaVuSans-45\"/>\n       <use x=\"290.576172\" xlink:href=\"#DejaVuSans-48\"/>\n       <use x=\"354.199219\" xlink:href=\"#DejaVuSans-51\"/>\n      </g>\n     </g>\n    </g>\n    <g id=\"xtick_7\">\n     <g id=\"line2d_7\">\n      <g>\n       <use style=\"stroke:#000000;stroke-width:0.8;\" x=\"243.140406\" xlink:href=\"#m4866fcef46\" y=\"203.04\"/>\n      </g>\n     </g>\n     <g id=\"text_7\">\n      <!-- 2019-05 -->\n      <g transform=\"translate(205.915585 237.511846)rotate(-30)scale(0.1 -0.1)\">\n       <use xlink:href=\"#DejaVuSans-50\"/>\n       <use x=\"63.623047\" xlink:href=\"#DejaVuSans-48\"/>\n       <use x=\"127.246094\" xlink:href=\"#DejaVuSans-49\"/>\n       <use x=\"190.869141\" xlink:href=\"#DejaVuSans-57\"/>\n       <use x=\"254.492188\" xlink:href=\"#DejaVuSans-45\"/>\n       <use x=\"290.576172\" xlink:href=\"#DejaVuSans-48\"/>\n       <use x=\"354.199219\" xlink:href=\"#DejaVuSans-53\"/>\n      </g>\n     </g>\n    </g>\n    <g id=\"xtick_8\">\n     <g id=\"line2d_8\">\n      <g>\n       <use style=\"stroke:#000000;stroke-width:0.8;\" x=\"273.57677\" xlink:href=\"#m4866fcef46\" y=\"203.04\"/>\n      </g>\n     </g>\n     <g id=\"text_8\">\n      <!-- 2019-07 -->\n      <g transform=\"translate(236.351949 237.511846)rotate(-30)scale(0.1 -0.1)\">\n       <use xlink:href=\"#DejaVuSans-50\"/>\n       <use x=\"63.623047\" xlink:href=\"#DejaVuSans-48\"/>\n       <use x=\"127.246094\" xlink:href=\"#DejaVuSans-49\"/>\n       <use x=\"190.869141\" xlink:href=\"#DejaVuSans-57\"/>\n       <use x=\"254.492188\" xlink:href=\"#DejaVuSans-45\"/>\n       <use x=\"290.576172\" xlink:href=\"#DejaVuSans-48\"/>\n       <use x=\"354.199219\" xlink:href=\"#DejaVuSans-55\"/>\n      </g>\n     </g>\n    </g>\n    <g id=\"xtick_9\">\n     <g id=\"line2d_9\">\n      <g>\n       <use style=\"stroke:#000000;stroke-width:0.8;\" x=\"304.51209\" xlink:href=\"#m4866fcef46\" y=\"203.04\"/>\n      </g>\n     </g>\n     <g id=\"text_9\">\n      <!-- 2019-09 -->\n      <g transform=\"translate(267.287269 237.511846)rotate(-30)scale(0.1 -0.1)\">\n       <use xlink:href=\"#DejaVuSans-50\"/>\n       <use x=\"63.623047\" xlink:href=\"#DejaVuSans-48\"/>\n       <use x=\"127.246094\" xlink:href=\"#DejaVuSans-49\"/>\n       <use x=\"190.869141\" xlink:href=\"#DejaVuSans-57\"/>\n       <use x=\"254.492188\" xlink:href=\"#DejaVuSans-45\"/>\n       <use x=\"290.576172\" xlink:href=\"#DejaVuSans-48\"/>\n       <use x=\"354.199219\" xlink:href=\"#DejaVuSans-57\"/>\n      </g>\n     </g>\n    </g>\n    <g id=\"xtick_10\">\n     <g id=\"line2d_10\">\n      <g>\n       <use style=\"stroke:#000000;stroke-width:0.8;\" x=\"334.948454\" xlink:href=\"#m4866fcef46\" y=\"203.04\"/>\n      </g>\n     </g>\n     <g id=\"text_10\">\n      <!-- 2019-11 -->\n      <g transform=\"translate(297.723633 237.511846)rotate(-30)scale(0.1 -0.1)\">\n       <use xlink:href=\"#DejaVuSans-50\"/>\n       <use x=\"63.623047\" xlink:href=\"#DejaVuSans-48\"/>\n       <use x=\"127.246094\" xlink:href=\"#DejaVuSans-49\"/>\n       <use x=\"190.869141\" xlink:href=\"#DejaVuSans-57\"/>\n       <use x=\"254.492188\" xlink:href=\"#DejaVuSans-45\"/>\n       <use x=\"290.576172\" xlink:href=\"#DejaVuSans-49\"/>\n       <use x=\"354.199219\" xlink:href=\"#DejaVuSans-49\"/>\n      </g>\n     </g>\n    </g>\n    <g id=\"xtick_11\">\n     <g id=\"line2d_11\">\n      <g>\n       <use style=\"stroke:#000000;stroke-width:0.8;\" x=\"365.384817\" xlink:href=\"#m4866fcef46\" y=\"203.04\"/>\n      </g>\n     </g>\n     <g id=\"text_11\">\n      <!-- 2020-01 -->\n      <g transform=\"translate(328.159997 237.511846)rotate(-30)scale(0.1 -0.1)\">\n       <use xlink:href=\"#DejaVuSans-50\"/>\n       <use x=\"63.623047\" xlink:href=\"#DejaVuSans-48\"/>\n       <use x=\"127.246094\" xlink:href=\"#DejaVuSans-50\"/>\n       <use x=\"190.869141\" xlink:href=\"#DejaVuSans-48\"/>\n       <use x=\"254.492188\" xlink:href=\"#DejaVuSans-45\"/>\n       <use x=\"290.576172\" xlink:href=\"#DejaVuSans-48\"/>\n       <use x=\"354.199219\" xlink:href=\"#DejaVuSans-49\"/>\n      </g>\n     </g>\n    </g>\n    <g id=\"text_12\">\n     <!-- ts -->\n     <g transform=\"translate(196.122656 250.911346)scale(0.1 -0.1)\">\n      <defs>\n       <path d=\"M 18.3125 70.21875 \nL 18.3125 54.6875 \nL 36.8125 54.6875 \nL 36.8125 47.703125 \nL 18.3125 47.703125 \nL 18.3125 18.015625 \nQ 18.3125 11.328125 20.140625 9.421875 \nQ 21.96875 7.515625 27.59375 7.515625 \nL 36.8125 7.515625 \nL 36.8125 0 \nL 27.59375 0 \nQ 17.1875 0 13.234375 3.875 \nQ 9.28125 7.765625 9.28125 18.015625 \nL 9.28125 47.703125 \nL 2.6875 47.703125 \nL 2.6875 54.6875 \nL 9.28125 54.6875 \nL 9.28125 70.21875 \nz\n\" id=\"DejaVuSans-116\"/>\n       <path d=\"M 44.28125 53.078125 \nL 44.28125 44.578125 \nQ 40.484375 46.53125 36.375 47.5 \nQ 32.28125 48.484375 27.875 48.484375 \nQ 21.1875 48.484375 17.84375 46.4375 \nQ 14.5 44.390625 14.5 40.28125 \nQ 14.5 37.15625 16.890625 35.375 \nQ 19.28125 33.59375 26.515625 31.984375 \nL 29.59375 31.296875 \nQ 39.15625 29.25 43.1875 25.515625 \nQ 47.21875 21.78125 47.21875 15.09375 \nQ 47.21875 7.46875 41.1875 3.015625 \nQ 35.15625 -1.421875 24.609375 -1.421875 \nQ 20.21875 -1.421875 15.453125 -0.5625 \nQ 10.6875 0.296875 5.421875 2 \nL 5.421875 11.28125 \nQ 10.40625 8.6875 15.234375 7.390625 \nQ 20.0625 6.109375 24.8125 6.109375 \nQ 31.15625 6.109375 34.5625 8.28125 \nQ 37.984375 10.453125 37.984375 14.40625 \nQ 37.984375 18.0625 35.515625 20.015625 \nQ 33.0625 21.96875 24.703125 23.78125 \nL 21.578125 24.515625 \nQ 13.234375 26.265625 9.515625 29.90625 \nQ 5.8125 33.546875 5.8125 39.890625 \nQ 5.8125 47.609375 11.28125 51.796875 \nQ 16.75 56 26.8125 56 \nQ 31.78125 56 36.171875 55.265625 \nQ 40.578125 54.546875 44.28125 53.078125 \nz\n\" id=\"DejaVuSans-115\"/>\n      </defs>\n      <use xlink:href=\"#DejaVuSans-116\"/>\n      <use x=\"39.208984\" xlink:href=\"#DejaVuSans-115\"/>\n     </g>\n    </g>\n   </g>\n   <g id=\"matplotlib.axis_2\">\n    <g id=\"ytick_1\">\n     <g id=\"line2d_12\">\n      <defs>\n       <path d=\"M 0 0 \nL -3.5 0 \n\" id=\"meab1930706\" style=\"stroke:#000000;stroke-width:0.8;\"/>\n      </defs>\n      <g>\n       <use style=\"stroke:#000000;stroke-width:0.8;\" x=\"33.2875\" xlink:href=\"#meab1930706\" y=\"202.008764\"/>\n      </g>\n     </g>\n     <g id=\"text_13\">\n      <!-- 185 -->\n      <g transform=\"translate(7.2 205.807983)scale(0.1 -0.1)\">\n       <use xlink:href=\"#DejaVuSans-49\"/>\n       <use x=\"63.623047\" xlink:href=\"#DejaVuSans-56\"/>\n       <use x=\"127.246094\" xlink:href=\"#DejaVuSans-53\"/>\n      </g>\n     </g>\n    </g>\n    <g id=\"ytick_2\">\n     <g id=\"line2d_13\">\n      <g>\n       <use style=\"stroke:#000000;stroke-width:0.8;\" x=\"33.2875\" xlink:href=\"#meab1930706\" y=\"178.302191\"/>\n      </g>\n     </g>\n     <g id=\"text_14\">\n      <!-- 190 -->\n      <g transform=\"translate(7.2 182.10141)scale(0.1 -0.1)\">\n       <use xlink:href=\"#DejaVuSans-49\"/>\n       <use x=\"63.623047\" xlink:href=\"#DejaVuSans-57\"/>\n       <use x=\"127.246094\" xlink:href=\"#DejaVuSans-48\"/>\n      </g>\n     </g>\n    </g>\n    <g id=\"ytick_3\">\n     <g id=\"line2d_14\">\n      <g>\n       <use style=\"stroke:#000000;stroke-width:0.8;\" x=\"33.2875\" xlink:href=\"#meab1930706\" y=\"154.595618\"/>\n      </g>\n     </g>\n     <g id=\"text_15\">\n      <!-- 195 -->\n      <g transform=\"translate(7.2 158.394837)scale(0.1 -0.1)\">\n       <use xlink:href=\"#DejaVuSans-49\"/>\n       <use x=\"63.623047\" xlink:href=\"#DejaVuSans-57\"/>\n       <use x=\"127.246094\" xlink:href=\"#DejaVuSans-53\"/>\n      </g>\n     </g>\n    </g>\n    <g id=\"ytick_4\">\n     <g id=\"line2d_15\">\n      <g>\n       <use style=\"stroke:#000000;stroke-width:0.8;\" x=\"33.2875\" xlink:href=\"#meab1930706\" y=\"130.889045\"/>\n      </g>\n     </g>\n     <g id=\"text_16\">\n      <!-- 200 -->\n      <g transform=\"translate(7.2 134.688264)scale(0.1 -0.1)\">\n       <use xlink:href=\"#DejaVuSans-50\"/>\n       <use x=\"63.623047\" xlink:href=\"#DejaVuSans-48\"/>\n       <use x=\"127.246094\" xlink:href=\"#DejaVuSans-48\"/>\n      </g>\n     </g>\n    </g>\n    <g id=\"ytick_5\">\n     <g id=\"line2d_16\">\n      <g>\n       <use style=\"stroke:#000000;stroke-width:0.8;\" x=\"33.2875\" xlink:href=\"#meab1930706\" y=\"107.182472\"/>\n      </g>\n     </g>\n     <g id=\"text_17\">\n      <!-- 205 -->\n      <g transform=\"translate(7.2 110.981691)scale(0.1 -0.1)\">\n       <use xlink:href=\"#DejaVuSans-50\"/>\n       <use x=\"63.623047\" xlink:href=\"#DejaVuSans-48\"/>\n       <use x=\"127.246094\" xlink:href=\"#DejaVuSans-53\"/>\n      </g>\n     </g>\n    </g>\n    <g id=\"ytick_6\">\n     <g id=\"line2d_17\">\n      <g>\n       <use style=\"stroke:#000000;stroke-width:0.8;\" x=\"33.2875\" xlink:href=\"#meab1930706\" y=\"83.475899\"/>\n      </g>\n     </g>\n     <g id=\"text_18\">\n      <!-- 210 -->\n      <g transform=\"translate(7.2 87.275118)scale(0.1 -0.1)\">\n       <use xlink:href=\"#DejaVuSans-50\"/>\n       <use x=\"63.623047\" xlink:href=\"#DejaVuSans-49\"/>\n       <use x=\"127.246094\" xlink:href=\"#DejaVuSans-48\"/>\n      </g>\n     </g>\n    </g>\n    <g id=\"ytick_7\">\n     <g id=\"line2d_18\">\n      <g>\n       <use style=\"stroke:#000000;stroke-width:0.8;\" x=\"33.2875\" xlink:href=\"#meab1930706\" y=\"59.769326\"/>\n      </g>\n     </g>\n     <g id=\"text_19\">\n      <!-- 215 -->\n      <g transform=\"translate(7.2 63.568544)scale(0.1 -0.1)\">\n       <use xlink:href=\"#DejaVuSans-50\"/>\n       <use x=\"63.623047\" xlink:href=\"#DejaVuSans-49\"/>\n       <use x=\"127.246094\" xlink:href=\"#DejaVuSans-53\"/>\n      </g>\n     </g>\n    </g>\n    <g id=\"ytick_8\">\n     <g id=\"line2d_19\">\n      <g>\n       <use style=\"stroke:#000000;stroke-width:0.8;\" x=\"33.2875\" xlink:href=\"#meab1930706\" y=\"36.062753\"/>\n      </g>\n     </g>\n     <g id=\"text_20\">\n      <!-- 220 -->\n      <g transform=\"translate(7.2 39.861971)scale(0.1 -0.1)\">\n       <use xlink:href=\"#DejaVuSans-50\"/>\n       <use x=\"63.623047\" xlink:href=\"#DejaVuSans-50\"/>\n       <use x=\"127.246094\" xlink:href=\"#DejaVuSans-48\"/>\n      </g>\n     </g>\n    </g>\n    <g id=\"ytick_9\">\n     <g id=\"line2d_20\">\n      <g>\n       <use style=\"stroke:#000000;stroke-width:0.8;\" x=\"33.2875\" xlink:href=\"#meab1930706\" y=\"12.35618\"/>\n      </g>\n     </g>\n     <g id=\"text_21\">\n      <!-- 225 -->\n      <g transform=\"translate(7.2 16.155398)scale(0.1 -0.1)\">\n       <use xlink:href=\"#DejaVuSans-50\"/>\n       <use x=\"63.623047\" xlink:href=\"#DejaVuSans-50\"/>\n       <use x=\"127.246094\" xlink:href=\"#DejaVuSans-53\"/>\n      </g>\n     </g>\n    </g>\n   </g>\n   <g id=\"line2d_21\">\n    <path clip-path=\"url(#p6c5a122d2d)\" d=\"M 48.505682 127.238233 \nL 48.526472 134.445031 \nL 48.77595 134.634683 \nL 48.85911 143.074223 \nL 48.942269 157.914538 \nL 48.900689 141.36735 \nL 49.025428 152.462026 \nL 50.27282 145.112989 \nL 50.33519 148.100017 \nL 50.35598 146.250904 \nL 50.418349 138.380322 \nL 50.439139 139.375998 \nL 50.522299 153.173224 \nL 50.771777 135.63036 \nL 50.813357 140.419087 \nL 50.834147 139.992369 \nL 50.875727 134.350205 \nL 50.938096 137.669125 \nL 51.021256 142.078547 \nL 51.270734 151.276698 \nL 51.312314 146.677623 \nL 51.353893 151.703416 \nL 51.374683 148.28967 \nL 51.478633 152.793918 \nL 51.520212 150.849979 \nL 51.748901 150.849979 \nL 51.89443 136.38897 \nL 51.91522 141.794069 \nL 51.93601 135.108815 \nL 52.019169 140.371674 \nL 52.310227 132.074374 \nL 52.351807 147.056928 \nL 52.476546 145.966425 \nL 52.518126 145.58712 \nL 53.765518 142.694918 \nL 53.890257 132.02696 \nL 53.911047 132.880397 \nL 53.952627 139.70789 \nL 54.014996 138.759627 \nL 54.285265 132.595918 \nL 54.306054 134.160552 \nL 54.347634 129.703716 \nL 54.368424 128.85028 \nL 54.389214 131.789895 \nL 54.410004 132.02696 \nL 54.493163 134.919162 \nL 54.513953 133.449355 \nL 54.763431 131.363176 \nL 54.825801 126.764101 \nL 54.867381 129.656303 \nL 55.01291 133.591594 \nL 55.241598 133.212289 \nL 55.345548 128.044256 \nL 55.283178 133.259702 \nL 55.366338 130.889045 \nL 55.387127 132.690744 \nL 55.449497 129.419237 \nL 55.511867 129.229585 \nL 55.740555 129.229585 \nL 55.802925 126.621862 \nL 55.844504 129.039932 \nL 55.865294 129.229585 \nL 55.927664 131.695068 \nL 55.948454 129.466651 \nL 55.990034 129.087345 \nL 57.258215 129.988195 \nL 57.299795 128.376148 \nL 57.320585 128.613214 \nL 57.424534 136.673449 \nL 57.445324 133.117463 \nL 57.486904 133.970899 \nL 57.757172 133.639007 \nL 57.777962 128.565801 \nL 57.861121 134.207965 \nL 57.923491 149.617238 \nL 57.965071 146.582796 \nL 58.006651 145.112989 \nL 58.256129 148.811214 \nL 58.276919 147.673299 \nL 58.297709 146.345731 \nL 58.360078 155.543881 \nL 58.401658 147.578472 \nL 58.422448 143.690594 \nL 58.484817 143.92766 \nL 58.775876 142.742331 \nL 58.859035 145.302641 \nL 58.900615 143.453529 \nL 58.921405 142.694918 \nL 58.962984 144.923336 \nL 59.004564 143.92766 \nL 59.316412 146.582796 \nL 59.357992 149.095693 \nL 59.399572 144.117313 \nL 59.420361 144.733684 \nL 59.441151 143.216463 \nL 59.461941 143.216463 \nL 60.688543 143.216463 \nL 60.792493 142.457853 \nL 60.958811 160.664501 \nL 61.000391 159.811064 \nL 61.270659 159.811064 \nL 61.291449 160.237782 \nL 61.312239 158.720562 \nL 61.333029 158.483496 \nL 61.374609 163.36705 \nL 61.395399 156.72921 \nL 61.416189 157.061102 \nL 61.457768 152.224961 \nL 61.499348 152.272374 \nL 61.748826 148.100017 \nL 61.811196 162.513613 \nL 61.935935 162.181721 \nL 61.956725 162.181721 \nL 61.998305 163.509289 \nL 62.247783 164.078247 \nL 62.289363 165.073923 \nL 62.330943 176.92721 \nL 62.414102 171.522111 \nL 62.497262 169.957477 \nL 62.74674 168.298017 \nL 62.76753 166.875623 \nL 62.78832 170.241956 \nL 62.80911 173.797942 \nL 62.829899 164.457552 \nL 62.996218 147.720712 \nL 64.181241 147.720712 \nL 64.24361 148.337083 \nL 64.2644 147.957778 \nL 64.389139 144.212139 \nL 64.430719 144.306965 \nL 64.493089 145.112989 \nL 64.742567 146.298317 \nL 64.867306 153.979247 \nL 64.784147 145.539707 \nL 64.908886 152.462026 \nL 64.950466 147.531059 \nL 64.992045 149.569824 \nL 65.262314 149.569824 \nL 65.407843 132.1692 \nL 65.491002 132.595918 \nL 65.740481 132.595918 \nL 65.80285 133.923486 \nL 65.86522 127.04858 \nL 65.88601 129.134759 \nL 65.927589 126.432209 \nL 66.239437 125.152054 \nL 66.260227 125.341707 \nL 66.281017 126.195143 \nL 66.301807 126.100317 \nL 66.322597 119.652129 \nL 66.384966 132.690744 \nL 66.405756 134.255378 \nL 66.468126 134.207965 \nL 67.694728 130.889045 \nL 67.777887 132.975223 \nL 67.798677 128.613214 \nL 67.923417 135.298467 \nL 67.964996 134.445031 \nL 68.172895 134.445031 \nL 68.214475 133.970899 \nL 68.235265 134.776923 \nL 68.360004 141.50959 \nL 68.380794 147.293993 \nL 68.463953 145.018162 \nL 68.484743 143.92766 \nL 68.713431 145.112989 \nL 68.87975 139.565651 \nL 68.90054 141.319937 \nL 68.92133 141.699242 \nL 69.233178 142.078547 \nL 69.316338 141.272524 \nL 69.378707 144.638857 \nL 69.420287 142.552679 \nL 69.711345 139.944956 \nL 69.752925 140.940632 \nL 69.877664 149.332759 \nL 69.898454 149.095693 \nL 69.919244 149.000867 \nL 69.940034 149.759477 \nL 71.187425 149.759477 \nL 71.353744 138.427735 \nL 71.374534 138.190669 \nL 71.416114 140.845806 \nL 71.478484 140.703566 \nL 71.769542 139.375998 \nL 71.811121 141.557003 \nL 71.852701 138.901867 \nL 71.873491 138.095843 \nL 71.894281 139.755303 \nL 71.935861 139.186345 \nL 71.97744 139.186345 \nL 72.164549 142.979397 \nL 72.226919 140.60874 \nL 72.247709 144.354378 \nL 72.268499 144.306965 \nL 72.372448 153.742181 \nL 72.414028 149.80689 \nL 72.476397 149.901716 \nL 72.642716 152.3672 \nL 72.746665 148.242256 \nL 72.767455 150.802566 \nL 72.809035 159.384346 \nL 72.892194 155.82836 \nL 72.912984 155.069749 \nL 72.975354 155.306815 \nL 73.224832 151.513763 \nL 73.370361 161.423111 \nL 73.391151 162.134308 \nL 73.411941 159.526585 \nL 73.432731 159.526585 \nL 73.474311 158.625735 \nL 75.19987 163.36705 \nL 75.386978 184.323661 \nL 75.262239 162.181721 \nL 75.407768 179.866825 \nL 75.428558 178.112538 \nL 75.470138 178.159952 \nL 75.802776 166.543731 \nL 75.865145 155.449055 \nL 75.948305 158.910214 \nL 76.197783 158.578322 \nL 76.260153 158.862801 \nL 76.426472 171.285045 \nL 76.468051 170.716088 \nL 76.63437 170.716088 \nL 76.75911 165.263576 \nL 76.779899 164.220487 \nL 76.800689 167.966125 \nL 76.821479 169.151454 \nL 76.842269 167.918712 \nL 76.904639 168.582496 \nL 76.967008 168.392843 \nL 78.19361 163.604116 \nL 78.2144 161.56535 \nL 78.25598 164.173073 \nL 78.27677 162.940332 \nL 78.443089 172.138482 \nL 78.650987 168.677322 \nL 78.692567 168.772149 \nL 78.775727 176.690144 \nL 78.858886 175.030684 \nL 78.879676 172.897092 \nL 78.962835 174.603966 \nL 79.212314 171.142806 \nL 79.253893 172.991919 \nL 79.378633 160.569674 \nL 79.669691 156.444731 \nL 79.71127 154.405965 \nL 79.73206 155.82836 \nL 79.75285 158.104191 \nL 79.81522 155.069749 \nL 79.83601 156.112839 \nL 79.877589 152.50944 \nL 79.898379 152.793918 \nL 80.210227 158.578322 \nL 80.231017 156.966275 \nL 80.334966 149.569824 \nL 80.418126 150.470674 \nL 81.707098 150.470674 \nL 81.748677 148.574148 \nL 81.831837 149.617238 \nL 81.894206 153.694768 \nL 82.226844 153.694768 \nL 82.268424 150.043956 \nL 82.310004 152.983571 \nL 82.393163 154.974923 \nL 82.413953 153.884421 \nL 82.455533 152.936158 \nL 82.684221 153.315463 \nL 82.808961 156.776623 \nL 82.725801 152.556853 \nL 82.82975 155.638707 \nL 82.87133 152.936158 \nL 82.89212 157.582646 \nL 83.141598 157.582646 \nL 83.224758 155.117163 \nL 83.245548 155.354228 \nL 83.349497 168.108365 \nL 83.391077 167.729059 \nL 83.453446 166.448904 \nL 83.619765 166.970449 \nL 83.786084 171.237632 \nL 83.806874 169.056628 \nL 83.848454 171.474698 \nL 83.890034 170.00489 \nL 83.952403 171.04798 \nL 85.137425 172.802266 \nL 85.158215 170.763501 \nL 85.199795 174.272074 \nL 85.262165 177.069449 \nL 85.282955 174.129834 \nL 85.303744 175.030684 \nL 85.345324 172.422961 \nL 85.366114 175.315163 \nL 85.449273 172.991919 \nL 85.636382 172.991919 \nL 85.657172 185.508989 \nL 85.740332 178.918562 \nL 85.761121 178.58667 \nL 85.865071 172.897092 \nL 85.885861 177.259102 \nL 85.906651 175.552229 \nL 86.135339 175.315163 \nL 86.218499 171.996243 \nL 86.239288 174.509139 \nL 86.384817 180.625435 \nL 86.447187 179.866825 \nL 86.655086 181.241806 \nL 86.675876 180.815088 \nL 86.717455 179.250454 \nL 86.738245 180.957327 \nL 86.779825 186.836557 \nL 86.842194 179.677172 \nL 86.862984 184.181421 \nL 86.904564 185.177097 \nL 86.946144 184.940031 \nL 87.278782 178.397017 \nL 111.353446 178.397017 \nL 111.395026 89.639608 \nL 111.810823 103.863552 \nL 111.893983 99.122237 \nL 113.099795 104.859228 \nL 113.120585 104.385096 \nL 113.162165 103.057528 \nL 113.203744 98.316214 \nL 113.245324 104.954054 \nL 113.286904 104.811815 \nL 113.390853 106.85058 \nL 113.619542 106.85058 \nL 113.661121 102.820462 \nL 113.744281 104.479923 \nL 113.785861 100.639458 \nL 113.86902 102.915289 \nL 113.88981 102.441157 \nL 114.056129 104.479923 \nL 114.118499 102.678223 \nL 114.160078 110.216913 \nL 114.243238 109.173824 \nL 114.264028 108.604866 \nL 114.284817 110.785871 \nL 114.326397 109.221237 \nL 114.347187 109.553129 \nL 114.596665 105.143707 \nL 114.659035 107.229885 \nL 114.846144 95.613664 \nL 114.866934 95.613664 \nL 115.074832 95.09212 \nL 115.095622 92.057678 \nL 115.178782 95.803317 \nL 115.220361 93.385246 \nL 115.303521 91.820613 \nL 115.261941 96.040383 \nL 115.345101 92.342157 \nL 116.571703 92.342157 \nL 116.675652 89.260303 \nL 116.696442 89.876674 \nL 116.717232 87.980148 \nL 116.779601 92.152505 \nL 116.800391 90.540458 \nL 116.821181 90.682697 \nL 117.153819 90.682697 \nL 117.278558 87.031885 \nL 117.299348 89.118063 \nL 117.382507 99.406716 \nL 117.590406 95.566251 \nL 117.631986 90.87235 \nL 117.652776 96.514514 \nL 117.673566 94.570575 \nL 117.694355 97.083472 \nL 117.798305 96.798993 \nL 117.881464 95.755904 \nL 118.047783 98.648106 \nL 118.068573 93.337833 \nL 118.130943 94.096444 \nL 118.276472 98.221387 \nL 118.297262 97.747256 \nL 118.318051 96.75158 \nL 118.60911 92.436983 \nL 118.629899 93.337833 \nL 118.650689 96.561927 \nL 118.733849 93.29042 \nL 118.754639 93.337833 \nL 118.775428 92.816289 \nL 118.796218 93.480073 \nL 118.837798 92.911115 \nL 120.04361 92.911115 \nL 120.293089 80.725936 \nL 120.313879 81.105241 \nL 120.563357 81.105241 \nL 120.604937 75.368251 \nL 120.667306 78.734584 \nL 120.729676 82.575049 \nL 120.771256 79.303542 \nL 120.792045 78.023387 \nL 120.833625 79.825087 \nL 120.854415 79.825087 \nL 120.875205 80.583697 \nL 121.103893 75.463077 \nL 121.124683 76.079448 \nL 121.145473 81.53196 \nL 121.228633 77.928561 \nL 121.270212 80.251805 \nL 121.332582 79.588021 \nL 121.64443 78.165626 \nL 121.66522 78.687171 \nL 121.68601 77.786321 \nL 121.789959 83.570725 \nL 121.810749 83.475899 \nL 122.101807 83.475899 \nL 122.122597 83.238833 \nL 122.247336 90.208566 \nL 122.268126 89.924087 \nL 122.309706 90.824936 \nL 122.330496 89.544782 \nL 122.372075 89.544782 \nL 124.097634 86.225861 \nL 124.180794 92.579223 \nL 124.222373 90.255979 \nL 124.347113 83.95003 \nL 124.638171 88.217213 \nL 124.80449 72.713115 \nL 124.825279 73.519138 \nL 124.866859 73.519138 \nL 125.053968 73.708791 \nL 125.074758 72.096744 \nL 125.116338 77.122537 \nL 125.157917 73.99327 \nL 125.199497 74.182922 \nL 125.324236 69.820913 \nL 125.365816 69.820913 \nL 125.573715 69.536434 \nL 125.698454 64.226161 \nL 125.656874 71.385547 \nL 125.719244 64.605467 \nL 125.760823 67.592495 \nL 125.781613 63.562377 \nL 125.823193 64.51064 \nL 125.864773 64.51064 \nL 127.091375 60.812415 \nL 127.132955 63.040833 \nL 127.153744 62.045157 \nL 127.195324 54.459053 \nL 127.278484 58.346931 \nL 127.340853 59.247781 \nL 127.527962 57.920213 \nL 127.548752 58.109866 \nL 127.673491 66.976124 \nL 127.694281 60.622762 \nL 127.735861 56.355579 \nL 127.79823 59.058129 \nL 128.047709 58.583997 \nL 128.089288 59.295194 \nL 128.130868 56.023687 \nL 128.172448 59.53226 \nL 128.297187 61.808091 \nL 128.609035 59.769326 \nL 128.629825 61.95033 \nL 128.671405 58.915889 \nL 128.712984 59.342607 \nL 128.733774 59.390021 \nL 128.754564 61.002068 \nL 128.775354 58.821063 \nL 128.858513 60.480523 \nL 129.045622 54.980598 \nL 129.066412 56.023687 \nL 129.128782 56.023687 \nL 129.149572 59.627086 \nL 129.211941 53.558204 \nL 129.232731 56.97195 \nL 129.295101 52.609941 \nL 129.31589 52.657354 \nL 130.542493 51.803917 \nL 130.646442 53.178898 \nL 130.708811 52.799593 \nL 131.249348 52.799593 \nL 131.353297 43.222138 \nL 131.602776 43.885922 \nL 131.644355 44.170401 \nL 131.852254 30.657654 \nL 132.039363 31.321438 \nL 132.143312 26.580123 \nL 132.164102 27.43356 \nL 132.205682 22.360353 \nL 132.268051 25.631861 \nL 132.288841 28.19217 \nL 132.351211 27.670626 \nL 132.55911 21.838809 \nL 132.579899 23.261203 \nL 132.725428 32.55418 \nL 132.746218 30.799893 \nL 132.808588 34.640358 \nL 132.850168 34.687771 \nL 134.03519 31.321438 \nL 134.159929 35.683448 \nL 134.263879 45.07125 \nL 134.305458 44.929011 \nL 134.347038 44.929011 \nL 134.596516 38.43341 \nL 134.638096 41.230786 \nL 134.679676 46.683297 \nL 134.762835 45.735034 \nL 134.783625 45.735034 \nL 134.845995 45.21349 \nL 135.012314 44.929011 \nL 135.074683 40.567002 \nL 135.095473 45.07125 \nL 135.116263 40.614415 \nL 135.282582 58.299518 \nL 135.303372 54.506467 \nL 135.677589 54.506467 \nL 135.698379 48.058279 \nL 135.781539 51.424612 \nL 135.843908 51.709091 \nL 136.010227 51.709091 \nL 136.031017 52.420288 \nL 136.072597 48.484997 \nL 136.093387 55.502143 \nL 136.134966 52.704767 \nL 136.280496 64.368401 \nL 136.342865 64.65288 \nL 137.527887 56.308166 \nL 137.548677 59.769326 \nL 137.590257 54.316814 \nL 137.631837 57.209016 \nL 137.652627 54.743532 \nL 137.714996 60.480523 \nL 137.756576 61.286546 \nL 137.839735 61.096894 \nL 138.006054 62.329636 \nL 138.068424 59.342607 \nL 138.110004 59.437434 \nL 138.130794 61.95033 \nL 138.213953 59.058129 \nL 138.255533 59.674499 \nL 138.338692 58.015039 \nL 138.546591 58.015039 \nL 138.71291 48.247931 \nL 138.775279 53.178898 \nL 139.024758 53.131485 \nL 139.045548 55.265077 \nL 139.128707 54.032335 \nL 139.149497 42.985072 \nL 139.253446 43.506617 \nL 139.336606 39.571326 \nL 139.523715 40.140283 \nL 139.544504 43.791096 \nL 139.627664 40.187696 \nL 139.648454 36.062753 \nL 139.731613 38.717889 \nL 139.752403 41.515264 \nL 139.814773 37.579973 \nL 141.020585 37.579973 \nL 141.103744 42.748006 \nL 141.124534 40.756654 \nL 141.270063 24.825837 \nL 141.311643 25.584447 \nL 141.332433 25.157729 \nL 141.519542 25.062903 \nL 141.561121 26.817189 \nL 141.581911 33.834335 \nL 141.644281 25.868926 \nL 141.83139 17.144907 \nL 141.997709 17.144907 \nL 142.018499 16.101818 \nL 142.101658 17.050081 \nL 142.164028 30.610241 \nL 142.330346 72.096744 \nL 142.538245 109.126411 \nL 142.579825 92.247331 \nL 142.621405 75.842382 \nL 142.683774 93.527486 \nL 142.704564 92.579223 \nL 142.725354 95.044706 \nL 142.746144 107.941082 \nL 142.829303 98.031735 \nL 143.016412 86.747406 \nL 143.037202 93.148181 \nL 143.057992 83.855204 \nL 143.120361 86.368101 \nL 143.141151 87.885321 \nL 143.203521 109.221237 \nL 143.26589 99.16965 \nL 143.32826 98.173974 \nL 144.513282 98.979998 \nL 144.534072 100.0705 \nL 144.554862 99.454129 \nL 144.596442 96.040383 \nL 144.617232 97.320537 \nL 144.700391 105.428185 \nL 144.721181 102.678223 \nL 144.741971 100.876523 \nL 144.762761 107.229885 \nL 144.804341 108.604866 \nL 144.82513 108.083322 \nL 145.012239 98.505866 \nL 145.033029 101.208415 \nL 145.053819 104.574749 \nL 145.095399 96.467101 \nL 145.116189 99.738608 \nL 145.261718 81.626786 \nL 145.303297 82.527636 \nL 145.552776 78.82941 \nL 145.656725 94.428336 \nL 145.698305 77.786321 \nL 145.760674 81.863852 \nL 145.802254 81.863852 \nL 145.823044 81.152655 \nL 146.030943 81.152655 \nL 146.134892 88.217213 \nL 146.155682 78.260453 \nL 146.218051 94.997293 \nL 146.238841 89.9715 \nL 146.259631 86.462927 \nL 146.301211 88.1698 \nL 146.50911 85.846556 \nL 146.613059 85.988796 \nL 146.654639 81.816439 \nL 146.675428 81.721612 \nL 146.717008 85.656904 \nL 146.779378 84.376749 \nL 147.98519 84.376749 \nL 148.04756 80.773349 \nL 148.109929 82.148331 \nL 148.255458 100.354979 \nL 148.297038 100.307566 \nL 148.317828 101.492894 \nL 148.504937 101.492894 \nL 148.588096 116.19097 \nL 148.629676 115.384946 \nL 148.650466 115.337533 \nL 148.671256 119.936608 \nL 148.712835 116.096143 \nL 148.733625 108.889345 \nL 148.816785 111.307416 \nL 148.983104 111.307416 \nL 149.087053 117.471125 \nL 149.107843 111.923786 \nL 149.149423 119.746956 \nL 149.170212 117.755603 \nL 149.253372 130.557153 \nL 149.315741 127.80719 \nL 149.54443 129.893369 \nL 149.689959 121.548655 \nL 149.710749 122.0702 \nL 149.731539 115.859078 \nL 149.793908 130.177848 \nL 149.814698 129.229585 \nL 149.981017 129.229585 \nL 150.043387 139.992369 \nL 150.084966 138.190669 \nL 150.147336 142.220787 \nL 150.209706 129.561477 \nL 150.230496 141.36735 \nL 150.313655 135.677773 \nL 151.498677 131.884721 \nL 151.519467 135.393294 \nL 151.540257 126.527035 \nL 151.644206 114.863402 \nL 151.602627 127.285646 \nL 151.664996 120.837458 \nL 151.685786 121.216763 \nL 151.706576 120.884871 \nL 151.748156 134.824336 \nL 151.810525 130.889045 \nL 152.018424 124.677923 \nL 152.101583 133.401942 \nL 152.122373 121.121937 \nL 152.184743 135.013989 \nL 152.226323 122.022787 \nL 152.309482 113.915139 \nL 152.496591 113.915139 \nL 152.6837 97.51019 \nL 152.70449 97.557603 \nL 152.725279 94.997293 \nL 152.746069 106.613514 \nL 152.808439 106.376448 \nL 152.974758 108.083322 \nL 153.057917 98.458453 \nL 153.099497 103.673899 \nL 153.120287 107.988495 \nL 153.203446 106.945406 \nL 153.245026 102.535984 \nL 153.286606 114.294444 \nL 153.307396 114.009965 \nL 153.494504 92.247331 \nL 153.619244 95.281772 \nL 153.681613 112.492744 \nL 153.743983 99.738608 \nL 154.991375 78.307866 \nL 155.157694 50.997894 \nL 155.199273 57.256429 \nL 155.240853 49.29102 \nL 155.261643 56.877124 \nL 155.490332 49.859978 \nL 155.573491 50.713415 \nL 155.594281 51.85133 \nL 155.615071 50.476349 \nL 155.71902 44.786772 \nL 155.73981 48.579823 \nL 155.78139 41.75233 \nL 155.80218 42.842833 \nL 155.968499 43.079898 \nL 156.072448 31.368851 \nL 156.093238 34.735185 \nL 156.134817 44.122988 \nL 156.217977 37.579973 \nL 156.259557 29.756804 \nL 156.301136 31.084372 \nL 156.467455 33.31279 \nL 156.529825 29.140433 \nL 156.571405 33.976574 \nL 156.592194 34.166227 \nL 156.612984 33.692095 \nL 156.696144 21.55433 \nL 156.758513 22.360353 \nL 157.007992 26.011166 \nL 157.21589 42.416114 \nL 157.23668 41.373025 \nL 157.25747 34.924837 \nL 157.29905 38.006692 \nL 158.484072 32.601593 \nL 158.754341 58.394345 \nL 158.79592 56.734884 \nL 159.066189 49.43326 \nL 159.107768 56.497819 \nL 159.149348 48.722063 \nL 159.170138 42.179049 \nL 159.253297 49.622912 \nL 159.294877 44.739358 \nL 159.461196 45.023837 \nL 159.523566 47.441908 \nL 159.627515 35.351556 \nL 159.710674 61.381373 \nL 159.773044 54.885772 \nL 159.793834 56.829711 \nL 159.980943 46.351405 \nL 160.001732 48.959128 \nL 160.064102 48.247931 \nL 160.147262 65.885622 \nL 160.251211 47.916039 \nL 160.292791 48.437584 \nL 160.45911 52.609941 \nL 160.542269 46.066927 \nL 160.563059 49.670326 \nL 160.583849 54.079748 \nL 160.625428 51.045307 \nL 160.687798 38.054105 \nL 160.729378 39.523912 \nL 160.750168 46.351405 \nL 160.770958 42.937659 \nL 161.95598 41.420438 \nL 161.97677 36.916189 \nL 162.039139 43.601443 \nL 162.080719 43.601443 \nL 162.143089 48.105692 \nL 162.184668 54.885772 \nL 162.226248 48.959128 \nL 162.288618 45.023837 \nL 162.475727 49.148781 \nL 162.621256 69.63126 \nL 162.787575 81.342307 \nL 162.953893 81.342307 \nL 163.078633 69.63126 \nL 163.099423 71.053655 \nL 163.120212 76.363927 \nL 163.161792 66.359753 \nL 163.203372 71.195894 \nL 163.265741 78.0708 \nL 163.951807 77.359603 \nL 164.118126 89.449955 \nL 164.138916 88.359453 \nL 164.159706 92.484397 \nL 164.222075 98.695519 \nL 164.242865 97.794669 \nL 165.448677 91.251655 \nL 165.531837 82.575049 \nL 165.573417 86.794819 \nL 165.594206 88.264627 \nL 165.614996 85.230185 \nL 165.677366 87.174124 \nL 165.739735 78.734584 \nL 165.781315 81.579373 \nL 165.947634 81.200068 \nL 165.989214 75.415664 \nL 166.030794 80.441457 \nL 166.072373 84.661227 \nL 166.113953 79.777673 \nL 166.217902 73.045007 \nL 166.259482 73.234659 \nL 166.57133 63.704617 \nL 166.61291 71.148481 \nL 166.65449 68.588171 \nL 166.758439 48.295344 \nL 166.945548 46.493645 \nL 167.091077 50.855654 \nL 167.111867 52.135809 \nL 167.132656 50.428936 \nL 167.215816 40.045457 \nL 167.236606 49.006542 \nL 167.278186 46.446232 \nL 167.506874 46.446232 \nL 167.527664 51.614265 \nL 167.610823 44.834185 \nL 167.631613 43.980748 \nL 167.652403 50.19187 \nL 167.693983 42.226462 \nL 167.756352 48.058279 \nL 168.941375 44.549706 \nL 168.982955 20.937959 \nL 169.086904 25.584447 \nL 169.149273 39.097194 \nL 169.232433 32.933485 \nL 169.253223 32.933485 \nL 169.440332 34.498119 \nL 169.461121 36.062753 \nL 169.523491 32.506767 \nL 169.565071 33.360203 \nL 169.64823 54.459053 \nL 169.75218 82.622462 \nL 169.772969 82.527636 \nL 170.459035 53.368551 \nL 170.625354 114.958228 \nL 170.646144 109.932434 \nL 170.770883 92.105091 \nL 170.937202 90.73011 \nL 170.999572 97.415364 \nL 171.061941 96.75158 \nL 171.082731 95.329185 \nL 171.103521 81.674199 \nL 171.145101 108.557453 \nL 171.16589 104.005791 \nL 171.20747 112.066026 \nL 171.24905 106.992819 \nL 172.434072 110.975524 \nL 172.579601 107.182472 \nL 172.641971 131.078697 \nL 172.704341 119.746956 \nL 172.72513 119.746956 \nL 172.76671 115.195294 \nL 172.953819 115.195294 \nL 173.016189 107.040232 \nL 173.036978 102.109265 \nL 173.099348 103.53166 \nL 173.182507 126.574449 \nL 173.244877 123.777073 \nL 173.473566 106.376448 \nL 173.535935 108.557453 \nL 173.598305 115.906491 \nL 173.639885 109.553129 \nL 173.660674 106.566101 \nL 173.702254 116.096143 \nL 173.723044 116.428035 \nL 173.743834 119.177998 \nL 173.930943 119.177998 \nL 173.951732 110.691045 \nL 174.034892 117.660777 \nL 174.076472 116.570275 \nL 174.097262 121.406416 \nL 174.180421 119.462477 \nL 174.201211 117.044406 \nL 174.222001 120.126261 \nL 174.242791 120.126261 \nL 174.429899 120.126261 \nL 174.513059 132.121787 \nL 174.554639 128.518388 \nL 174.596218 123.634834 \nL 174.637798 129.466651 \nL 174.658588 132.311439 \nL 174.720958 128.565801 \nL 174.741747 128.565801 \nL 174.762537 128.565801 \nL 175.92677 124.583096 \nL 176.093089 135.63036 \nL 176.134668 126.479622 \nL 176.176248 139.423411 \nL 176.197038 139.613064 \nL 176.217828 143.453529 \nL 176.238618 137.005341 \nL 176.259408 137.005341 \nL 176.425727 134.492444 \nL 176.488096 138.190669 \nL 176.508886 134.065726 \nL 176.529676 135.156228 \nL 176.592045 131.505416 \nL 176.695995 153.931834 \nL 176.737575 150.802566 \nL 177.007843 143.311289 \nL 177.028633 143.738008 \nL 177.070212 147.38882 \nL 177.174162 125.483946 \nL 177.257321 155.543881 \nL 177.42364 160.996393 \nL 177.44443 154.121487 \nL 177.5068 161.660177 \nL 177.548379 155.591294 \nL 177.631539 167.58682 \nL 177.673118 167.539407 \nL 177.756278 159.005041 \nL 177.943387 159.005041 \nL 177.964177 163.888595 \nL 178.047336 163.556703 \nL 178.130496 154.453379 \nL 178.151285 159.336933 \nL 178.172075 160.04813 \nL 178.192865 159.005041 \nL 178.234445 169.198867 \nL 178.255235 168.914388 \nL 179.440257 154.643031 \nL 179.502627 182.000416 \nL 179.564996 176.642731 \nL 179.606576 176.168599 \nL 179.710525 189.396867 \nL 180.417381 189.396867 \nL 180.438171 183.754703 \nL 180.54212 185.22451 \nL 180.56291 185.319337 \nL 180.60449 194.138182 \nL 180.625279 174.841031 \nL 180.708439 142.505266 \nL 180.750019 142.742331 \nL 180.916338 141.699242 \nL 180.937127 140.419087 \nL 180.978707 156.349904 \nL 181.061867 155.306815 \nL 181.165816 165.595468 \nL 181.207396 130.794219 \nL 181.248975 135.345881 \nL 181.415294 135.156228 \nL 181.477664 132.595918 \nL 181.498454 120.363326 \nL 181.581613 122.212439 \nL 181.602403 125.009815 \nL 181.623193 116.759927 \nL 181.685563 111.260002 \nL 181.747932 121.406416 \nL 182.912165 106.660927 \nL 182.932955 107.182472 \nL 183.016114 117.471125 \nL 183.057694 115.527186 \nL 183.078484 110.596218 \nL 183.120063 121.92796 \nL 183.161643 115.053054 \nL 183.182433 116.759927 \nL 183.203223 110.264326 \nL 183.224013 110.264326 \nL 183.910078 114.863402 \nL 183.993238 125.199467 \nL 184.034817 123.208115 \nL 184.055607 126.621862 \nL 184.097187 117.755603 \nL 184.117977 121.501242 \nL 184.159557 117.85043 \nL 184.201136 117.660777 \nL 184.242716 135.63036 \nL 184.471405 133.259702 \nL 184.512984 131.837308 \nL 184.575354 143.216463 \nL 184.700093 169.862651 \nL 184.720883 169.672998 \nL 185.19905 149.854303 \nL 185.21984 152.936158 \nL 185.24063 153.362876 \nL 186.404862 140.4665 \nL 186.488022 156.112839 \nL 186.550391 151.656003 \nL 186.571181 150.849979 \nL 186.633551 141.130284 \nL 186.69592 143.832834 \nL 186.71671 143.832834 \nL 186.903819 141.983721 \nL 187.028558 137.28982 \nL 187.049348 137.526885 \nL 187.132507 155.069749 \nL 187.236457 148.811214 \nL 187.402776 143.643181 \nL 187.423566 146.962101 \nL 187.506725 145.207815 \nL 187.527515 143.548355 \nL 187.569095 143.690594 \nL 187.589885 151.940482 \nL 187.673044 149.474998 \nL 187.714624 146.535383 \nL 187.735414 149.759477 \nL 187.901732 150.091369 \nL 187.984892 155.449055 \nL 188.005682 154.595618 \nL 188.109631 142.315613 \nL 188.172001 145.350054 \nL 188.192791 146.250904 \nL 188.400689 146.440557 \nL 188.483849 141.414763 \nL 188.567008 154.974923 \nL 188.608588 150.281022 \nL 188.670958 150.992219 \nL 188.733327 146.772449 \nL 189.89756 156.72921 \nL 189.918349 151.656003 \nL 190.001509 154.974923 \nL 190.022299 154.974923 \nL 190.105458 149.712064 \nL 190.063879 155.449055 \nL 190.188618 151.039632 \nL 190.209408 151.039632 \nL 190.396516 143.263876 \nL 190.438096 153.884421 \nL 190.521256 152.272374 \nL 190.542045 152.224961 \nL 190.583625 149.854303 \nL 190.604415 145.824186 \nL 190.687575 147.673299 \nL 190.729154 147.673299 \nL 190.895473 141.983721 \nL 190.937053 144.164726 \nL 190.957843 144.781097 \nL 190.999423 143.16905 \nL 191.165741 133.923486 \nL 191.186531 139.423411 \nL 191.228111 138.427735 \nL 191.39443 139.992369 \nL 191.41522 144.544031 \nL 191.498379 143.92766 \nL 191.539959 141.36735 \nL 191.560749 144.401792 \nL 191.581539 146.440557 \nL 191.602329 140.798392 \nL 191.623118 142.694918 \nL 191.664698 138.238083 \nL 191.685488 143.500942 \nL 191.893387 138.001017 \nL 191.934966 138.238083 \nL 192.101285 110.216913 \nL 192.122075 112.018613 \nL 192.142865 114.341857 \nL 192.184445 108.462627 \nL 192.205235 109.647955 \nL 193.889214 111.307416 \nL 193.972373 116.712514 \nL 194.013953 115.14788 \nL 194.055533 114.152204 \nL 194.076323 120.315913 \nL 194.159482 132.074374 \nL 194.201062 125.721012 \nL 194.221852 125.721012 \nL 194.408961 125.294294 \nL 194.42975 127.854604 \nL 194.47133 124.914989 \nL 194.49212 125.294294 \nL 194.51291 123.255528 \nL 194.55449 125.768425 \nL 194.596069 136.673449 \nL 194.658439 127.570125 \nL 194.679229 124.962402 \nL 194.720808 125.673599 \nL 194.991077 121.311589 \nL 195.011867 130.177848 \nL 195.115816 128.423561 \nL 195.136606 130.083021 \nL 195.157396 127.759777 \nL 195.178186 123.72966 \nL 195.198975 126.384796 \nL 195.406874 119.746956 \nL 195.448454 122.82881 \nL 195.490034 116.902167 \nL 195.510823 122.496918 \nL 195.573193 110.027261 \nL 195.677142 116.380622 \nL 195.697932 116.380622 \nL 195.718722 118.466801 \nL 196.882955 116.522862 \nL 197.090853 130.841632 \nL 197.194803 127.285646 \nL 197.381911 131.173524 \nL 197.52744 124.677923 \nL 197.56902 126.14773 \nL 197.6106 123.871899 \nL 197.65218 124.440857 \nL 197.714549 111.923786 \nL 197.880868 117.328885 \nL 197.984817 111.923786 \nL 198.005607 112.872049 \nL 198.088767 105.807491 \nL 198.047187 115.053054 \nL 198.130346 107.893669 \nL 198.151136 94.997293 \nL 198.192716 102.441157 \nL 198.379825 105.001467 \nL 198.462984 99.217063 \nL 198.504564 101.967026 \nL 198.546144 111.07035 \nL 198.566934 100.023087 \nL 198.587724 94.665401 \nL 198.670883 100.734284 \nL 198.712463 101.824786 \nL 198.878782 105.143707 \nL 198.899572 105.096293 \nL 198.961941 97.415364 \nL 199.003521 102.678223 \nL 199.16984 87.316364 \nL 199.19063 88.074974 \nL 200.375652 84.898293 \nL 200.438022 82.053504 \nL 200.458811 83.475899 \nL 200.562761 94.902467 \nL 200.64592 91.773199 \nL 200.6875 91.962852 \nL 200.874609 91.962852 \nL 200.936978 85.230185 \nL 200.999348 87.41119 \nL 201.144877 97.794669 \nL 201.186457 94.04903 \nL 201.394355 94.04903 \nL 201.415145 98.837758 \nL 201.498305 95.281772 \nL 201.519095 95.518838 \nL 201.664624 106.234209 \nL 201.685414 103.152354 \nL 201.872522 101.161002 \nL 201.976472 108.083322 \nL 201.914102 100.82911 \nL 201.997262 105.143707 \nL 202.038841 110.027261 \nL 202.101211 127.664951 \nL 202.16358 121.975373 \nL 202.20516 122.686571 \nL 202.371479 122.686571 \nL 202.392269 121.501242 \nL 202.413059 125.009815 \nL 202.454639 125.057228 \nL 202.537798 131.600242 \nL 202.558588 138.380322 \nL 202.600168 129.419237 \nL 202.641747 130.983871 \nL 202.662537 126.621862 \nL 202.704117 127.664951 \nL 203.868349 123.871899 \nL 203.909929 124.962402 \nL 203.930719 123.682247 \nL 203.951509 123.682247 \nL 204.034668 121.121937 \nL 203.993089 124.014139 \nL 204.055458 121.453829 \nL 204.076248 122.781397 \nL 204.138618 120.742632 \nL 204.180197 116.143556 \nL 204.367306 116.143556 \nL 204.471256 108.035908 \nL 204.492045 111.591894 \nL 204.512835 111.307416 \nL 204.616785 100.117913 \nL 204.637575 102.441157 \nL 204.658364 102.393744 \nL 204.887053 102.393744 \nL 204.928633 104.527336 \nL 205.032582 93.480073 \nL 205.136531 105.096293 \nL 205.198901 105.001467 \nL 205.4068 102.63081 \nL 205.427589 105.617838 \nL 205.469169 100.592045 \nL 205.489959 98.41104 \nL 205.510749 105.238533 \nL 205.552329 120.221087 \nL 205.635488 115.242707 \nL 205.697858 118.988345 \nL 205.864177 119.557303 \nL 205.905756 120.505566 \nL 205.926546 117.044406 \nL 206.030496 107.040232 \nL 206.072075 108.51004 \nL 206.092865 110.975524 \nL 206.155235 105.523012 \nL 206.196814 105.997143 \nL 207.860004 99.928261 \nL 207.984743 107.656603 \nL 208.067902 105.238533 \nL 208.088692 105.04888 \nL 208.130272 102.48857 \nL 208.151062 103.768725 \nL 208.40054 101.72996 \nL 208.44212 102.298918 \nL 208.46291 102.298918 \nL 208.4837 102.014439 \nL 208.50449 103.010115 \nL 208.546069 105.997143 \nL 208.608439 102.820462 \nL 208.629229 102.725636 \nL 208.650019 98.079148 \nL 208.878707 96.277448 \nL 208.899497 96.324861 \nL 209.045026 107.514364 \nL 209.086606 104.29027 \nL 209.107396 106.70834 \nL 209.148975 103.910965 \nL 209.190555 111.876373 \nL 209.356874 111.876373 \nL 209.398454 107.798843 \nL 209.440034 111.449655 \nL 209.627142 123.777073 \nL 209.647932 122.259852 \nL 209.689512 121.406416 \nL 210.853744 130.699392 \nL 211.040853 108.035908 \nL 210.916114 136.341557 \nL 211.082433 110.92811 \nL 211.186382 120.695218 \nL 211.352701 121.833134 \nL 211.415071 117.234059 \nL 211.456651 122.117613 \nL 211.5606 120.126261 \nL 211.51902 123.919312 \nL 211.58139 121.027111 \nL 211.622969 120.647805 \nL 211.685339 122.82881 \nL 211.955607 121.216763 \nL 211.976397 124.061552 \nL 212.059557 121.975373 \nL 212.080346 123.018463 \nL 212.121926 121.311589 \nL 212.163506 119.699542 \nL 212.371405 121.880547 \nL 212.454564 117.376298 \nL 212.475354 117.660777 \nL 212.662463 124.725336 \nL 212.891151 124.725336 \nL 213.01589 115.14788 \nL 213.05747 121.453829 \nL 213.11984 115.14788 \nL 213.14063 114.910815 \nL 213.16142 116.570275 \nL 214.367232 116.570275 \nL 214.429601 111.734134 \nL 214.471181 114.958228 \nL 214.491971 114.53151 \nL 214.512761 109.221237 \nL 214.554341 121.643481 \nL 214.57513 126.052904 \nL 214.6375 121.216763 \nL 214.65829 122.117613 \nL 214.67908 122.117613 \nL 214.866189 118.75128 \nL 214.907768 119.225411 \nL 215.053297 127.333059 \nL 215.115667 123.350355 \nL 215.136457 124.251204 \nL 215.344355 127.80719 \nL 215.365145 120.932284 \nL 215.448305 126.621862 \nL 215.531464 122.0702 \nL 215.552254 124.440857 \nL 215.573044 127.854604 \nL 215.593834 123.72966 \nL 215.656203 126.764101 \nL 215.843312 126.764101 \nL 215.926472 130.177848 \nL 215.947262 129.940782 \nL 215.968051 127.80719 \nL 215.988841 129.276998 \nL 216.11358 139.138932 \nL 216.13437 134.445031 \nL 216.446218 134.445031 \nL 216.570958 144.68627 \nL 216.674907 137.194993 \nL 217.839139 132.358852 \nL 217.859929 132.690744 \nL 217.922299 132.074374 \nL 217.963879 134.397618 \nL 218.026248 120.41074 \nL 218.109408 120.837458 \nL 218.150987 120.837458 \nL 218.171777 119.50989 \nL 218.338096 119.50989 \nL 218.379676 119.130585 \nL 218.462835 121.406416 \nL 218.504415 113.678073 \nL 218.566785 117.755603 \nL 218.629154 120.315913 \nL 218.837053 115.479772 \nL 218.857843 115.953904 \nL 218.920212 119.557303 \nL 218.961792 116.665101 \nL 219.044952 106.755754 \nL 219.107321 111.307416 \nL 219.169691 111.591894 \nL 219.3568 111.591894 \nL 219.398379 109.173824 \nL 219.460749 111.307416 \nL 219.502329 114.247031 \nL 219.523118 111.260002 \nL 219.543908 114.199617 \nL 219.564698 117.281472 \nL 219.647858 114.53151 \nL 219.834966 114.53151 \nL 219.876546 109.363477 \nL 219.938916 110.311739 \nL 219.959706 113.203941 \nL 219.980496 107.561777 \nL 220.001285 108.652279 \nL 220.042865 103.199768 \nL 220.084445 108.652279 \nL 220.105235 110.548805 \nL 220.146814 109.979847 \nL 221.352627 109.979847 \nL 221.643685 98.221387 \nL 221.830794 98.221387 \nL 221.893163 100.165326 \nL 221.913953 97.225711 \nL 221.934743 93.432659 \nL 221.976323 99.596368 \nL 222.017902 96.419688 \nL 222.163431 104.242857 \nL 222.4337 107.941082 \nL 222.45449 107.182472 \nL 222.516859 114.578923 \nL 222.558439 113.48842 \nL 222.579229 107.229885 \nL 222.600019 114.863402 \nL 222.641598 114.863402 \nL 222.828707 118.798693 \nL 222.849497 113.156528 \nL 222.932656 119.36765 \nL 222.953446 119.652129 \nL 223.098975 109.41089 \nL 223.140555 109.790195 \nL 223.161345 109.790195 \nL 223.327664 112.255678 \nL 223.390034 110.406566 \nL 223.410823 114.673749 \nL 223.431613 113.820312 \nL 223.452403 116.665101 \nL 223.514773 129.324411 \nL 223.597932 128.233909 \nL 223.618722 128.139082 \nL 223.660302 127.475298 \nL 224.824534 127.475298 \nL 224.866114 132.501092 \nL 224.928484 128.423561 \nL 224.949273 128.091669 \nL 225.074013 135.63036 \nL 225.094803 134.113139 \nL 225.115592 134.113139 \nL 225.136382 132.785571 \nL 225.157172 132.880397 \nL 225.44823 126.242557 \nL 225.53139 135.061402 \nL 225.572969 133.164876 \nL 225.593759 127.996843 \nL 225.614549 129.656303 \nL 225.822448 128.755453 \nL 225.843238 128.945106 \nL 225.864028 129.324411 \nL 225.905607 126.14773 \nL 225.926397 131.552829 \nL 225.967977 128.992519 \nL 226.009557 137.858777 \nL 226.092716 134.871749 \nL 226.134296 134.871749 \nL 226.404564 132.121787 \nL 226.508513 135.725186 \nL 226.529303 133.970899 \nL 226.654042 127.238233 \nL 226.861941 123.777073 \nL 226.882731 128.565801 \nL 226.903521 122.449505 \nL 226.98668 128.423561 \nL 227.04905 129.988195 \nL 227.132209 126.14773 \nL 228.317232 119.50989 \nL 228.379601 122.97105 \nL 228.421181 120.932284 \nL 228.462761 118.277148 \nL 228.60829 107.087646 \nL 228.64987 107.087646 \nL 228.878558 112.397918 \nL 228.961718 105.475599 \nL 228.982507 110.880697 \nL 229.003297 110.691045 \nL 229.107247 113.820312 \nL 229.148826 113.820312 \nL 229.439885 108.035908 \nL 229.502254 108.794519 \nL 229.564624 115.622012 \nL 229.626993 113.393594 \nL 229.814102 113.393594 \nL 229.834892 114.199617 \nL 229.855682 110.975524 \nL 229.876472 109.790195 \nL 229.897262 111.923786 \nL 229.938841 114.38927 \nL 229.980421 109.979847 \nL 230.001211 112.492744 \nL 230.022001 111.307416 \nL 230.08437 111.449655 \nL 230.333849 106.897993 \nL 230.396218 110.975524 \nL 230.437798 110.122087 \nL 230.500168 105.712664 \nL 230.562537 106.755754 \nL 230.604117 106.803167 \nL 230.645697 105.285946 \nL 231.809929 105.760077 \nL 231.913879 110.216913 \nL 231.976248 106.85058 \nL 232.017828 109.458303 \nL 232.142567 106.234209 \nL 232.308886 110.216913 \nL 232.329676 108.367801 \nL 232.350466 108.367801 \nL 232.392045 105.807491 \nL 232.433625 109.221237 \nL 232.558364 112.492744 \nL 232.579154 107.561777 \nL 232.911792 106.992819 \nL 233.015741 113.251355 \nL 233.078111 109.790195 \nL 233.140481 109.221237 \nL 233.389959 109.221237 \nL 233.431539 109.363477 \nL 233.452329 106.044556 \nL 233.535488 98.979998 \nL 233.577068 99.16965 \nL 233.639437 99.596368 \nL 233.805756 98.790345 \nL 233.847336 101.682547 \nL 233.888916 96.75158 \nL 233.951285 76.648406 \nL 234.034445 84.566401 \nL 234.055235 85.514664 \nL 234.076025 81.105241 \nL 234.117604 81.769026 \nL 235.323417 81.769026 \nL 235.448156 89.023237 \nL 235.385786 80.678523 \nL 235.510525 86.889645 \nL 235.531315 83.855204 \nL 235.593685 84.898293 \nL 235.801583 84.898293 \nL 235.822373 81.911265 \nL 235.926323 82.575049 \nL 236.071852 74.799293 \nL 236.092642 74.846706 \nL 236.113431 75.178598 \nL 236.36291 72.570875 \nL 236.487649 83.428486 \nL 236.570808 81.484547 \nL 236.903446 81.484547 \nL 236.986606 78.781997 \nL 237.007396 81.247481 \nL 237.132135 83.807791 \nL 238.816114 83.807791 \nL 238.857694 92.958528 \nL 238.899273 82.669875 \nL 238.920063 84.613814 \nL 238.940853 85.277598 \nL 238.961643 83.855204 \nL 238.982433 82.906941 \nL 239.024013 84.187096 \nL 239.065592 87.031885 \nL 239.127962 85.514664 \nL 239.37744 86.889645 \nL 239.522969 78.402692 \nL 239.543759 78.497518 \nL 239.606129 75.036359 \nL 239.814028 75.036359 \nL 239.897187 77.359603 \nL 239.938767 76.695819 \nL 240.021926 81.53196 \nL 240.125876 81.057828 \nL 240.333774 86.842232 \nL 240.562463 72.713115 \nL 240.583253 76.079448 \nL 240.604042 75.415664 \nL 240.811941 75.415664 \nL 241.082209 63.894269 \nL 241.102999 64.463227 \nL 242.288022 62.614115 \nL 242.308811 59.247781 \nL 242.371181 65.079598 \nL 242.391971 62.614115 \nL 242.412761 63.230485 \nL 242.49592 50.144457 \nL 242.5375 51.472025 \nL 242.55829 53.321138 \nL 242.620659 52.420288 \nL 242.786978 55.549556 \nL 242.911718 48.579823 \nL 242.953297 56.497819 \nL 243.015667 53.131485 \nL 243.036457 53.036659 \nL 243.057247 52.278049 \nL 243.078037 46.351405 \nL 243.119616 46.398819 \nL 243.348305 48.058279 \nL 243.389885 45.592795 \nL 243.473044 46.161753 \nL 243.493834 46.303992 \nL 243.535414 43.980748 \nL 243.576993 54.885772 \nL 243.597783 53.605617 \nL 243.868051 45.924687 \nL 243.972001 57.446082 \nL 244.01358 54.980598 \nL 244.03437 55.502143 \nL 244.09674 54.55388 \nL 244.450168 45.403142 \nL 244.554117 40.804067 \nL 244.616487 43.648856 \nL 245.780719 59.674499 \nL 245.801509 64.51064 \nL 245.884668 62.045157 \nL 245.905458 60.812415 \nL 246.009408 75.226011 \nL 246.030197 70.342457 \nL 246.071777 68.019213 \nL 246.092567 71.43296 \nL 246.113357 71.385547 \nL 246.279676 69.299368 \nL 246.425205 82.954354 \nL 246.508364 93.243007 \nL 246.529154 90.777523 \nL 246.570734 85.846556 \nL 246.612314 86.320688 \nL 246.820212 81.342307 \nL 246.882582 90.682697 \nL 246.924162 86.225861 \nL 247.007321 79.256129 \nL 247.028111 81.010415 \nL 247.048901 85.846556 \nL 247.090481 85.704317 \nL 247.319169 85.704317 \nL 247.423118 105.04888 \nL 247.464698 99.501542 \nL 247.547858 90.208566 \nL 247.568648 91.962852 \nL 247.776546 91.962852 \nL 247.838916 90.350805 \nL 247.859706 91.393894 \nL 247.942865 109.221237 \nL 247.984445 95.424012 \nL 248.026025 91.536134 \nL 249.294206 95.85073 \nL 249.418946 108.794519 \nL 249.502105 108.178148 \nL 249.522895 104.906641 \nL 249.543685 107.087646 \nL 249.855533 98.790345 \nL 250.042642 113.156528 \nL 250.063431 113.203941 \nL 250.27133 111.212589 \nL 250.3337 107.466951 \nL 250.35449 112.872049 \nL 250.416859 120.932284 \nL 250.458439 112.255678 \nL 250.479229 112.113439 \nL 250.603968 116.902167 \nL 250.770287 116.902167 \nL 250.811867 116.617688 \nL 250.915816 101.967026 \nL 250.957396 104.527336 \nL 250.978186 103.38942 \nL 251.019765 106.329035 \nL 251.102925 108.936758 \nL 251.290034 108.604866 \nL 251.414773 116.428035 \nL 251.435563 106.139383 \nL 251.518722 112.350505 \nL 251.581092 115.527186 \nL 251.601882 115.384946 \nL 252.766114 115.384946 \nL 252.807694 111.022937 \nL 252.849273 119.035758 \nL 252.870063 120.837458 \nL 252.911643 117.234059 \nL 252.932433 117.70819 \nL 252.974013 118.656453 \nL 252.994803 118.419387 \nL 253.015592 120.790045 \nL 253.077962 117.471125 \nL 253.265071 117.471125 \nL 253.36902 111.9712 \nL 253.38981 112.445331 \nL 253.4106 117.091819 \nL 253.493759 113.678073 \nL 253.576919 115.432359 \nL 253.805607 118.561627 \nL 253.826397 113.820312 \nL 253.867977 119.035758 \nL 253.909557 118.798693 \nL 253.971926 121.074524 \nL 253.992716 118.134909 \nL 254.013506 115.953904 \nL 254.075876 118.893519 \nL 254.283774 123.919312 \nL 254.304564 120.884871 \nL 254.366934 126.384796 \nL 254.491673 133.212289 \nL 254.429303 122.165026 \nL 254.512463 132.595918 \nL 254.533253 123.966726 \nL 254.595622 124.346031 \nL 254.824311 117.471125 \nL 254.845101 118.703866 \nL 254.90747 123.113289 \nL 254.94905 126.669275 \nL 255.01142 124.108965 \nL 255.032209 122.449505 \nL 255.094579 122.781397 \nL 256.799348 116.238383 \nL 256.944877 126.195143 \nL 257.028037 133.164876 \nL 257.069616 131.363176 \nL 257.339885 135.061402 \nL 257.506203 140.988045 \nL 257.568573 138.475148 \nL 257.818051 132.548505 \nL 257.838841 135.582946 \nL 257.922001 132.406266 \nL 257.942791 134.113139 \nL 257.98437 130.983871 \nL 258.02595 131.884721 \nL 258.04674 131.884721 \nL 258.358588 142.505266 \nL 258.400168 137.953604 \nL 258.483327 140.324261 \nL 258.524907 143.500942 \nL 258.566487 143.216463 \nL 259.813879 151.276698 \nL 259.917828 137.052754 \nL 259.980197 140.940632 \nL 260.000987 143.02681 \nL 260.021777 138.238083 \nL 260.042567 138.238083 \nL 260.084147 138.238083 \nL 260.250466 139.375998 \nL 260.437575 124.48827 \nL 260.499944 129.039932 \nL 260.520734 123.634834 \nL 260.749423 124.677923 \nL 260.832582 116.665101 \nL 260.874162 120.173674 \nL 260.915741 123.492594 \nL 260.957321 119.035758 \nL 261.040481 115.242707 \nL 261.06127 115.479772 \nL 261.289959 115.527186 \nL 261.352329 113.820312 \nL 261.331539 115.859078 \nL 261.373118 115.14788 \nL 261.393908 117.471125 \nL 261.435488 112.540157 \nL 261.518648 107.893669 \nL 261.560227 110.311739 \nL 261.581017 110.311739 \nL 261.747336 111.307416 \nL 261.913655 101.066176 \nL 262.017604 109.979847 \nL 261.976025 100.449805 \nL 262.038394 103.626486 \nL 262.079974 103.626486 \nL 263.285786 104.148031 \nL 263.431315 93.195594 \nL 263.472895 95.661077 \nL 263.556054 94.760228 \nL 263.743163 94.760228 \nL 263.888692 91.441307 \nL 263.951062 102.061852 \nL 264.034221 99.406716 \nL 264.055011 99.406716 \nL 264.325279 103.579073 \nL 264.346069 100.592045 \nL 264.408439 107.135059 \nL 264.429229 111.781547 \nL 264.512388 109.553129 \nL 264.533178 109.553129 \nL 264.553968 108.699693 \nL 264.761867 105.428185 \nL 264.782656 106.376448 \nL 264.803446 110.975524 \nL 264.845026 105.807491 \nL 264.886606 106.85058 \nL 264.907396 107.798843 \nL 264.928186 106.186796 \nL 264.948975 104.385096 \nL 264.990555 107.75143 \nL 265.011345 107.324711 \nL 265.240034 107.324711 \nL 265.281613 105.997143 \nL 265.385563 112.492744 \nL 265.510302 106.091969 \nL 265.572671 106.091969 \nL 266.820063 101.72996 \nL 266.986382 113.441007 \nL 267.007172 114.436683 \nL 267.069542 114.38927 \nL 267.235861 114.38927 \nL 267.256651 108.51004 \nL 267.3606 110.359153 \nL 267.464549 101.018763 \nL 267.506129 102.63081 \nL 267.755607 102.63081 \nL 267.776397 103.057528 \nL 267.880346 92.958528 \nL 267.901136 98.458453 \nL 267.921926 97.130885 \nL 267.963506 99.643782 \nL 268.005086 98.790345 \nL 268.046665 98.126561 \nL 268.233774 98.126561 \nL 268.254564 88.027561 \nL 268.358513 90.919763 \nL 268.420883 99.16965 \nL 268.483253 93.811965 \nL 268.566412 92.010265 \nL 268.732731 90.824936 \nL 268.753521 96.704167 \nL 268.83668 94.428336 \nL 268.91984 91.48872 \nL 269.023789 101.398068 \nL 270.229601 98.600692 \nL 270.354341 101.350655 \nL 270.45829 95.992969 \nL 270.47908 97.605016 \nL 270.520659 98.837758 \nL 270.728558 102.014439 \nL 270.915667 92.579223 \nL 270.936457 93.480073 \nL 270.957247 93.432659 \nL 270.978037 91.962852 \nL 271.040406 92.199918 \nL 271.289885 94.333509 \nL 271.393834 84.234509 \nL 271.414624 86.842232 \nL 271.539363 90.635284 \nL 271.726472 88.975824 \nL 271.768051 89.07065 \nL 271.788841 104.574749 \nL 271.830421 87.221537 \nL 271.851211 89.07065 \nL 271.97595 73.045007 \nL 271.99674 74.135509 \nL 272.01753 71.338133 \nL 272.03832 71.338133 \nL 272.05911 71.338133 \nL 272.267008 69.489021 \nL 272.370958 68.73041 \nL 272.391747 74.277748 \nL 272.412537 74.988946 \nL 272.454117 73.187246 \nL 272.558066 69.726086 \nL 273.743089 59.721913 \nL 273.763879 57.398668 \nL 273.826248 61.19172 \nL 273.847038 61.19172 \nL 273.971777 68.161453 \nL 273.992567 61.286546 \nL 274.013357 61.665852 \nL 274.242045 65.790795 \nL 274.345995 66.1701 \nL 274.366785 57.8728 \nL 274.429154 64.226161 \nL 274.491524 62.566701 \nL 274.533104 61.665852 \nL 274.720212 59.010715 \nL 274.741002 62.99342 \nL 274.782582 56.118513 \nL 274.824162 59.911565 \nL 274.844952 59.864152 \nL 274.865741 68.588171 \nL 274.928111 59.579673 \nL 274.948901 59.769326 \nL 274.990481 59.769326 \nL 275.718126 57.540908 \nL 275.738916 61.997744 \nL 275.822075 59.627086 \nL 275.842865 59.769326 \nL 275.863655 62.661528 \nL 275.926025 56.924537 \nL 275.967604 56.640058 \nL 276.050764 58.915889 \nL 277.214996 60.812415 \nL 277.277366 66.549406 \nL 277.339735 63.040833 \nL 277.381315 59.864152 \nL 277.402105 56.308166 \nL 277.485265 59.105542 \nL 277.734743 65.079598 \nL 277.797113 61.618438 \nL 277.838692 62.424462 \nL 277.921852 68.635584 \nL 277.963431 64.273575 \nL 278.046591 61.476199 \nL 278.275279 61.476199 \nL 278.358439 55.502143 \nL 278.420808 58.868476 \nL 278.503968 65.079598 \nL 278.524758 64.368401 \nL 278.774236 64.368401 \nL 278.795026 59.769326 \nL 278.878186 64.463227 \nL 278.898975 64.463227 \nL 278.919765 64.320988 \nL 278.940555 64.795119 \nL 279.023715 68.398518 \nL 279.252403 68.398518 \nL 279.314773 68.777824 \nL 279.356352 66.786471 \nL 279.377142 71.43296 \nL 279.460302 66.31234 \nL 279.481092 64.558054 \nL 279.501882 64.795119 \nL 280.707694 64.795119 \nL 280.811643 61.049481 \nL 280.832433 62.377049 \nL 280.957172 69.109716 \nL 281.040332 66.122687 \nL 281.206651 66.122687 \nL 281.26902 64.605467 \nL 281.28981 67.687321 \nL 281.3106 67.355429 \nL 281.33139 68.019213 \nL 281.35218 61.002068 \nL 281.435339 68.114039 \nL 281.456129 69.441608 \nL 281.539288 69.251955 \nL 281.767977 65.221838 \nL 281.788767 66.454579 \nL 281.851136 79.066476 \nL 281.975876 95.329185 \nL 282.017455 96.75158 \nL 282.246144 100.402392 \nL 282.370883 88.217213 \nL 282.433253 96.324861 \nL 282.474832 93.100767 \nL 282.745101 87.980148 \nL 282.994579 103.152354 \nL 283.015369 104.811815 \nL 283.036159 103.38942 \nL 284.200391 102.393744 \nL 284.262761 99.264476 \nL 284.304341 100.0705 \nL 284.36671 107.988495 \nL 284.470659 107.941082 \nL 284.720138 104.716988 \nL 284.740928 105.523012 \nL 284.782507 108.083322 \nL 284.803297 104.527336 \nL 284.844877 105.001467 \nL 284.865667 106.139383 \nL 284.907247 104.385096 \nL 285.011196 100.449805 \nL 285.031986 101.540307 \nL 285.198305 103.53166 \nL 285.260674 100.0705 \nL 285.302254 100.781697 \nL 285.323044 102.915289 \nL 285.364624 99.786021 \nL 285.385414 101.208415 \nL 285.489363 93.005941 \nL 285.510153 95.329185 \nL 285.780421 94.333509 \nL 285.822001 92.105091 \nL 285.842791 99.833434 \nL 285.92595 93.859378 \nL 285.94674 94.94988 \nL 285.96753 93.337833 \nL 286.00911 93.954204 \nL 286.237798 89.307716 \nL 286.279378 94.001617 \nL 286.341747 93.717138 \nL 286.508066 84.187096 \nL 287.734668 86.462927 \nL 287.776248 80.536284 \nL 287.838618 84.756054 \nL 287.963357 89.876674 \nL 288.025727 89.876674 \nL 288.212835 92.105091 \nL 288.233625 90.018913 \nL 288.295995 92.958528 \nL 288.316785 97.225711 \nL 288.337575 92.057678 \nL 288.399944 94.380922 \nL 288.483104 91.441307 \nL 288.503893 92.057678 \nL 288.691002 92.057678 \nL 288.711792 94.855054 \nL 288.774162 88.833584 \nL 288.815741 91.48872 \nL 288.836531 94.333509 \nL 288.878111 86.65258 \nL 288.898901 88.454279 \nL 288.919691 88.691345 \nL 289.02364 106.566101 \nL 289.189959 106.566101 \nL 289.356278 98.221387 \nL 289.522597 123.397768 \nL 289.688916 121.548655 \nL 289.709706 121.975373 \nL 289.772075 121.880547 \nL 289.792865 124.962402 \nL 289.834445 118.893519 \nL 289.855235 133.07005 \nL 289.876025 129.229585 \nL 290.021554 115.811664 \nL 291.185786 124.48827 \nL 291.289735 134.207965 \nL 291.310525 132.501092 \nL 291.352105 127.570125 \nL 291.372895 131.695068 \nL 291.518424 146.535383 \nL 291.705533 140.4665 \nL 291.747113 140.656153 \nL 291.809482 133.544181 \nL 291.871852 136.483796 \nL 291.892642 135.725186 \nL 291.996591 128.328735 \nL 292.017381 130.651979 \nL 292.20449 130.651979 \nL 292.246069 124.535683 \nL 292.287649 129.703716 \nL 292.329229 148.479322 \nL 292.412388 141.272524 \nL 292.433178 138.332909 \nL 292.516338 139.186345 \nL 292.682656 134.065726 \nL 292.765816 138.285496 \nL 292.724236 133.591594 \nL 292.786606 138.001017 \nL 292.890555 130.699392 \nL 292.911345 132.92781 \nL 292.932135 133.496768 \nL 292.952925 126.764101 \nL 292.994504 134.445031 \nL 293.223193 128.992519 \nL 293.368722 140.4665 \nL 293.389512 138.143256 \nL 293.451882 134.72951 \nL 293.493461 135.156228 \nL 294.678484 136.199317 \nL 294.699273 133.259702 \nL 294.740853 140.371674 \nL 294.761643 139.186345 \nL 294.782433 141.557003 \nL 294.844803 136.768275 \nL 294.865592 140.845806 \nL 294.886382 138.569975 \nL 294.927962 144.354378 \nL 294.969542 143.785421 \nL 294.990332 143.358702 \nL 295.17744 142.505266 \nL 295.19823 149.285346 \nL 295.28139 145.112989 \nL 295.30218 145.492294 \nL 295.322969 128.613214 \nL 295.426919 132.595918 \nL 295.447709 136.673449 \nL 295.489288 136.483796 \nL 295.676397 136.483796 \nL 295.717977 133.164876 \nL 295.738767 136.104491 \nL 295.842716 150.138782 \nL 295.863506 147.957778 \nL 295.884296 148.337083 \nL 295.905086 145.966425 \nL 295.946665 151.134458 \nL 295.988245 147.341407 \nL 296.009035 147.957778 \nL 296.196144 142.979397 \nL 296.237724 150.043956 \nL 296.300093 144.591444 \nL 296.362463 136.483796 \nL 296.404042 145.018162 \nL 296.487202 138.001017 \nL 296.73668 129.324411 \nL 296.79905 132.074374 \nL 296.81984 134.58727 \nL 296.84063 128.802866 \nL 296.882209 129.466651 \nL 296.902999 129.561477 \nL 296.965369 132.216613 \nL 297.006949 130.889045 \nL 298.212761 121.264176 \nL 298.3375 129.087345 \nL 298.29592 119.841782 \nL 298.35829 128.091669 \nL 298.462239 126.432209 \nL 298.670138 125.626186 \nL 298.732507 121.453829 \nL 298.753297 128.613214 \nL 298.774087 126.14773 \nL 298.961196 140.371674 \nL 298.981986 140.324261 \nL 299.252254 133.496768 \nL 299.293834 133.733834 \nL 299.314624 134.919162 \nL 299.397783 134.397618 \nL 299.418573 134.445031 \nL 299.460153 133.970899 \nL 299.501732 132.311439 \nL 299.751211 132.311439 \nL 299.91753 123.777073 \nL 299.95911 127.095993 \nL 300.270958 122.733984 \nL 300.374907 141.414763 \nL 300.416487 141.035458 \nL 300.437276 143.880247 \nL 300.499646 142.505266 \nL 301.663879 135.63036 \nL 301.767828 139.85013 \nL 301.705458 135.298467 \nL 301.809408 138.94928 \nL 301.830197 139.233759 \nL 301.975727 129.940782 \nL 302.162835 129.940782 \nL 302.204415 128.091669 \nL 302.266785 129.324411 \nL 302.308364 128.992519 \nL 302.453893 139.423411 \nL 302.474683 139.423411 \nL 302.724162 135.345881 \nL 302.786531 141.035458 \nL 302.807321 136.673449 \nL 302.93206 128.470974 \nL 302.95285 130.3675 \nL 302.97364 130.3675 \nL 303.160749 126.14773 \nL 303.306278 119.415064 \nL 303.327068 120.031434 \nL 303.389437 114.341857 \nL 303.451807 115.953904 \nL 303.659706 117.992669 \nL 303.784445 111.212589 \nL 303.867604 110.880697 \nL 303.929974 116.285796 \nL 303.950764 116.380622 \nL 305.655533 119.320237 \nL 305.821852 125.815838 \nL 305.842642 125.673599 \nL 305.863431 125.673599 \nL 305.884221 125.246881 \nL 305.925801 126.621862 \nL 305.946591 128.044256 \nL 305.967381 123.777073 \nL 306.15449 115.622012 \nL 306.216859 117.613364 \nL 306.320808 122.402092 \nL 306.445548 121.16935 \nL 306.715816 112.919463 \nL 306.736606 113.346181 \nL 306.757396 115.005641 \nL 306.778186 112.255678 \nL 306.798975 105.760077 \nL 306.882135 111.07035 \nL 306.902925 109.932434 \nL 306.944504 111.923786 \nL 306.965294 111.781547 \nL 307.152403 111.781547 \nL 307.193983 106.423862 \nL 307.256352 107.75143 \nL 307.277142 110.501392 \nL 307.381092 109.695369 \nL 307.422671 108.130735 \nL 307.464251 109.031585 \nL 308.711643 107.561777 \nL 308.753223 105.570425 \nL 308.774013 106.329035 \nL 308.836382 95.992969 \nL 308.898752 96.988645 \nL 308.919542 102.204092 \nL 309.14823 102.204092 \nL 309.2106 99.454129 \nL 309.25218 99.501542 \nL 309.314549 101.540307 \nL 309.293759 97.889495 \nL 309.335339 99.596368 \nL 309.460078 91.48872 \nL 309.688767 91.48872 \nL 309.709557 95.424012 \nL 309.730346 90.682697 \nL 309.771926 92.721462 \nL 309.959035 79.161303 \nL 310.146144 73.945856 \nL 310.270883 81.105241 \nL 310.374832 71.480373 \nL 310.395622 73.139833 \nL 310.437202 76.980298 \nL 310.457992 73.99327 \nL 310.66589 73.99327 \nL 310.70747 77.881148 \nL 310.76984 73.99327 \nL 310.873789 63.277899 \nL 310.956949 66.881298 \nL 312.141971 72.286396 \nL 312.162761 71.717439 \nL 312.204341 73.566551 \nL 312.34987 82.43281 \nL 312.391449 79.398368 \nL 312.433029 82.006091 \nL 312.703297 82.006091 \nL 312.744877 81.579373 \nL 312.848826 89.023237 \nL 312.786457 80.583697 \nL 312.911196 85.60949 \nL 313.139885 85.60949 \nL 313.181464 83.286246 \nL 313.243834 85.846556 \nL 313.368573 80.868176 \nL 313.389363 84.993119 \nL 313.410153 79.066476 \nL 313.430943 79.066476 \nL 313.659631 83.570725 \nL 313.76358 78.023387 \nL 313.80516 79.967326 \nL 313.82595 79.777673 \nL 313.950689 87.174124 \nL 314.200168 87.174124 \nL 314.262537 85.799143 \nL 314.428856 96.419688 \nL 315.634668 92.484397 \nL 315.697038 94.428336 \nL 315.759408 93.005941 \nL 315.800987 97.605016 \nL 315.884147 92.484397 \nL 315.904937 94.570575 \nL 316.195995 88.264627 \nL 316.362314 100.307566 \nL 316.383104 100.639458 \nL 316.403893 100.023087 \nL 316.424683 100.023087 \nL 316.632582 98.648106 \nL 316.653372 99.122237 \nL 316.736531 104.195444 \nL 316.757321 100.97135 \nL 316.90285 92.436983 \nL 317.131539 96.704167 \nL 317.214698 92.105091 \nL 317.235488 95.85073 \nL 317.256278 96.230035 \nL 317.318648 99.217063 \nL 317.381017 97.984322 \nL 317.422597 98.600692 \nL 317.734445 94.475749 \nL 317.838394 99.217063 \nL 317.796814 93.100767 \nL 317.879974 97.225711 \nL 317.921554 95.518838 \nL 319.127366 95.518838 \nL 319.189735 92.010265 \nL 319.252105 94.04903 \nL 319.314475 91.299068 \nL 319.356054 93.29042 \nL 319.376844 94.001617 \nL 319.397634 92.721462 \nL 319.439214 91.48872 \nL 319.709482 91.48872 \nL 319.751062 89.07065 \nL 319.771852 85.656904 \nL 319.813431 95.70849 \nL 319.896591 100.023087 \nL 319.917381 98.885171 \nL 320.208439 104.29027 \nL 320.229229 100.639458 \nL 320.270808 109.553129 \nL 320.353968 118.324561 \nL 320.395548 115.716838 \nL 320.437127 115.716838 \nL 320.645026 116.902167 \nL 320.686606 114.247031 \nL 320.769765 114.294444 \nL 320.811345 118.419387 \nL 320.852925 114.152204 \nL 320.936084 107.277298 \nL 321.143983 104.716988 \nL 321.164773 110.027261 \nL 321.247932 107.656603 \nL 321.393461 90.208566 \nL 321.414251 93.100767 \nL 321.435041 92.484397 \nL 322.661643 94.380922 \nL 322.724013 92.247331 \nL 322.744803 93.005941 \nL 322.765592 101.113589 \nL 322.848752 92.38957 \nL 322.931911 96.561927 \nL 323.13981 96.561927 \nL 323.264549 107.988495 \nL 323.326919 104.432509 \nL 323.347709 103.38942 \nL 323.389288 111.686721 \nL 323.659557 111.686721 \nL 323.825876 101.492894 \nL 323.846665 102.204092 \nL 323.867455 99.975674 \nL 323.888245 98.079148 \nL 323.929825 99.359303 \nL 324.116934 99.359303 \nL 324.220883 103.38942 \nL 324.262463 92.863702 \nL 324.366412 98.790345 \nL 324.428782 95.329185 \nL 324.61589 95.329185 \nL 324.65747 94.902467 \nL 324.76142 85.704317 \nL 324.782209 88.833584 \nL 324.844579 84.993119 \nL 324.865369 86.320688 \nL 324.886159 92.626636 \nL 324.927738 91.536134 \nL 326.133551 91.536134 \nL 326.154341 99.548955 \nL 326.2375 92.53181 \nL 326.27908 96.324861 \nL 326.341449 93.385246 \nL 326.362239 93.764552 \nL 326.383029 93.29042 \nL 326.424609 93.385246 \nL 326.632507 93.385246 \nL 326.674087 88.880997 \nL 326.736457 92.958528 \nL 326.757247 94.096444 \nL 326.778037 83.665551 \nL 326.881986 86.415514 \nL 326.923566 86.415514 \nL 327.110674 84.756054 \nL 327.152254 91.583547 \nL 327.214624 87.26895 \nL 327.276993 84.803467 \nL 327.297783 87.743082 \nL 327.318573 88.359453 \nL 327.339363 86.368101 \nL 327.360153 84.803467 \nL 327.380943 86.51034 \nL 327.422522 86.51034 \nL 327.630421 86.51034 \nL 327.672001 87.26895 \nL 327.692791 83.001767 \nL 327.77595 86.605166 \nL 327.79674 86.51034 \nL 327.879899 90.161152 \nL 327.900689 89.9715 \nL 328.191747 91.915439 \nL 328.295697 86.462927 \nL 328.316487 89.212889 \nL 328.337276 86.178448 \nL 328.378856 89.82926 \nL 328.420436 89.82926 \nL 329.626248 86.036209 \nL 329.647038 86.557753 \nL 329.667828 85.562077 \nL 329.917306 76.41134 \nL 330.104415 78.734584 \nL 330.166785 75.131185 \nL 330.187575 79.967326 \nL 330.208364 79.967326 \nL 330.333104 75.273425 \nL 330.395473 79.8725 \nL 330.603372 83.286246 \nL 330.665741 78.734584 \nL 330.686531 84.756054 \nL 330.707321 81.437134 \nL 330.728111 81.38972 \nL 330.748901 85.040533 \nL 330.83206 82.29057 \nL 330.85285 82.006091 \nL 330.89443 78.734584 \nL 331.102329 78.734584 \nL 331.123118 80.299218 \nL 331.185488 77.786321 \nL 331.227068 77.596669 \nL 331.331017 83.665551 \nL 331.372597 82.29057 \nL 331.393387 82.29057 \nL 331.414177 84.518988 \nL 331.684445 84.518988 \nL 331.850764 73.282072 \nL 331.913133 74.277748 \nL 333.098156 74.135509 \nL 333.139735 68.967476 \nL 333.222895 69.299368 \nL 333.264475 68.825237 \nL 333.306054 71.195894 \nL 333.368424 70.010565 \nL 333.389214 69.299368 \nL 333.410004 70.38987 \nL 333.597113 69.441608 \nL 333.617902 71.006241 \nL 333.721852 70.53211 \nL 333.784221 72.238983 \nL 333.763431 69.299368 \nL 333.846591 72.001917 \nL 333.867381 69.157129 \nL 333.908961 69.204542 \nL 334.179229 68.019213 \nL 334.262388 72.238983 \nL 334.303968 70.864002 \nL 334.324758 72.855354 \nL 334.366338 67.734734 \nL 334.387127 64.51064 \nL 334.615816 64.51064 \nL 334.636606 70.911415 \nL 334.719765 67.545082 \nL 334.740555 66.31234 \nL 334.761345 70.010565 \nL 334.844504 74.846706 \nL 334.906874 72.570875 \nL 335.093983 67.07095 \nL 335.156352 67.924387 \nL 335.177142 70.200218 \nL 335.197932 65.838208 \nL 335.239512 65.885622 \nL 335.322671 53.415964 \nL 335.385041 55.31249 \nL 336.590853 54.696119 \nL 336.715592 46.493645 \nL 336.736382 47.441908 \nL 336.840332 43.127311 \nL 336.861121 46.256579 \nL 336.881911 45.9721 \nL 336.902701 46.967776 \nL 337.08981 39.760978 \nL 337.13139 41.989396 \nL 337.172969 45.07125 \nL 337.235339 42.368701 \nL 337.339288 29.756804 \nL 337.380868 31.937809 \nL 337.609557 28.713715 \nL 337.630346 29.519739 \nL 337.651136 33.360203 \nL 337.692716 28.950781 \nL 337.734296 29.187847 \nL 337.775876 28.618889 \nL 337.817455 30.989546 \nL 337.838245 28.19217 \nL 337.879825 36.062753 \nL 337.900615 36.062753 \nL 338.191673 19.468152 \nL 338.233253 23.024138 \nL 338.254042 25.252555 \nL 338.295622 20.226762 \nL 338.337202 23.593095 \nL 338.357992 21.838809 \nL 338.378782 23.640508 \nL 338.399572 23.35603 \nL 338.58668 23.35603 \nL 338.60747 24.778424 \nL 338.64905 21.222438 \nL 338.66984 21.127612 \nL 338.773789 34.545532 \nL 338.836159 30.989546 \nL 338.856949 31.274025 \nL 338.898528 29.851631 \nL 340.083551 31.274025 \nL 340.16671 30.75248 \nL 340.20829 36.062753 \nL 340.291449 33.217964 \nL 340.395399 31.321438 \nL 340.603297 27.907692 \nL 340.644877 32.364527 \nL 340.728037 31.321438 \nL 340.790406 26.295645 \nL 340.831986 27.812865 \nL 340.852776 32.791246 \nL 340.894355 31.842983 \nL 341.102254 31.842983 \nL 341.164624 36.442058 \nL 341.247783 36.394645 \nL 341.268573 36.394645 \nL 341.330943 39.286847 \nL 341.372522 37.53256 \nL 341.622001 40.424762 \nL 341.66358 36.77395 \nL 341.72595 39.713565 \nL 341.74674 39.239433 \nL 341.76753 39.381673 \nL 341.829899 43.743682 \nL 341.871479 38.670476 \nL 342.120958 38.670476 \nL 342.183327 33.786922 \nL 342.204117 39.097194 \nL 342.224907 38.291171 \nL 342.266487 36.489471 \nL 342.308066 38.101518 \nL 342.328856 40.187696 \nL 342.370436 37.295494 \nL 343.576248 33.360203 \nL 343.659408 31.842983 \nL 343.680197 37.105842 \nL 343.700987 35.209316 \nL 343.742567 41.373025 \nL 343.763357 43.127311 \nL 343.804937 41.041133 \nL 343.825727 38.196344 \nL 343.888096 39.998044 \nL 344.095995 33.644682 \nL 344.137575 37.722213 \nL 344.220734 36.63171 \nL 344.324683 41.278199 \nL 344.387053 40.661828 \nL 344.574162 40.661828 \nL 344.594952 45.023837 \nL 344.678111 44.075574 \nL 344.698901 42.463527 \nL 344.719691 44.075574 \nL 344.82364 52.657354 \nL 344.84443 50.903067 \nL 344.86522 48.342758 \nL 344.88601 48.484997 \nL 345.093908 47.394495 \nL 345.197858 44.502293 \nL 345.218648 46.209166 \nL 345.281017 51.472025 \nL 345.343387 50.428936 \nL 345.364177 52.230636 \nL 345.384966 51.472025 \nL 345.634445 47.441908 \nL 345.717604 50.144457 \nL 345.696814 46.398819 \nL 345.738394 49.101368 \nL 345.821554 45.829861 \nL 345.863133 45.877274 \nL 347.068946 41.325612 \nL 347.089735 39.808391 \nL 347.110525 44.644532 \nL 347.172895 41.041133 \nL 347.193685 43.222138 \nL 347.276844 41.183372 \nL 347.339214 42.748006 \nL 347.380794 40.519588 \nL 347.692642 37.485147 \nL 347.755011 45.782448 \nL 347.838171 43.127311 \nL 347.87975 40.567002 \nL 348.066859 40.567002 \nL 348.087649 38.148931 \nL 348.191598 38.43341 \nL 348.233178 42.036809 \nL 348.274758 39.476499 \nL 348.357917 33.265377 \nL 348.378707 34.450706 \nL 349.064773 34.450706 \nL 349.085563 37.6748 \nL 349.127142 33.123138 \nL 349.147932 33.881748 \nL 349.168722 33.265377 \nL 349.189512 34.071401 \nL 349.210302 35.636034 \nL 349.272671 33.786922 \nL 349.293461 33.834335 \nL 349.355831 33.739509 \nL 350.582433 32.980898 \nL 350.644803 28.808541 \nL 350.686382 31.321438 \nL 350.769542 33.549856 \nL 350.727962 30.847307 \nL 350.790332 32.41194 \nL 350.831911 30.373175 \nL 350.852701 33.692095 \nL 350.873491 35.209316 \nL 351.08139 30.420588 \nL 351.268499 50.097044 \nL 351.330868 44.549706 \nL 351.351658 45.260903 \nL 351.559557 47.963452 \nL 351.684296 39.903218 \nL 351.725876 44.31264 \nL 351.809035 43.791096 \nL 351.829825 43.601443 \nL 351.850615 44.170401 \nL 351.871405 44.170401 \nL 352.079303 44.170401 \nL 352.120883 45.735034 \nL 352.224832 39.855804 \nL 352.287202 42.368701 \nL 352.328782 40.424762 \nL 352.370361 36.821363 \nL 352.55747 38.385997 \nL 352.57826 34.592945 \nL 352.59905 38.812715 \nL 352.66142 36.821363 \nL 352.682209 36.584297 \nL 352.786159 22.31294 \nL 352.827738 22.881898 \nL 352.869318 23.593095 \nL 352.869318 23.593095 \n\" style=\"fill:none;stroke:#1f77b4;stroke-linecap:square;stroke-width:1.5;\"/>\n   </g>\n   <g id=\"patch_3\">\n    <path d=\"M 33.2875 203.04 \nL 33.2875 7.2 \n\" style=\"fill:none;stroke:#000000;stroke-linecap:square;stroke-linejoin:miter;stroke-width:0.8;\"/>\n   </g>\n   <g id=\"patch_4\">\n    <path d=\"M 368.0875 203.04 \nL 368.0875 7.2 \n\" style=\"fill:none;stroke:#000000;stroke-linecap:square;stroke-linejoin:miter;stroke-width:0.8;\"/>\n   </g>\n   <g id=\"patch_5\">\n    <path d=\"M 33.2875 203.04 \nL 368.0875 203.04 \n\" style=\"fill:none;stroke:#000000;stroke-linecap:square;stroke-linejoin:miter;stroke-width:0.8;\"/>\n   </g>\n   <g id=\"patch_6\">\n    <path d=\"M 33.2875 7.2 \nL 368.0875 7.2 \n\" style=\"fill:none;stroke:#000000;stroke-linecap:square;stroke-linejoin:miter;stroke-width:0.8;\"/>\n   </g>\n  </g>\n </g>\n <defs>\n  <clipPath id=\"p6c5a122d2d\">\n   <rect height=\"195.84\" width=\"334.8\" x=\"33.2875\" y=\"7.2\"/>\n  </clipPath>\n </defs>\n</svg>\n",
      "image/png": "[encoded data removed]"
     },
     "metadata": {
      "needs_background": "light"
     }
    }
   ],
   "source": [
    "df_data_set.iloc[:,1].plot()"
   ]
  },
  {
   "cell_type": "code",
   "execution_count": 200,
   "metadata": {},
   "outputs": [
    {
     "output_type": "execute_result",
     "data": {
      "text/plain": [
       "target_1         1.000000\n",
       "close_price_1    0.999022\n",
       "high_price_1     0.998690\n",
       "low_price_1      0.998652\n",
       "open_price_1     0.998341\n",
       "target_3         0.994202\n",
       "close_price_3    0.993519\n",
       "high_price_3     0.993314\n",
       "low_price_3      0.993134\n",
       "open_price_3     0.992622\n",
       "target_7         0.982887\n",
       "close_price_7    0.982096\n",
       "low_price_7      0.982084\n",
       "open_price_7     0.981624\n",
       "high_price_7     0.981396\n",
       "target_6         0.977109\n",
       "close_price_6    0.976319\n",
       "low_price_6      0.975972\n",
       "open_price_6     0.975691\n",
       "high_price_6     0.975577\n",
       "target_2         0.968274\n",
       "low_price_2      0.968017\n",
       "open_price_2     0.967807\n",
       "close_price_2    0.967730\n",
       "high_price_2     0.967377\n",
       "target_4         0.955991\n",
       "low_price_4      0.955988\n",
       "close_price_4    0.955831\n",
       "open_price_4     0.955416\n",
       "high_price_4     0.955292\n",
       "month            0.898300\n",
       "open_price_5     0.805578\n",
       "close_price_5    0.804335\n",
       "high_price_5     0.804116\n",
       "target_5         0.803851\n",
       "low_price_5      0.803247\n",
       "high_price_9     0.748059\n",
       "open_price_9     0.747894\n",
       "target_9         0.744645\n",
       "close_price_9    0.743847\n",
       "low_price_9      0.742640\n",
       "open_price_8     0.686501\n",
       "low_price_8      0.686107\n",
       "close_price_8    0.683082\n",
       "high_price_8     0.682783\n",
       "target_8         0.682700\n",
       "Name: target_1, dtype: float64"
      ]
     },
     "metadata": {},
     "execution_count": 200
    }
   ],
   "source": [
    "import pandas as pd\n",
    "import seaborn as sn\n",
    "import matplotlib.pyplot as plt\n",
    "\n",
    "corrMatrix = df_data_set.corr()\n",
    "target_1_corr = corrMatrix['target_1'].abs().sort_values(ascending=False)\n",
    "target_1_corr = target_1_corr[target_1_corr > 0.5]\n",
    "target_1_corr"
   ]
  },
  {
   "cell_type": "markdown",
   "metadata": {},
   "source": [
    "# Neural network"
   ]
  },
  {
   "cell_type": "code",
   "execution_count": 162,
   "metadata": {
    "tags": []
   },
   "outputs": [
    {
     "output_type": "stream",
     "name": "stdout",
     "text": [
      "[name: \"/device:CPU:0\"\ndevice_type: \"CPU\"\nmemory_limit: 268435456\nlocality {\n}\nincarnation: 6110240898202823576\n, name: \"/device:XLA_CPU:0\"\ndevice_type: \"XLA_CPU\"\nmemory_limit: 17179869184\nlocality {\n}\nincarnation: 13376529407255795504\nphysical_device_desc: \"device: XLA_CPU device\"\n]\n"
     ]
    }
   ],
   "source": [
    "import tensorflow as tf\n",
    "from tensorflow.python import keras\n",
    "from tensorflow.python.keras import losses\n",
    "from tensorflow.python.keras import layers\n",
    "from sklearn.model_selection import train_test_split\n",
    "from tensorflow.python.client import device_lib\n",
    "from tensorflow.python.keras.callbacks import EarlyStopping\n",
    "\n",
    "from sklearn.preprocessing import MinMaxScaler\n",
    "\n",
    "import numpy as np\n",
    "\n",
    "import matplotlib.pyplot as plt\n",
    "\n",
    "print(device_lib.list_local_devices())"
   ]
  },
  {
   "cell_type": "code",
   "execution_count": 163,
   "metadata": {
    "tags": []
   },
   "outputs": [
    {
     "output_type": "stream",
     "name": "stdout",
     "text": [
      "(3839, 71, 10)\n(3839, 2)\n(1856, 71, 10)\n(1856, 2)\n"
     ]
    }
   ],
   "source": [
    "y_size = instruments_count\n",
    "X_size = df_data_set.shape[1] - y_size\n",
    "\n",
    "\n",
    "# Cut features and targets\n",
    "X = df_data_set.iloc[:,:X_size]\n",
    "y = df_data_set.iloc[:,X_size:X_size+y_size]\n",
    "\n",
    "# Split train and test data\n",
    "X_train, X_test, y_train, y_test = train_test_split(X, y, test_size=0.33, shuffle=True)\n",
    "\n",
    "# scale inputs with MinMaxScaler()\n",
    "input_scaler =  MinMaxScaler()\n",
    "# fit scaler\n",
    "input_scaler.fit(X)\n",
    "# transform training dataset\n",
    "X_train = input_scaler.transform(X_train)\n",
    "# transform test dataset\n",
    "X_test = input_scaler.transform(X_test)\n",
    "\n",
    "# Transform output with MinMaxScaler()\n",
    "output_scaler = MinMaxScaler()\n",
    "# fit scaler on training dataset\n",
    "output_scaler.fit(y)\n",
    "# transform training dataset\n",
    "y_train = output_scaler.transform(y_train)\n",
    "# transform test dataset\n",
    "y_test = output_scaler.transform(y_test)\n",
    "\n",
    "# Reshape and create loopback\n",
    "look_back = 14 * 5\n",
    "\n",
    "def reshape_with_look_back(look_back, dataset):\n",
    "    output = np.ndarray(((dataset.shape[0] - look_back), look_back + 1, dataset.shape[1]))\n",
    "\n",
    "    for i in range(look_back, dataset.shape[0]):\n",
    "        output[i-look_back] = dataset[i-look_back:i+1]\n",
    "\n",
    "    return output\n",
    "\n",
    "# Create look back for input\n",
    "X_train = reshape_with_look_back(look_back, X_train)\n",
    "X_test = reshape_with_look_back(look_back, X_test)\n",
    "\n",
    "# Adopt look back for output\n",
    "y_train = y_train[look_back:]\n",
    "y_test = y_test[look_back:]\n",
    "\n",
    "# TODO Add forward days\n",
    "# foward_days = 50\n",
    "\n",
    "print(X_train.shape)\n",
    "print(y_train.shape)\n",
    "print(X_test.shape)\n",
    "print(y_test.shape)"
   ]
  },
  {
   "cell_type": "code",
   "execution_count": 164,
   "metadata": {
    "tags": []
   },
   "outputs": [
    {
     "output_type": "stream",
     "name": "stdout",
     "text": [
      "Model: \"sequential_17\"\n",
      "_________________________________________________________________\n",
      "Layer (type)                 Output Shape              Param #   \n",
      "=================================================================\n",
      "lstm_42 (LSTM)               (None, 71, 10)            840       \n",
      "_________________________________________________________________\n",
      "dropout_42 (Dropout)         (None, 71, 10)            0         \n",
      "_________________________________________________________________\n",
      "lstm_43 (LSTM)               (None, 10)                840       \n",
      "_________________________________________________________________\n",
      "dropout_43 (Dropout)         (None, 10)                0         \n",
      "_________________________________________________________________\n",
      "dense_17 (Dense)             (None, 2)                 22        \n",
      "=================================================================\n",
      "Total params: 1,702\n",
      "Trainable params: 1,702\n",
      "Non-trainable params: 0\n",
      "_________________________________________________________________\n",
      "None\n",
      "Train on 3839 samples, validate on 1856 samples\n",
      "Epoch 1/1000\n",
      "3839/3839 - 7s - loss: 0.0894 - mean_absolute_error: 0.3577 - val_loss: 0.0222 - val_mean_absolute_error: 0.1635\n",
      "Epoch 2/1000\n",
      "3839/3839 - 3s - loss: 0.0295 - mean_absolute_error: 0.1902 - val_loss: 0.0199 - val_mean_absolute_error: 0.1535\n",
      "Epoch 3/1000\n",
      "3839/3839 - 3s - loss: 0.0265 - mean_absolute_error: 0.1792 - val_loss: 0.0193 - val_mean_absolute_error: 0.1514\n",
      "Epoch 4/1000\n",
      "3839/3839 - 3s - loss: 0.0256 - mean_absolute_error: 0.1760 - val_loss: 0.0189 - val_mean_absolute_error: 0.1503\n",
      "Epoch 5/1000\n",
      "3839/3839 - 3s - loss: 0.0249 - mean_absolute_error: 0.1740 - val_loss: 0.0191 - val_mean_absolute_error: 0.1506\n",
      "Epoch 6/1000\n",
      "3839/3839 - 3s - loss: 0.0244 - mean_absolute_error: 0.1716 - val_loss: 0.0186 - val_mean_absolute_error: 0.1494\n",
      "Epoch 7/1000\n",
      "3839/3839 - 3s - loss: 0.0231 - mean_absolute_error: 0.1689 - val_loss: 0.0186 - val_mean_absolute_error: 0.1491\n",
      "Epoch 8/1000\n",
      "3839/3839 - 3s - loss: 0.0223 - mean_absolute_error: 0.1661 - val_loss: 0.0182 - val_mean_absolute_error: 0.1479\n",
      "Epoch 9/1000\n",
      "3839/3839 - 3s - loss: 0.0223 - mean_absolute_error: 0.1649 - val_loss: 0.0180 - val_mean_absolute_error: 0.1467\n",
      "Epoch 10/1000\n",
      "3839/3839 - 3s - loss: 0.0217 - mean_absolute_error: 0.1633 - val_loss: 0.0175 - val_mean_absolute_error: 0.1455\n",
      "Epoch 11/1000\n",
      "3839/3839 - 3s - loss: 0.0211 - mean_absolute_error: 0.1615 - val_loss: 0.0173 - val_mean_absolute_error: 0.1436\n",
      "Epoch 12/1000\n",
      "3839/3839 - 3s - loss: 0.0208 - mean_absolute_error: 0.1594 - val_loss: 0.0167 - val_mean_absolute_error: 0.1415\n",
      "Epoch 13/1000\n",
      "3839/3839 - 3s - loss: 0.0194 - mean_absolute_error: 0.1549 - val_loss: 0.0162 - val_mean_absolute_error: 0.1392\n",
      "Epoch 14/1000\n",
      "3839/3839 - 3s - loss: 0.0189 - mean_absolute_error: 0.1524 - val_loss: 0.0157 - val_mean_absolute_error: 0.1372\n",
      "Epoch 15/1000\n",
      "3839/3839 - 3s - loss: 0.0188 - mean_absolute_error: 0.1526 - val_loss: 0.0152 - val_mean_absolute_error: 0.1347\n",
      "Epoch 16/1000\n",
      "3839/3839 - 3s - loss: 0.0186 - mean_absolute_error: 0.1504 - val_loss: 0.0146 - val_mean_absolute_error: 0.1327\n",
      "Epoch 17/1000\n",
      "3839/3839 - 3s - loss: 0.0172 - mean_absolute_error: 0.1461 - val_loss: 0.0144 - val_mean_absolute_error: 0.1300\n",
      "Epoch 18/1000\n",
      "3839/3839 - 3s - loss: 0.0167 - mean_absolute_error: 0.1424 - val_loss: 0.0132 - val_mean_absolute_error: 0.1251\n",
      "Epoch 19/1000\n",
      "3839/3839 - 3s - loss: 0.0159 - mean_absolute_error: 0.1387 - val_loss: 0.0123 - val_mean_absolute_error: 0.1203\n",
      "Epoch 20/1000\n",
      "3839/3839 - 3s - loss: 0.0153 - mean_absolute_error: 0.1350 - val_loss: 0.0113 - val_mean_absolute_error: 0.1147\n",
      "Epoch 21/1000\n",
      "3839/3839 - 3s - loss: 0.0136 - mean_absolute_error: 0.1286 - val_loss: 0.0101 - val_mean_absolute_error: 0.1080\n",
      "Epoch 22/1000\n",
      "3839/3839 - 3s - loss: 0.0125 - mean_absolute_error: 0.1227 - val_loss: 0.0089 - val_mean_absolute_error: 0.1013\n",
      "Epoch 23/1000\n",
      "3839/3839 - 3s - loss: 0.0117 - mean_absolute_error: 0.1186 - val_loss: 0.0076 - val_mean_absolute_error: 0.0934\n",
      "Epoch 24/1000\n",
      "3839/3839 - 3s - loss: 0.0106 - mean_absolute_error: 0.1122 - val_loss: 0.0064 - val_mean_absolute_error: 0.0862\n",
      "Epoch 25/1000\n",
      "3839/3839 - 3s - loss: 0.0097 - mean_absolute_error: 0.1071 - val_loss: 0.0054 - val_mean_absolute_error: 0.0796\n",
      "Epoch 26/1000\n",
      "3839/3839 - 3s - loss: 0.0089 - mean_absolute_error: 0.1028 - val_loss: 0.0047 - val_mean_absolute_error: 0.0747\n",
      "Epoch 27/1000\n",
      "3839/3839 - 3s - loss: 0.0085 - mean_absolute_error: 0.0999 - val_loss: 0.0044 - val_mean_absolute_error: 0.0727\n",
      "Epoch 28/1000\n",
      "3839/3839 - 3s - loss: 0.0079 - mean_absolute_error: 0.0962 - val_loss: 0.0041 - val_mean_absolute_error: 0.0714\n",
      "Epoch 29/1000\n",
      "3839/3839 - 3s - loss: 0.0078 - mean_absolute_error: 0.0957 - val_loss: 0.0038 - val_mean_absolute_error: 0.0688\n",
      "Epoch 30/1000\n",
      "3839/3839 - 3s - loss: 0.0075 - mean_absolute_error: 0.0940 - val_loss: 0.0037 - val_mean_absolute_error: 0.0685\n",
      "Epoch 31/1000\n",
      "3839/3839 - 3s - loss: 0.0073 - mean_absolute_error: 0.0928 - val_loss: 0.0035 - val_mean_absolute_error: 0.0669\n",
      "Epoch 32/1000\n",
      "3839/3839 - 3s - loss: 0.0067 - mean_absolute_error: 0.0896 - val_loss: 0.0034 - val_mean_absolute_error: 0.0663\n",
      "Epoch 33/1000\n",
      "3839/3839 - 3s - loss: 0.0068 - mean_absolute_error: 0.0892 - val_loss: 0.0033 - val_mean_absolute_error: 0.0650\n",
      "Epoch 34/1000\n",
      "3839/3839 - 3s - loss: 0.0066 - mean_absolute_error: 0.0886 - val_loss: 0.0033 - val_mean_absolute_error: 0.0645\n",
      "Epoch 35/1000\n",
      "3839/3839 - 3s - loss: 0.0064 - mean_absolute_error: 0.0874 - val_loss: 0.0032 - val_mean_absolute_error: 0.0635\n",
      "Epoch 36/1000\n",
      "3839/3839 - 3s - loss: 0.0062 - mean_absolute_error: 0.0859 - val_loss: 0.0030 - val_mean_absolute_error: 0.0624\n",
      "Epoch 37/1000\n",
      "3839/3839 - 3s - loss: 0.0061 - mean_absolute_error: 0.0846 - val_loss: 0.0032 - val_mean_absolute_error: 0.0649\n",
      "Epoch 38/1000\n",
      "3839/3839 - 3s - loss: 0.0060 - mean_absolute_error: 0.0841 - val_loss: 0.0030 - val_mean_absolute_error: 0.0611\n",
      "Epoch 39/1000\n",
      "3839/3839 - 4s - loss: 0.0057 - mean_absolute_error: 0.0822 - val_loss: 0.0027 - val_mean_absolute_error: 0.0588\n",
      "Epoch 40/1000\n",
      "3839/3839 - 4s - loss: 0.0056 - mean_absolute_error: 0.0807 - val_loss: 0.0026 - val_mean_absolute_error: 0.0572\n",
      "Epoch 41/1000\n",
      "3839/3839 - 4s - loss: 0.0055 - mean_absolute_error: 0.0801 - val_loss: 0.0025 - val_mean_absolute_error: 0.0557\n",
      "Epoch 42/1000\n",
      "3839/3839 - 4s - loss: 0.0050 - mean_absolute_error: 0.0771 - val_loss: 0.0024 - val_mean_absolute_error: 0.0544\n",
      "Epoch 43/1000\n",
      "3839/3839 - 3s - loss: 0.0051 - mean_absolute_error: 0.0765 - val_loss: 0.0022 - val_mean_absolute_error: 0.0525\n",
      "Epoch 44/1000\n",
      "3839/3839 - 3s - loss: 0.0048 - mean_absolute_error: 0.0746 - val_loss: 0.0021 - val_mean_absolute_error: 0.0510\n",
      "Epoch 45/1000\n",
      "3839/3839 - 3s - loss: 0.0049 - mean_absolute_error: 0.0738 - val_loss: 0.0020 - val_mean_absolute_error: 0.0488\n",
      "Epoch 46/1000\n",
      "3839/3839 - 3s - loss: 0.0046 - mean_absolute_error: 0.0716 - val_loss: 0.0019 - val_mean_absolute_error: 0.0473\n",
      "Epoch 47/1000\n",
      "3839/3839 - 3s - loss: 0.0042 - mean_absolute_error: 0.0688 - val_loss: 0.0018 - val_mean_absolute_error: 0.0464\n",
      "Epoch 48/1000\n",
      "3839/3839 - 3s - loss: 0.0042 - mean_absolute_error: 0.0681 - val_loss: 0.0015 - val_mean_absolute_error: 0.0417\n",
      "Epoch 49/1000\n",
      "3839/3839 - 3s - loss: 0.0040 - mean_absolute_error: 0.0664 - val_loss: 0.0014 - val_mean_absolute_error: 0.0404\n",
      "Epoch 50/1000\n",
      "3839/3839 - 3s - loss: 0.0038 - mean_absolute_error: 0.0649 - val_loss: 0.0013 - val_mean_absolute_error: 0.0382\n",
      "Epoch 51/1000\n",
      "3839/3839 - 3s - loss: 0.0037 - mean_absolute_error: 0.0636 - val_loss: 0.0012 - val_mean_absolute_error: 0.0371\n",
      "Epoch 52/1000\n",
      "3839/3839 - 3s - loss: 0.0035 - mean_absolute_error: 0.0615 - val_loss: 0.0012 - val_mean_absolute_error: 0.0357\n",
      "Epoch 53/1000\n",
      "3839/3839 - 3s - loss: 0.0037 - mean_absolute_error: 0.0630 - val_loss: 0.0011 - val_mean_absolute_error: 0.0340\n",
      "Epoch 54/1000\n",
      "3839/3839 - 3s - loss: 0.0034 - mean_absolute_error: 0.0600 - val_loss: 0.0011 - val_mean_absolute_error: 0.0344\n",
      "Epoch 55/1000\n",
      "3839/3839 - 3s - loss: 0.0034 - mean_absolute_error: 0.0607 - val_loss: 9.8239e-04 - val_mean_absolute_error: 0.0330\n",
      "Epoch 56/1000\n",
      "3839/3839 - 3s - loss: 0.0034 - mean_absolute_error: 0.0599 - val_loss: 9.4319e-04 - val_mean_absolute_error: 0.0318\n",
      "Epoch 57/1000\n",
      "3839/3839 - 4s - loss: 0.0034 - mean_absolute_error: 0.0597 - val_loss: 8.9877e-04 - val_mean_absolute_error: 0.0311\n",
      "Epoch 58/1000\n",
      "3839/3839 - 4s - loss: 0.0031 - mean_absolute_error: 0.0582 - val_loss: 9.6418e-04 - val_mean_absolute_error: 0.0325\n",
      "Epoch 59/1000\n",
      "3839/3839 - 4s - loss: 0.0031 - mean_absolute_error: 0.0566 - val_loss: 8.4856e-04 - val_mean_absolute_error: 0.0301\n",
      "Epoch 60/1000\n",
      "3839/3839 - 4s - loss: 0.0031 - mean_absolute_error: 0.0567 - val_loss: 8.4172e-04 - val_mean_absolute_error: 0.0303\n",
      "Epoch 61/1000\n",
      "3839/3839 - 4s - loss: 0.0031 - mean_absolute_error: 0.0575 - val_loss: 8.3690e-04 - val_mean_absolute_error: 0.0295\n",
      "Epoch 62/1000\n",
      "3839/3839 - 4s - loss: 0.0031 - mean_absolute_error: 0.0570 - val_loss: 8.9464e-04 - val_mean_absolute_error: 0.0304\n",
      "Epoch 63/1000\n",
      "3839/3839 - 4s - loss: 0.0030 - mean_absolute_error: 0.0559 - val_loss: 8.0552e-04 - val_mean_absolute_error: 0.0289\n",
      "Epoch 64/1000\n",
      "3839/3839 - 4s - loss: 0.0031 - mean_absolute_error: 0.0572 - val_loss: 7.9403e-04 - val_mean_absolute_error: 0.0289\n",
      "Epoch 65/1000\n",
      "3839/3839 - 4s - loss: 0.0028 - mean_absolute_error: 0.0541 - val_loss: 7.6076e-04 - val_mean_absolute_error: 0.0285\n",
      "Epoch 66/1000\n",
      "3839/3839 - 4s - loss: 0.0029 - mean_absolute_error: 0.0553 - val_loss: 7.1022e-04 - val_mean_absolute_error: 0.0272\n",
      "Epoch 67/1000\n",
      "3839/3839 - 4s - loss: 0.0029 - mean_absolute_error: 0.0549 - val_loss: 7.3854e-04 - val_mean_absolute_error: 0.0281\n",
      "Epoch 68/1000\n",
      "3839/3839 - 4s - loss: 0.0028 - mean_absolute_error: 0.0543 - val_loss: 7.3220e-04 - val_mean_absolute_error: 0.0277\n",
      "Epoch 69/1000\n",
      "3839/3839 - 3s - loss: 0.0027 - mean_absolute_error: 0.0528 - val_loss: 7.0407e-04 - val_mean_absolute_error: 0.0271\n",
      "Epoch 70/1000\n",
      "3839/3839 - 4s - loss: 0.0027 - mean_absolute_error: 0.0534 - val_loss: 6.4077e-04 - val_mean_absolute_error: 0.0258\n",
      "Epoch 71/1000\n",
      "3839/3839 - 4s - loss: 0.0026 - mean_absolute_error: 0.0519 - val_loss: 7.1851e-04 - val_mean_absolute_error: 0.0278\n",
      "Epoch 72/1000\n",
      "3839/3839 - 4s - loss: 0.0026 - mean_absolute_error: 0.0525 - val_loss: 6.9668e-04 - val_mean_absolute_error: 0.0272\n",
      "Epoch 73/1000\n",
      "3839/3839 - 4s - loss: 0.0026 - mean_absolute_error: 0.0525 - val_loss: 6.3708e-04 - val_mean_absolute_error: 0.0257\n",
      "Epoch 74/1000\n",
      "3839/3839 - 4s - loss: 0.0026 - mean_absolute_error: 0.0522 - val_loss: 6.3953e-04 - val_mean_absolute_error: 0.0258\n",
      "Epoch 75/1000\n",
      "3839/3839 - 4s - loss: 0.0025 - mean_absolute_error: 0.0512 - val_loss: 6.2396e-04 - val_mean_absolute_error: 0.0254\n",
      "Epoch 76/1000\n",
      "3839/3839 - 4s - loss: 0.0024 - mean_absolute_error: 0.0507 - val_loss: 5.8648e-04 - val_mean_absolute_error: 0.0247\n",
      "Epoch 77/1000\n",
      "3839/3839 - 4s - loss: 0.0024 - mean_absolute_error: 0.0508 - val_loss: 6.4046e-04 - val_mean_absolute_error: 0.0259\n",
      "Epoch 78/1000\n",
      "3839/3839 - 4s - loss: 0.0025 - mean_absolute_error: 0.0509 - val_loss: 6.3137e-04 - val_mean_absolute_error: 0.0255\n",
      "Epoch 79/1000\n",
      "3839/3839 - 4s - loss: 0.0024 - mean_absolute_error: 0.0499 - val_loss: 5.7825e-04 - val_mean_absolute_error: 0.0248\n",
      "Epoch 80/1000\n",
      "3839/3839 - 4s - loss: 0.0024 - mean_absolute_error: 0.0501 - val_loss: 5.7787e-04 - val_mean_absolute_error: 0.0247\n",
      "Epoch 81/1000\n",
      "3839/3839 - 4s - loss: 0.0023 - mean_absolute_error: 0.0500 - val_loss: 5.3362e-04 - val_mean_absolute_error: 0.0234\n",
      "Epoch 82/1000\n",
      "3839/3839 - 4s - loss: 0.0023 - mean_absolute_error: 0.0490 - val_loss: 5.3389e-04 - val_mean_absolute_error: 0.0236\n",
      "Epoch 83/1000\n",
      "3839/3839 - 5s - loss: 0.0024 - mean_absolute_error: 0.0496 - val_loss: 6.0473e-04 - val_mean_absolute_error: 0.0252\n",
      "Epoch 84/1000\n",
      "3839/3839 - 5s - loss: 0.0022 - mean_absolute_error: 0.0484 - val_loss: 5.6316e-04 - val_mean_absolute_error: 0.0243\n",
      "Epoch 85/1000\n",
      "3839/3839 - 5s - loss: 0.0024 - mean_absolute_error: 0.0497 - val_loss: 5.7035e-04 - val_mean_absolute_error: 0.0242\n",
      "Epoch 86/1000\n",
      "3839/3839 - 6s - loss: 0.0024 - mean_absolute_error: 0.0491 - val_loss: 5.5781e-04 - val_mean_absolute_error: 0.0243\n",
      "Epoch 87/1000\n",
      "3839/3839 - 7s - loss: 0.0021 - mean_absolute_error: 0.0472 - val_loss: 5.4582e-04 - val_mean_absolute_error: 0.0238\n",
      "Epoch 88/1000\n",
      "3839/3839 - 7s - loss: 0.0022 - mean_absolute_error: 0.0482 - val_loss: 5.8350e-04 - val_mean_absolute_error: 0.0247\n",
      "Epoch 89/1000\n",
      "3839/3839 - 7s - loss: 0.0022 - mean_absolute_error: 0.0479 - val_loss: 5.7054e-04 - val_mean_absolute_error: 0.0245\n",
      "Epoch 90/1000\n"
     ]
    },
    {
     "output_type": "error",
     "ename": "KeyboardInterrupt",
     "evalue": "",
     "traceback": [
      "\u001b[0;31m---------------------------------------------------------------------------\u001b[0m",
      "\u001b[0;31mKeyboardInterrupt\u001b[0m                         Traceback (most recent call last)",
      "\u001b[0;32m<ipython-input-164-d37d82a80001>\u001b[0m in \u001b[0;36m<module>\u001b[0;34m\u001b[0m\n\u001b[1;32m     26\u001b[0m                     \u001b[0mbatch_size\u001b[0m\u001b[0;34m=\u001b[0m\u001b[0;36m100\u001b[0m\u001b[0;34m,\u001b[0m\u001b[0;34m\u001b[0m\u001b[0;34m\u001b[0m\u001b[0m\n\u001b[1;32m     27\u001b[0m                     \u001b[0mverbose\u001b[0m\u001b[0;34m=\u001b[0m\u001b[0;36m2\u001b[0m\u001b[0;34m,\u001b[0m\u001b[0;34m\u001b[0m\u001b[0;34m\u001b[0m\u001b[0m\n\u001b[0;32m---> 28\u001b[0;31m                     callbacks=[es])\n\u001b[0m\u001b[1;32m     29\u001b[0m \u001b[0;34m\u001b[0m\u001b[0m\n\u001b[1;32m     30\u001b[0m \u001b[0;31m# summarize history for accuracy\u001b[0m\u001b[0;34m\u001b[0m\u001b[0;34m\u001b[0m\u001b[0;34m\u001b[0m\u001b[0m\n",
      "\u001b[0;32m/Library/Frameworks/Python.framework/Versions/3.7/lib/python3.7/site-packages/tensorflow_core/python/keras/engine/training.py\u001b[0m in \u001b[0;36mfit\u001b[0;34m(self, x, y, batch_size, epochs, verbose, callbacks, validation_split, validation_data, shuffle, class_weight, sample_weight, initial_epoch, steps_per_epoch, validation_steps, validation_freq, max_queue_size, workers, use_multiprocessing, **kwargs)\u001b[0m\n\u001b[1;32m    725\u001b[0m         \u001b[0mmax_queue_size\u001b[0m\u001b[0;34m=\u001b[0m\u001b[0mmax_queue_size\u001b[0m\u001b[0;34m,\u001b[0m\u001b[0;34m\u001b[0m\u001b[0;34m\u001b[0m\u001b[0m\n\u001b[1;32m    726\u001b[0m         \u001b[0mworkers\u001b[0m\u001b[0;34m=\u001b[0m\u001b[0mworkers\u001b[0m\u001b[0;34m,\u001b[0m\u001b[0;34m\u001b[0m\u001b[0;34m\u001b[0m\u001b[0m\n\u001b[0;32m--> 727\u001b[0;31m         use_multiprocessing=use_multiprocessing)\n\u001b[0m\u001b[1;32m    728\u001b[0m \u001b[0;34m\u001b[0m\u001b[0m\n\u001b[1;32m    729\u001b[0m   def evaluate(self,\n",
      "\u001b[0;32m/Library/Frameworks/Python.framework/Versions/3.7/lib/python3.7/site-packages/tensorflow_core/python/keras/engine/training_arrays.py\u001b[0m in \u001b[0;36mfit\u001b[0;34m(self, model, x, y, batch_size, epochs, verbose, callbacks, validation_split, validation_data, shuffle, class_weight, sample_weight, initial_epoch, steps_per_epoch, validation_steps, validation_freq, **kwargs)\u001b[0m\n\u001b[1;32m    673\u001b[0m         \u001b[0mvalidation_steps\u001b[0m\u001b[0;34m=\u001b[0m\u001b[0mvalidation_steps\u001b[0m\u001b[0;34m,\u001b[0m\u001b[0;34m\u001b[0m\u001b[0;34m\u001b[0m\u001b[0m\n\u001b[1;32m    674\u001b[0m         \u001b[0mvalidation_freq\u001b[0m\u001b[0;34m=\u001b[0m\u001b[0mvalidation_freq\u001b[0m\u001b[0;34m,\u001b[0m\u001b[0;34m\u001b[0m\u001b[0;34m\u001b[0m\u001b[0m\n\u001b[0;32m--> 675\u001b[0;31m         steps_name='steps_per_epoch')\n\u001b[0m\u001b[1;32m    676\u001b[0m \u001b[0;34m\u001b[0m\u001b[0m\n\u001b[1;32m    677\u001b[0m   def evaluate(self,\n",
      "\u001b[0;32m/Library/Frameworks/Python.framework/Versions/3.7/lib/python3.7/site-packages/tensorflow_core/python/keras/engine/training_arrays.py\u001b[0m in \u001b[0;36mmodel_iteration\u001b[0;34m(model, inputs, targets, sample_weights, batch_size, epochs, verbose, callbacks, val_inputs, val_targets, val_sample_weights, shuffle, initial_epoch, steps_per_epoch, validation_steps, validation_freq, mode, validation_in_fit, prepared_feed_values_from_dataset, steps_name, **kwargs)\u001b[0m\n\u001b[1;32m    392\u001b[0m \u001b[0;34m\u001b[0m\u001b[0m\n\u001b[1;32m    393\u001b[0m         \u001b[0;31m# Get outputs.\u001b[0m\u001b[0;34m\u001b[0m\u001b[0;34m\u001b[0m\u001b[0;34m\u001b[0m\u001b[0m\n\u001b[0;32m--> 394\u001b[0;31m         \u001b[0mbatch_outs\u001b[0m \u001b[0;34m=\u001b[0m \u001b[0mf\u001b[0m\u001b[0;34m(\u001b[0m\u001b[0mins_batch\u001b[0m\u001b[0;34m)\u001b[0m\u001b[0;34m\u001b[0m\u001b[0;34m\u001b[0m\u001b[0m\n\u001b[0m\u001b[1;32m    395\u001b[0m         \u001b[0;32mif\u001b[0m \u001b[0;32mnot\u001b[0m \u001b[0misinstance\u001b[0m\u001b[0;34m(\u001b[0m\u001b[0mbatch_outs\u001b[0m\u001b[0;34m,\u001b[0m \u001b[0mlist\u001b[0m\u001b[0;34m)\u001b[0m\u001b[0;34m:\u001b[0m\u001b[0;34m\u001b[0m\u001b[0;34m\u001b[0m\u001b[0m\n\u001b[1;32m    396\u001b[0m           \u001b[0mbatch_outs\u001b[0m \u001b[0;34m=\u001b[0m \u001b[0;34m[\u001b[0m\u001b[0mbatch_outs\u001b[0m\u001b[0;34m]\u001b[0m\u001b[0;34m\u001b[0m\u001b[0;34m\u001b[0m\u001b[0m\n",
      "\u001b[0;32m/Library/Frameworks/Python.framework/Versions/3.7/lib/python3.7/site-packages/tensorflow_core/python/keras/backend.py\u001b[0m in \u001b[0;36m__call__\u001b[0;34m(self, inputs)\u001b[0m\n\u001b[1;32m   3474\u001b[0m \u001b[0;34m\u001b[0m\u001b[0m\n\u001b[1;32m   3475\u001b[0m     fetched = self._callable_fn(*array_vals,\n\u001b[0;32m-> 3476\u001b[0;31m                                 run_metadata=self.run_metadata)\n\u001b[0m\u001b[1;32m   3477\u001b[0m     \u001b[0mself\u001b[0m\u001b[0;34m.\u001b[0m\u001b[0m_call_fetch_callbacks\u001b[0m\u001b[0;34m(\u001b[0m\u001b[0mfetched\u001b[0m\u001b[0;34m[\u001b[0m\u001b[0;34m-\u001b[0m\u001b[0mlen\u001b[0m\u001b[0;34m(\u001b[0m\u001b[0mself\u001b[0m\u001b[0;34m.\u001b[0m\u001b[0m_fetches\u001b[0m\u001b[0;34m)\u001b[0m\u001b[0;34m:\u001b[0m\u001b[0;34m]\u001b[0m\u001b[0;34m)\u001b[0m\u001b[0;34m\u001b[0m\u001b[0;34m\u001b[0m\u001b[0m\n\u001b[1;32m   3478\u001b[0m     output_structure = nest.pack_sequence_as(\n",
      "\u001b[0;32m/Library/Frameworks/Python.framework/Versions/3.7/lib/python3.7/site-packages/tensorflow_core/python/client/session.py\u001b[0m in \u001b[0;36m__call__\u001b[0;34m(self, *args, **kwargs)\u001b[0m\n\u001b[1;32m   1470\u001b[0m         ret = tf_session.TF_SessionRunCallable(self._session._session,\n\u001b[1;32m   1471\u001b[0m                                                \u001b[0mself\u001b[0m\u001b[0;34m.\u001b[0m\u001b[0m_handle\u001b[0m\u001b[0;34m,\u001b[0m \u001b[0margs\u001b[0m\u001b[0;34m,\u001b[0m\u001b[0;34m\u001b[0m\u001b[0;34m\u001b[0m\u001b[0m\n\u001b[0;32m-> 1472\u001b[0;31m                                                run_metadata_ptr)\n\u001b[0m\u001b[1;32m   1473\u001b[0m         \u001b[0;32mif\u001b[0m \u001b[0mrun_metadata\u001b[0m\u001b[0;34m:\u001b[0m\u001b[0;34m\u001b[0m\u001b[0;34m\u001b[0m\u001b[0m\n\u001b[1;32m   1474\u001b[0m           \u001b[0mproto_data\u001b[0m \u001b[0;34m=\u001b[0m \u001b[0mtf_session\u001b[0m\u001b[0;34m.\u001b[0m\u001b[0mTF_GetBuffer\u001b[0m\u001b[0;34m(\u001b[0m\u001b[0mrun_metadata_ptr\u001b[0m\u001b[0;34m)\u001b[0m\u001b[0;34m\u001b[0m\u001b[0;34m\u001b[0m\u001b[0m\n",
      "\u001b[0;31mKeyboardInterrupt\u001b[0m: "
     ]
    }
   ],
   "source": [
    "#Build the model\n",
    "layer_size = 10\n",
    "\n",
    "model = keras.Sequential()\n",
    "model.add(layers.LSTM(units=layer_size,return_sequences=True,input_shape=(look_back + 1,X_size)))\n",
    "model.add(layers.Dropout(0.2))\n",
    "# model.add(layers.LSTM(units=layer_size,return_sequences=True))\n",
    "# model.add(layers.Dropout(0.2))\n",
    "# model.add(layers.LSTM(units=layer_size,return_sequences=True))\n",
    "# model.add(layers.Dropout(0.2))\n",
    "model.add(layers.LSTM(units=layer_size))\n",
    "model.add(layers.Dropout(0.2))\n",
    "model.add(layers.Dense(units=y_size))\n",
    "model.compile(loss=losses.Huber(), optimizer='adam', metrics=['mae'])\n",
    "\n",
    "print(model.summary())\n",
    "\n",
    "# Create early stop\n",
    "es = EarlyStopping(monitor='loss', mode='min', verbose=1, patience=10)\n",
    "# fit model\n",
    "history = model.fit(X_train,\n",
    "                    y_train,\n",
    "                    epochs=1000,\n",
    "                    validation_data=(X_test,y_test),\n",
    "                    shuffle=True,\n",
    "                    batch_size=100,\n",
    "                    verbose=2,\n",
    "                    callbacks=[es])\n",
    "\n",
    "# summarize history for accuracy\n",
    "plt.plot(history.history['mean_absolute_error'])\n",
    "plt.plot(history.history['val_mean_absolute_error'])\n",
    "plt.title('model mean absolute error')\n",
    "plt.ylabel('mean_absolute_error')\n",
    "plt.xlabel('epoch')\n",
    "plt.legend(['train', 'test'], loc='upper left')\n",
    "plt.show()\n",
    "# summarize history for loss\n",
    "plt.plot(history.history['loss'])\n",
    "plt.plot(history.history['val_loss'])\n",
    "plt.title('model loss')\n",
    "plt.ylabel('loss')\n",
    "plt.xlabel('epoch')\n",
    "plt.legend(['train', 'test'], loc='upper left')\n",
    "plt.show()"
   ]
  },
  {
   "cell_type": "markdown",
   "metadata": {},
   "source": [
    "# Prediction"
   ]
  },
  {
   "cell_type": "code",
   "execution_count": null,
   "metadata": {},
   "outputs": [],
   "source": [
    "pred_elements_count = 2000\n",
    "\n",
    "# transform training dataset\n",
    "X_scaled = input_scaler.transform(X[len(X)-pred_elements_count:])\n",
    "X_scaled = reshape_with_look_back(look_back, X_scaled)\n",
    "\n",
    "# transform training dataset\n",
    "y_scaled = output_scaler.transform(y[len(y)-pred_elements_count:])\n",
    "\n",
    "# Adopt look back for output\n",
    "y_scaled = y_scaled[look_back:]\n",
    "\n",
    "y_pred = model.predict(X_scaled)\n",
    "\n",
    "plt.plot(output_scaler.inverse_transform(y_pred)[:,0])\n",
    "plt.plot(output_scaler.inverse_transform(y_scaled)[:,0])\n",
    "# plt.plot(y_pred_test[:,0])\n",
    "# plt.plot(y_train.iloc[:,0].values)"
   ]
  },
  {
   "source": [
    "# Simulate bot"
   ],
   "cell_type": "markdown",
   "metadata": {}
  },
  {
   "cell_type": "code",
   "execution_count": 46,
   "metadata": {},
   "outputs": [
    {
     "output_type": "execute_result",
     "data": {
      "text/plain": [
       "(430, 71, 11)"
      ]
     },
     "metadata": {},
     "execution_count": 46
    }
   ],
   "source": [
    "X_scaled.shape"
   ]
  },
  {
   "cell_type": "code",
   "execution_count": 31,
   "metadata": {},
   "outputs": [
    {
     "output_type": "stream",
     "name": "stdout",
     "text": [
      "buy\nbuy\nbuy\nbuy\nsell if have\nsell if have\nsell if have\nbuy\nsell if have\nsell if have\nsell if have\nsell if have\nbuy\nsell if have\nsell if have\nbuy\nbuy\nsell if have\nbuy\nbuy\nbuy\nsell if have\nsell if have\nbuy\nbuy\nbuy\nbuy\nsell if have\nsell if have\nsell if have\nsell if have\nbuy\nbuy\nsell if have\nbuy\nsell if have\nbuy\nsell if have\nsell if have\nsell if have\nbuy\nbuy\nsell if have\nsell if have\nsell if have\nsell if have\nbuy\nsell if have\nsell if have\nbuy\nsell if have\nbuy\nsell if have\nbuy\nsell if have\nbuy\nbuy\nbuy\nsell if have\nbuy\nbuy\nbuy\nbuy\nbuy\nbuy\nbuy\nbuy\nbuy\nbuy\nsell if have\nbuy\nbuy\nbuy\nbuy\nbuy\nsell if have\nbuy\nbuy\nsell if have\nbuy\nbuy\nbuy\nbuy\nsell if have\nbuy\nbuy\nbuy\nbuy\nbuy\nbuy\nbuy\nbuy\nbuy\nbuy\nbuy\nbuy\nsell if have\nsell if have\nbuy\nbuy\nbuy\nbuy\nbuy\nsell if have\nsell if have\nbuy\nsell if have\nbuy\nbuy\nbuy\nbuy\nbuy\nbuy\nbuy\nbuy\nbuy\nbuy\nsell if have\nbuy\nbuy\nbuy\nbuy\nsell if have\nbuy\nbuy\nbuy\nsell if have\nbuy\nbuy\nsell if have\nbuy\nbuy\nbuy\nbuy\nbuy\nbuy\nbuy\nsell if have\nbuy\nbuy\nbuy\nbuy\nsell if have\nsell if have\nbuy\nbuy\nbuy\nbuy\nbuy\nbuy\nbuy\nbuy\nsell if have\nbuy\nbuy\nbuy\nbuy\nbuy\nbuy\nbuy\nbuy\nbuy\nbuy\nbuy\nbuy\nbuy\nbuy\nbuy\nbuy\nsell if have\nbuy\nbuy\nbuy\nsell if have\nsell if have\nsell if have\nsell if have\nbuy\nbuy\nsell if have\nbuy\nsell if have\nbuy\nbuy\nsell if have\nbuy\nbuy\nbuy\nbuy\nsell if have\nsell if have\nbuy\nsell if have\nbuy\nsell if have\nsell if have\nsell if have\nbuy\nbuy\nsell if have\nsell if have\nsell if have\nsell if have\nbuy\nbuy\nbuy\nsell if have\nbuy\nbuy\nsell if have\nbuy\nbuy\nbuy\nbuy\nbuy\nsell if have\nsell if have\nsell if have\nsell if have\nbuy\nbuy\nbuy\nbuy\nbuy\nsell if have\nsell if have\nsell if have\nbuy\nbuy\nbuy\nbuy\nsell if have\nbuy\nbuy\nbuy\nsell if have\nsell if have\nbuy\nbuy\nbuy\nbuy\nbuy\nsell if have\nbuy\nsell if have\nsell if have\nbuy\nsell if have\nsell if have\nsell if have\nbuy\nsell if have\nbuy\nbuy\nsell if have\nbuy\nbuy\nsell if have\nsell if have\nbuy\nsell if have\nbuy\nbuy\nsell if have\nbuy\nsell if have\nbuy\nsell if have\nsell if have\nsell if have\nsell if have\nbuy\nbuy\nsell if have\nsell if have\nsell if have\nbuy\nbuy\nsell if have\nsell if have\nbuy\nbuy\nbuy\nbuy\nbuy\nsell if have\nbuy\nbuy\nsell if have\nbuy\nbuy\nbuy\nsell if have\nbuy\nbuy\nbuy\nsell if have\nsell if have\nsell if have\nsell if have\nsell if have\nbuy\nbuy\nsell if have\nbuy\nbuy\nbuy\nsell if have\nsell if have\nbuy\nsell if have\nbuy\nbuy\nsell if have\nbuy\nbuy\nbuy\nsell if have\nbuy\nbuy\nsell if have\nsell if have\nbuy\nsell if have\nbuy\nsell if have\nsell if have\nbuy\nsell if have\nbuy\nsell if have\nbuy\nbuy\nbuy\nbuy\nbuy\nsell if have\nbuy\nbuy\nbuy\nsell if have\nbuy\nbuy\nbuy\nbuy\nbuy\nsell if have\nbuy\nbuy\nbuy\nbuy\nbuy\nbuy\nbuy\nbuy\nbuy\nbuy\nsell if have\nsell if have\nsell if have\nbuy\nbuy\nsell if have\nsell if have\nbuy\nbuy\nsell if have\nbuy\nbuy\nsell if have\nsell if have\nbuy\nsell if have\nbuy\nbuy\nsell if have\nsell if have\nsell if have\nbuy\nsell if have\nbuy\nsell if have\nsell if have\nbuy\nbuy\nbuy\nbuy\nbuy\nsell if have\nsell if have\nsell if have\nbuy\nbuy\nbuy\nbuy\nbuy\nsell if have\nbuy\nsell if have\nbuy\nbuy\nbuy\nsell if have\nbuy\nbuy\nsell if have\nbuy\nbuy\nbuy\nsell if have\nsell if have\nsell if have\nbuy\nbuy\nsell if have\nbuy\nbuy\nbuy\nbuy\nbuy\nbuy\nbuy\nbuy\nbuy\nbuy\nbuy\nbuy\nbuy\nbuy\nbuy\nbuy\nsell if have\nbuy\nbuy\nbuy\nbuy\nsell if have\nbuy\nbuy\nbuy\nbuy\nbuy\nsell if have\nbuy\nbuy\nbuy\nbuy\nbuy\nbuy\nsell if have\nsell if have\nbuy\nbuy\nsell if have\nbuy\nbuy\nbuy\nbuy\nbuy\nbuy\nbuy\nsell if have\nbuy\nbuy\nsell if have\nbuy\nbuy\nbuy\nbuy\nbuy\nbuy\nsell if have\nbuy\nbuy\nsell if have\nbuy\nbuy\nbuy\nbuy\nsell if have\nbuy\nbuy\nbuy\nsell if have\nsell if have\nbuy\nbuy\nbuy\nbuy\nbuy\nbuy\nbuy\nbuy\nbuy\nbuy\nbuy\nbuy\nbuy\nbuy\nbuy\nbuy\nbuy\nsell if have\nbuy\nbuy\nbuy\nbuy\nsell if have\nsell if have\nsell if have\nbuy\nbuy\nbuy\nsell if have\nbuy\nsell if have\nbuy\nbuy\nsell if have\nsell if have\nsell if have\nsell if have\nsell if have\nbuy\nsell if have\nsell if have\nbuy\nsell if have\nsell if have\nsell if have\nsell if have\nsell if have\nsell if have\nsell if have\nbuy\nsell if have\nsell if have\nsell if have\nsell if have\nsell if have\nsell if have\nsell if have\nsell if have\nsell if have\nsell if have\nsell if have\nsell if have\nsell if have\nbuy\nsell if have\nsell if have\nsell if have\nsell if have\nsell if have\nsell if have\nsell if have\nsell if have\nsell if have\nsell if have\nsell if have\nsell if have\nsell if have\nsell if have\nsell if have\nsell if have\nsell if have\nsell if have\nsell if have\nsell if have\nsell if have\nsell if have\nbuy\nsell if have\nbuy\nsell if have\nsell if have\nbuy\nsell if have\nsell if have\nsell if have\nsell if have\nsell if have\nsell if have\nsell if have\nsell if have\nsell if have\nsell if have\nsell if have\nsell if have\nsell if have\nsell if have\nsell if have\nsell if have\nbuy\nsell if have\nsell if have\nsell if have\nsell if have\nsell if have\nsell if have\nsell if have\nsell if have\nsell if have\nsell if have\nsell if have\nsell if have\nsell if have\nsell if have\nsell if have\nsell if have\nsell if have\nbuy\nsell if have\nsell if have\nsell if have\nsell if have\nbuy\nbuy\nsell if have\nsell if have\nsell if have\nsell if have\nsell if have\nsell if have\nsell if have\nsell if have\nsell if have\nsell if have\nsell if have\nsell if have\nsell if have\nsell if have\nsell if have\nsell if have\nsell if have\nsell if have\nsell if have\nsell if have\nsell if have\nsell if have\nsell if have\nsell if have\nsell if have\nsell if have\nsell if have\nsell if have\nsell if have\nsell if have\nsell if have\nsell if have\nsell if have\nsell if have\nsell if have\nsell if have\nsell if have\nsell if have\nsell if have\nsell if have\nsell if have\nsell if have\nsell if have\nsell if have\nsell if have\nsell if have\nsell if have\nsell if have\nsell if have\nsell if have\nsell if have\nsell if have\nsell if have\nsell if have\nsell if have\nsell if have\nsell if have\nsell if have\nsell if have\nsell if have\nsell if have\nsell if have\nsell if have\nsell if have\nsell if have\nsell if have\nsell if have\nsell if have\nsell if have\nsell if have\nsell if have\nsell if have\nsell if have\nsell if have\nsell if have\nsell if have\nsell if have\nsell if have\nsell if have\nsell if have\nsell if have\nsell if have\nsell if have\nsell if have\nsell if have\nsell if have\nsell if have\nsell if have\nsell if have\nsell if have\nsell if have\nsell if have\nsell if have\nsell if have\nsell if have\nsell if have\nsell if have\nsell if have\nsell if have\nsell if have\nsell if have\nsell if have\nsell if have\nsell if have\nsell if have\nsell if have\nsell if have\nsell if have\nsell if have\nsell if have\nsell if have\nsell if have\nsell if have\nsell if have\nsell if have\nsell if have\nsell if have\nsell if have\nsell if have\nsell if have\nsell if have\nsell if have\nsell if have\nsell if have\nbuy\nsell if have\nsell if have\nsell if have\nsell if have\nsell if have\nsell if have\nsell if have\nsell if have\nsell if have\nsell if have\nsell if have\nsell if have\nsell if have\nsell if have\nsell if have\nsell if have\nsell if have\nsell if have\nsell if have\nsell if have\nsell if have\nsell if have\nsell if have\nsell if have\nsell if have\nsell if have\nsell if have\nsell if have\nsell if have\nsell if have\nsell if have\nsell if have\nsell if have\nsell if have\nsell if have\nsell if have\nsell if have\nsell if have\nsell if have\nsell if have\nsell if have\nsell if have\nsell if have\nsell if have\nsell if have\nsell if have\nsell if have\nsell if have\nsell if have\nsell if have\nsell if have\nsell if have\nsell if have\nsell if have\nsell if have\nsell if have\nsell if have\nsell if have\nsell if have\nsell if have\nsell if have\nsell if have\nsell if have\nsell if have\nsell if have\nsell if have\nsell if have\nsell if have\nsell if have\nsell if have\nsell if have\nsell if have\nsell if have\nsell if have\nsell if have\nsell if have\nsell if have\nsell if have\nsell if have\nsell if have\nsell if have\nsell if have\nsell if have\nsell if have\nsell if have\nsell if have\nsell if have\nsell if have\nsell if have\nsell if have\nsell if have\nsell if have\nsell if have\nsell if have\nsell if have\nsell if have\nsell if have\nsell if have\nsell if have\nsell if have\nsell if have\nsell if have\nsell if have\nsell if have\nsell if have\nsell if have\nsell if have\nsell if have\nsell if have\nsell if have\nsell if have\nsell if have\nsell if have\nsell if have\nsell if have\nsell if have\nsell if have\nsell if have\nsell if have\nsell if have\nsell if have\nsell if have\nsell if have\nsell if have\nsell if have\nsell if have\nsell if have\nsell if have\nsell if have\nsell if have\nsell if have\nsell if have\nsell if have\nsell if have\nsell if have\nsell if have\nsell if have\nsell if have\nsell if have\nsell if have\nsell if have\nsell if have\nsell if have\nsell if have\nsell if have\nsell if have\nsell if have\nsell if have\nsell if have\nsell if have\nsell if have\nsell if have\nsell if have\nsell if have\nsell if have\nsell if have\nsell if have\nsell if have\nsell if have\nsell if have\nsell if have\nsell if have\nsell if have\nsell if have\nsell if have\nsell if have\nsell if have\nsell if have\nsell if have\nsell if have\nsell if have\nsell if have\nsell if have\nsell if have\nsell if have\nsell if have\nsell if have\nsell if have\nsell if have\nsell if have\nsell if have\nsell if have\nsell if have\nsell if have\nsell if have\nbuy\nsell if have\nsell if have\nsell if have\nsell if have\nsell if have\nsell if have\nsell if have\nsell if have\nsell if have\nsell if have\nsell if have\nsell if have\nsell if have\nsell if have\nsell if have\nsell if have\nsell if have\nsell if have\nsell if have\nsell if have\nsell if have\nsell if have\nsell if have\nsell if have\nsell if have\nsell if have\nsell if have\nsell if have\nsell if have\nsell if have\nsell if have\nsell if have\nsell if have\nsell if have\nsell if have\nsell if have\nsell if have\nsell if have\nsell if have\nsell if have\nsell if have\nsell if have\nsell if have\nsell if have\nsell if have\nsell if have\nsell if have\nsell if have\nsell if have\nsell if have\n"
     ]
    }
   ],
   "source": [
    "points_count = y_scaled.shape[0]\n",
    "real_currency = y_scaled.reshape(y_scaled.shape[0])\n",
    "prediction = y_pred.reshape(y_pred.shape[0])\n",
    "\n",
    "init_budget = 500\n",
    "current_stock_count = 0\n",
    "\n",
    "for x in range(1,points_count):\n",
    "    # If currency predict raise, buy, or sell\n",
    "    percent_threshold = 0.005\n",
    "    if (prediction[x] - real_currency[x-1]) / real_currency[x-1] > percent_threshold:\n",
    "        print('buy')\n",
    "        \n",
    "        \n",
    "    else:\n",
    "        print('sell if have')"
   ]
  }
 ],
 "metadata": {
  "kernelspec": {
   "display_name": "Python 3",
   "language": "python",
   "name": "python3"
  },
  "language_info": {
   "codemirror_mode": {
    "name": "ipython",
    "version": 3
   },
   "file_extension": ".py",
   "mimetype": "text/x-python",
   "name": "python",
   "nbconvert_exporter": "python",
   "pygments_lexer": "ipython3",
   "version": "3.7.6-final"
  }
 },
 "nbformat": 4,
 "nbformat_minor": 4
}