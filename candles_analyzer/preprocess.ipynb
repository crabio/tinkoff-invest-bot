{
 "cells": [
  {
   "cell_type": "code",
   "execution_count": 1,
   "metadata": {},
   "outputs": [],
   "source": [
    "%matplotlib widget"
   ]
  },
  {
   "cell_type": "code",
   "execution_count": 2,
   "metadata": {},
   "outputs": [],
   "source": [
    "\n",
    "import pandas as pd\n",
    "\n",
    "import matplotlib.pyplot as plt\n",
    "import pandas_ta as ta"
   ]
  },
  {
   "cell_type": "markdown",
   "metadata": {},
   "source": [
    "## Load parquet"
   ]
  },
  {
   "cell_type": "code",
   "execution_count": 25,
   "metadata": {},
   "outputs": [],
   "source": [
    "df = pd.read_parquet(\"data.parquet\")"
   ]
  },
  {
   "cell_type": "code",
   "execution_count": 26,
   "metadata": {},
   "outputs": [
    {
     "output_type": "execute_result",
     "data": {
      "text/plain": [
       "              id    figi      ts  open_price  close_price  high_price  \\\n",
       "name                                                                    \n",
       "AT&T      101134  101134  101134      101134       101134      101134   \n",
       "Apple     119367  119367  119367      119367       119367      119367   \n",
       "JPMorgan   85536   85536   85536       85536        85536       85536   \n",
       "\n",
       "          low_price  volume  \n",
       "name                         \n",
       "AT&T         101134  101134  \n",
       "Apple        119367  119367  \n",
       "JPMorgan      85536   85536  "
      ],
      "text/html": "<div>\n<style scoped>\n    .dataframe tbody tr th:only-of-type {\n        vertical-align: middle;\n    }\n\n    .dataframe tbody tr th {\n        vertical-align: top;\n    }\n\n    .dataframe thead th {\n        text-align: right;\n    }\n</style>\n<table border=\"1\" class=\"dataframe\">\n  <thead>\n    <tr style=\"text-align: right;\">\n      <th></th>\n      <th>id</th>\n      <th>figi</th>\n      <th>ts</th>\n      <th>open_price</th>\n      <th>close_price</th>\n      <th>high_price</th>\n      <th>low_price</th>\n      <th>volume</th>\n    </tr>\n    <tr>\n      <th>name</th>\n      <th></th>\n      <th></th>\n      <th></th>\n      <th></th>\n      <th></th>\n      <th></th>\n      <th></th>\n      <th></th>\n    </tr>\n  </thead>\n  <tbody>\n    <tr>\n      <th>AT&amp;T</th>\n      <td>101134</td>\n      <td>101134</td>\n      <td>101134</td>\n      <td>101134</td>\n      <td>101134</td>\n      <td>101134</td>\n      <td>101134</td>\n      <td>101134</td>\n    </tr>\n    <tr>\n      <th>Apple</th>\n      <td>119367</td>\n      <td>119367</td>\n      <td>119367</td>\n      <td>119367</td>\n      <td>119367</td>\n      <td>119367</td>\n      <td>119367</td>\n      <td>119367</td>\n    </tr>\n    <tr>\n      <th>JPMorgan</th>\n      <td>85536</td>\n      <td>85536</td>\n      <td>85536</td>\n      <td>85536</td>\n      <td>85536</td>\n      <td>85536</td>\n      <td>85536</td>\n      <td>85536</td>\n    </tr>\n  </tbody>\n</table>\n</div>"
     },
     "metadata": {},
     "execution_count": 26
    }
   ],
   "source": [
    "df.groupby(\"name\").count()"
   ]
  },
  {
   "source": [
    "## Choose single stock"
   ],
   "cell_type": "markdown",
   "metadata": {}
  },
  {
   "cell_type": "code",
   "execution_count": 27,
   "metadata": {},
   "outputs": [],
   "source": [
    "df = df[df[\"id\"] == 1]"
   ]
  },
  {
   "cell_type": "markdown",
   "metadata": {},
   "source": [
    "## Apply processing\n",
    "Strategy can be applied only on by-name group"
   ]
  },
  {
   "cell_type": "code",
   "execution_count": 28,
   "metadata": {},
   "outputs": [],
   "source": [
    "def concat_df_with_col(df, column):\n",
    "    return pd.concat([df, column], axis=1)"
   ]
  },
  {
   "cell_type": "code",
   "execution_count": 29,
   "metadata": {},
   "outputs": [],
   "source": [
    "def calc_metrics_with_groups(df, \n",
    "    RSI_oversold_threshold = 30,\n",
    "    RSI_overbouht_threshold = 70,\n",
    "    MFI_oversold_threshold = 20,\n",
    "    MFI_overbouht_threshold = 80):\n",
    "    # Add MACD\n",
    "    df = concat_df_with_col(df, df.groupby(\"name\").apply(lambda x: x.ta.macd()).reset_index(level=0, drop=True))\n",
    "\n",
    "    # Add RSI\n",
    "    df = concat_df_with_col(df, df.groupby(\"name\").apply(lambda x: x.ta.rsi()).reset_index(level=0, drop=True))\n",
    "\n",
    "    # Add MFI\n",
    "    df = concat_df_with_col(df, df.groupby(\"name\").apply(lambda x: x.ta.mfi()).reset_index(level=0, drop=True))\n",
    "    \n",
    "    # # Add RSI oversold and overbought\n",
    "    # df[\"RSI_oversold\"] = df[\"RSI_14\"] <= RSI_oversold_threshold\n",
    "    # df[\"RSI_overbought\"] = df[\"RSI_14\"] >= RSI_overbouht_threshold\n",
    "\n",
    "    # # Add MFI oversold and overbought\n",
    "    # df[\"MFI_oversold\"] = df[\"MFI_14\"] <= MFI_oversold_threshold\n",
    "    # df[\"MFI_overbought\"] = df[\"MFI_14\"] >= MFI_overbouht_threshold\n",
    "    \n",
    "    # # Add MACD signal crossover and cross under\n",
    "    # df[\"MACD_diff\"] = (df[\"MACD_12_26_9\"] - df[\"MACDs_12_26_9\"])\n",
    "    # df[\"MACD_crossover\"] = (df[\"MACD_diff\"] >= 0) & (df[\"MACD_diff\"].shift() <= 0)\n",
    "    # df[\"MACD_crossunder\"] = (df[\"MACD_diff\"] <= 0) & (df[\"MACD_diff\"].shift() >= 0)\n",
    "    \n",
    "    return df\n",
    "\n",
    "def calc_metrics(df, \n",
    "    RSI_oversold_threshold = 30,\n",
    "    RSI_overbouht_threshold = 70,\n",
    "    MFI_oversold_threshold = 20,\n",
    "    MFI_overbouht_threshold = 80):\n",
    "    # Add MACD\n",
    "    df.ta.macd(append=True)\n",
    "\n",
    "    # Add RSI\n",
    "    df.ta.rsi(append=True)\n",
    "\n",
    "    # Add MFI\n",
    "    df.ta.mfi(append=True)\n",
    "    \n",
    "    # # Add RSI oversold and overbought\n",
    "    # df[\"RSI_oversold\"] = df[\"RSI_14\"] <= RSI_oversold_threshold\n",
    "    # df[\"RSI_overbought\"] = df[\"RSI_14\"] >= RSI_overbouht_threshold\n",
    "\n",
    "    # # Add MFI oversold and overbought\n",
    "    # df[\"MFI_oversold\"] = df[\"MFI_14\"] <= MFI_oversold_threshold\n",
    "    # df[\"MFI_overbought\"] = df[\"MFI_14\"] >= MFI_overbouht_threshold\n",
    "    \n",
    "    # # Add MACD signal crossover and cross under\n",
    "    # df[\"MACD_diff\"] = (df[\"MACD_12_26_9\"] - df[\"MACDs_12_26_9\"])\n",
    "    # df[\"MACD_crossover\"] = (df[\"MACD_diff\"] >= 0) & (df[\"MACD_diff\"].shift() <= 0)\n",
    "    # df[\"MACD_crossunder\"] = (df[\"MACD_diff\"] <= 0) & (df[\"MACD_diff\"].shift() >= 0)\n",
    "    \n",
    "    return df"
   ]
  },
  {
   "cell_type": "code",
   "execution_count": 30,
   "metadata": {},
   "outputs": [
    {
     "output_type": "execute_result",
     "data": {
      "text/plain": [
       "       name  id          figi                        ts  open_price  \\\n",
       "0  JPMorgan   1  BBG000DMBXR2 2018-01-23 21:45:00+00:00      114.02   \n",
       "1  JPMorgan   1  BBG000DMBXR2 2018-01-23 21:35:00+00:00      114.02   \n",
       "2  JPMorgan   1  BBG000DMBXR2 2018-01-23 20:55:00+00:00      114.20   \n",
       "3  JPMorgan   1  BBG000DMBXR2 2018-01-23 20:50:00+00:00      114.37   \n",
       "4  JPMorgan   1  BBG000DMBXR2 2018-01-23 20:45:00+00:00      114.33   \n",
       "\n",
       "   close_price  high_price  low_price   volume  \n",
       "0       114.02      114.02     114.02      6.0  \n",
       "1       114.02      114.02     114.02     10.0  \n",
       "2       114.23      114.26     114.16  76837.0  \n",
       "3       114.21      114.39     114.19  34299.0  \n",
       "4       114.36      114.41     114.31  27240.0  "
      ],
      "text/html": "<div>\n<style scoped>\n    .dataframe tbody tr th:only-of-type {\n        vertical-align: middle;\n    }\n\n    .dataframe tbody tr th {\n        vertical-align: top;\n    }\n\n    .dataframe thead th {\n        text-align: right;\n    }\n</style>\n<table border=\"1\" class=\"dataframe\">\n  <thead>\n    <tr style=\"text-align: right;\">\n      <th></th>\n      <th>name</th>\n      <th>id</th>\n      <th>figi</th>\n      <th>ts</th>\n      <th>open_price</th>\n      <th>close_price</th>\n      <th>high_price</th>\n      <th>low_price</th>\n      <th>volume</th>\n    </tr>\n  </thead>\n  <tbody>\n    <tr>\n      <th>0</th>\n      <td>JPMorgan</td>\n      <td>1</td>\n      <td>BBG000DMBXR2</td>\n      <td>2018-01-23 21:45:00+00:00</td>\n      <td>114.02</td>\n      <td>114.02</td>\n      <td>114.02</td>\n      <td>114.02</td>\n      <td>6.0</td>\n    </tr>\n    <tr>\n      <th>1</th>\n      <td>JPMorgan</td>\n      <td>1</td>\n      <td>BBG000DMBXR2</td>\n      <td>2018-01-23 21:35:00+00:00</td>\n      <td>114.02</td>\n      <td>114.02</td>\n      <td>114.02</td>\n      <td>114.02</td>\n      <td>10.0</td>\n    </tr>\n    <tr>\n      <th>2</th>\n      <td>JPMorgan</td>\n      <td>1</td>\n      <td>BBG000DMBXR2</td>\n      <td>2018-01-23 20:55:00+00:00</td>\n      <td>114.20</td>\n      <td>114.23</td>\n      <td>114.26</td>\n      <td>114.16</td>\n      <td>76837.0</td>\n    </tr>\n    <tr>\n      <th>3</th>\n      <td>JPMorgan</td>\n      <td>1</td>\n      <td>BBG000DMBXR2</td>\n      <td>2018-01-23 20:50:00+00:00</td>\n      <td>114.37</td>\n      <td>114.21</td>\n      <td>114.39</td>\n      <td>114.19</td>\n      <td>34299.0</td>\n    </tr>\n    <tr>\n      <th>4</th>\n      <td>JPMorgan</td>\n      <td>1</td>\n      <td>BBG000DMBXR2</td>\n      <td>2018-01-23 20:45:00+00:00</td>\n      <td>114.33</td>\n      <td>114.36</td>\n      <td>114.41</td>\n      <td>114.31</td>\n      <td>27240.0</td>\n    </tr>\n  </tbody>\n</table>\n</div>"
     },
     "metadata": {},
     "execution_count": 30
    }
   ],
   "source": [
    "df.head()"
   ]
  },
  {
   "cell_type": "code",
   "execution_count": 31,
   "metadata": {},
   "outputs": [],
   "source": [
    "df = calc_metrics(df)"
   ]
  },
  {
   "cell_type": "markdown",
   "metadata": {},
   "source": [
    "## Show result"
   ]
  },
  {
   "cell_type": "code",
   "execution_count": 32,
   "metadata": {},
   "outputs": [
    {
     "output_type": "execute_result",
     "data": {
      "text/plain": [
       "       name  id          figi                        ts  open_price  \\\n",
       "0  JPMorgan   1  BBG000DMBXR2 2018-01-23 21:45:00+00:00      114.02   \n",
       "1  JPMorgan   1  BBG000DMBXR2 2018-01-23 21:35:00+00:00      114.02   \n",
       "2  JPMorgan   1  BBG000DMBXR2 2018-01-23 20:55:00+00:00      114.20   \n",
       "3  JPMorgan   1  BBG000DMBXR2 2018-01-23 20:50:00+00:00      114.37   \n",
       "4  JPMorgan   1  BBG000DMBXR2 2018-01-23 20:45:00+00:00      114.33   \n",
       "\n",
       "   close_price  high_price  low_price   volume  MACD_12_26_9  MACDh_12_26_9  \\\n",
       "0       114.02      114.02     114.02      6.0           NaN            NaN   \n",
       "1       114.02      114.02     114.02     10.0           NaN            NaN   \n",
       "2       114.23      114.26     114.16  76837.0           NaN            NaN   \n",
       "3       114.21      114.39     114.19  34299.0           NaN            NaN   \n",
       "4       114.36      114.41     114.31  27240.0           NaN            NaN   \n",
       "\n",
       "   MACDs_12_26_9      RSI_14  MFI_14  \n",
       "0            NaN         NaN     NaN  \n",
       "1            NaN         NaN     NaN  \n",
       "2            NaN  100.000000     NaN  \n",
       "3            NaN   90.697674     NaN  \n",
       "4            NaN   94.688458     NaN  "
      ],
      "text/html": "<div>\n<style scoped>\n    .dataframe tbody tr th:only-of-type {\n        vertical-align: middle;\n    }\n\n    .dataframe tbody tr th {\n        vertical-align: top;\n    }\n\n    .dataframe thead th {\n        text-align: right;\n    }\n</style>\n<table border=\"1\" class=\"dataframe\">\n  <thead>\n    <tr style=\"text-align: right;\">\n      <th></th>\n      <th>name</th>\n      <th>id</th>\n      <th>figi</th>\n      <th>ts</th>\n      <th>open_price</th>\n      <th>close_price</th>\n      <th>high_price</th>\n      <th>low_price</th>\n      <th>volume</th>\n      <th>MACD_12_26_9</th>\n      <th>MACDh_12_26_9</th>\n      <th>MACDs_12_26_9</th>\n      <th>RSI_14</th>\n      <th>MFI_14</th>\n    </tr>\n  </thead>\n  <tbody>\n    <tr>\n      <th>0</th>\n      <td>JPMorgan</td>\n      <td>1</td>\n      <td>BBG000DMBXR2</td>\n      <td>2018-01-23 21:45:00+00:00</td>\n      <td>114.02</td>\n      <td>114.02</td>\n      <td>114.02</td>\n      <td>114.02</td>\n      <td>6.0</td>\n      <td>NaN</td>\n      <td>NaN</td>\n      <td>NaN</td>\n      <td>NaN</td>\n      <td>NaN</td>\n    </tr>\n    <tr>\n      <th>1</th>\n      <td>JPMorgan</td>\n      <td>1</td>\n      <td>BBG000DMBXR2</td>\n      <td>2018-01-23 21:35:00+00:00</td>\n      <td>114.02</td>\n      <td>114.02</td>\n      <td>114.02</td>\n      <td>114.02</td>\n      <td>10.0</td>\n      <td>NaN</td>\n      <td>NaN</td>\n      <td>NaN</td>\n      <td>NaN</td>\n      <td>NaN</td>\n    </tr>\n    <tr>\n      <th>2</th>\n      <td>JPMorgan</td>\n      <td>1</td>\n      <td>BBG000DMBXR2</td>\n      <td>2018-01-23 20:55:00+00:00</td>\n      <td>114.20</td>\n      <td>114.23</td>\n      <td>114.26</td>\n      <td>114.16</td>\n      <td>76837.0</td>\n      <td>NaN</td>\n      <td>NaN</td>\n      <td>NaN</td>\n      <td>100.000000</td>\n      <td>NaN</td>\n    </tr>\n    <tr>\n      <th>3</th>\n      <td>JPMorgan</td>\n      <td>1</td>\n      <td>BBG000DMBXR2</td>\n      <td>2018-01-23 20:50:00+00:00</td>\n      <td>114.37</td>\n      <td>114.21</td>\n      <td>114.39</td>\n      <td>114.19</td>\n      <td>34299.0</td>\n      <td>NaN</td>\n      <td>NaN</td>\n      <td>NaN</td>\n      <td>90.697674</td>\n      <td>NaN</td>\n    </tr>\n    <tr>\n      <th>4</th>\n      <td>JPMorgan</td>\n      <td>1</td>\n      <td>BBG000DMBXR2</td>\n      <td>2018-01-23 20:45:00+00:00</td>\n      <td>114.33</td>\n      <td>114.36</td>\n      <td>114.41</td>\n      <td>114.31</td>\n      <td>27240.0</td>\n      <td>NaN</td>\n      <td>NaN</td>\n      <td>NaN</td>\n      <td>94.688458</td>\n      <td>NaN</td>\n    </tr>\n  </tbody>\n</table>\n</div>"
     },
     "metadata": {},
     "execution_count": 32
    }
   ],
   "source": [
    "df.head()"
   ]
  },
  {
   "source": [
    "## Transform data"
   ],
   "cell_type": "markdown",
   "metadata": {}
  },
  {
   "cell_type": "code",
   "execution_count": 33,
   "metadata": {},
   "outputs": [],
   "source": [
    "column_names = {\n",
    "    \"open_price\":\"open\",\n",
    "    \"close_price\":\"close\",\n",
    "    \"high_price\":\"high\",\n",
    "    \"low_price\":\"low\",\n",
    "    \"volume\":\"volume\",\n",
    "    \"MACD_12_26_9\":\"MACD\",\n",
    "    \"MACDh_12_26_9\":\"MACDh\",\n",
    "    \"MACDs_12_26_9\":\"MACDs\",\n",
    "    \"RSI_14\":\"RSI\",\n",
    "    \"MFI_14\":\"MFI\"\n",
    "}\n",
    "\n",
    "df = df.rename(columns=column_names)"
   ]
  },
  {
   "cell_type": "code",
   "execution_count": 34,
   "metadata": {},
   "outputs": [
    {
     "output_type": "execute_result",
     "data": {
      "text/plain": [
       "       name  id          figi                        ts    open   close  \\\n",
       "0  JPMorgan   1  BBG000DMBXR2 2018-01-23 21:45:00+00:00  114.02  114.02   \n",
       "1  JPMorgan   1  BBG000DMBXR2 2018-01-23 21:35:00+00:00  114.02  114.02   \n",
       "2  JPMorgan   1  BBG000DMBXR2 2018-01-23 20:55:00+00:00  114.20  114.23   \n",
       "3  JPMorgan   1  BBG000DMBXR2 2018-01-23 20:50:00+00:00  114.37  114.21   \n",
       "4  JPMorgan   1  BBG000DMBXR2 2018-01-23 20:45:00+00:00  114.33  114.36   \n",
       "\n",
       "     high     low   volume  MACD  MACDh  MACDs         RSI  MFI  \n",
       "0  114.02  114.02      6.0   NaN    NaN    NaN         NaN  NaN  \n",
       "1  114.02  114.02     10.0   NaN    NaN    NaN         NaN  NaN  \n",
       "2  114.26  114.16  76837.0   NaN    NaN    NaN  100.000000  NaN  \n",
       "3  114.39  114.19  34299.0   NaN    NaN    NaN   90.697674  NaN  \n",
       "4  114.41  114.31  27240.0   NaN    NaN    NaN   94.688458  NaN  "
      ],
      "text/html": "<div>\n<style scoped>\n    .dataframe tbody tr th:only-of-type {\n        vertical-align: middle;\n    }\n\n    .dataframe tbody tr th {\n        vertical-align: top;\n    }\n\n    .dataframe thead th {\n        text-align: right;\n    }\n</style>\n<table border=\"1\" class=\"dataframe\">\n  <thead>\n    <tr style=\"text-align: right;\">\n      <th></th>\n      <th>name</th>\n      <th>id</th>\n      <th>figi</th>\n      <th>ts</th>\n      <th>open</th>\n      <th>close</th>\n      <th>high</th>\n      <th>low</th>\n      <th>volume</th>\n      <th>MACD</th>\n      <th>MACDh</th>\n      <th>MACDs</th>\n      <th>RSI</th>\n      <th>MFI</th>\n    </tr>\n  </thead>\n  <tbody>\n    <tr>\n      <th>0</th>\n      <td>JPMorgan</td>\n      <td>1</td>\n      <td>BBG000DMBXR2</td>\n      <td>2018-01-23 21:45:00+00:00</td>\n      <td>114.02</td>\n      <td>114.02</td>\n      <td>114.02</td>\n      <td>114.02</td>\n      <td>6.0</td>\n      <td>NaN</td>\n      <td>NaN</td>\n      <td>NaN</td>\n      <td>NaN</td>\n      <td>NaN</td>\n    </tr>\n    <tr>\n      <th>1</th>\n      <td>JPMorgan</td>\n      <td>1</td>\n      <td>BBG000DMBXR2</td>\n      <td>2018-01-23 21:35:00+00:00</td>\n      <td>114.02</td>\n      <td>114.02</td>\n      <td>114.02</td>\n      <td>114.02</td>\n      <td>10.0</td>\n      <td>NaN</td>\n      <td>NaN</td>\n      <td>NaN</td>\n      <td>NaN</td>\n      <td>NaN</td>\n    </tr>\n    <tr>\n      <th>2</th>\n      <td>JPMorgan</td>\n      <td>1</td>\n      <td>BBG000DMBXR2</td>\n      <td>2018-01-23 20:55:00+00:00</td>\n      <td>114.20</td>\n      <td>114.23</td>\n      <td>114.26</td>\n      <td>114.16</td>\n      <td>76837.0</td>\n      <td>NaN</td>\n      <td>NaN</td>\n      <td>NaN</td>\n      <td>100.000000</td>\n      <td>NaN</td>\n    </tr>\n    <tr>\n      <th>3</th>\n      <td>JPMorgan</td>\n      <td>1</td>\n      <td>BBG000DMBXR2</td>\n      <td>2018-01-23 20:50:00+00:00</td>\n      <td>114.37</td>\n      <td>114.21</td>\n      <td>114.39</td>\n      <td>114.19</td>\n      <td>34299.0</td>\n      <td>NaN</td>\n      <td>NaN</td>\n      <td>NaN</td>\n      <td>90.697674</td>\n      <td>NaN</td>\n    </tr>\n    <tr>\n      <th>4</th>\n      <td>JPMorgan</td>\n      <td>1</td>\n      <td>BBG000DMBXR2</td>\n      <td>2018-01-23 20:45:00+00:00</td>\n      <td>114.33</td>\n      <td>114.36</td>\n      <td>114.41</td>\n      <td>114.31</td>\n      <td>27240.0</td>\n      <td>NaN</td>\n      <td>NaN</td>\n      <td>NaN</td>\n      <td>94.688458</td>\n      <td>NaN</td>\n    </tr>\n  </tbody>\n</table>\n</div>"
     },
     "metadata": {},
     "execution_count": 34
    }
   ],
   "source": [
    "df.head()"
   ]
  },
  {
   "cell_type": "code",
   "execution_count": 35,
   "metadata": {},
   "outputs": [
    {
     "output_type": "execute_result",
     "data": {
      "text/plain": [
       "     name   figi     ts   open  close   high    low  volume   MACD  MACDh  \\\n",
       "id                                                                          \n",
       "1   85536  85536  85536  85536  85536  85536  85536   85536  85511  85511   \n",
       "\n",
       "    MACDs    RSI    MFI  \n",
       "id                       \n",
       "1   85528  85534  85523  "
      ],
      "text/html": "<div>\n<style scoped>\n    .dataframe tbody tr th:only-of-type {\n        vertical-align: middle;\n    }\n\n    .dataframe tbody tr th {\n        vertical-align: top;\n    }\n\n    .dataframe thead th {\n        text-align: right;\n    }\n</style>\n<table border=\"1\" class=\"dataframe\">\n  <thead>\n    <tr style=\"text-align: right;\">\n      <th></th>\n      <th>name</th>\n      <th>figi</th>\n      <th>ts</th>\n      <th>open</th>\n      <th>close</th>\n      <th>high</th>\n      <th>low</th>\n      <th>volume</th>\n      <th>MACD</th>\n      <th>MACDh</th>\n      <th>MACDs</th>\n      <th>RSI</th>\n      <th>MFI</th>\n    </tr>\n    <tr>\n      <th>id</th>\n      <th></th>\n      <th></th>\n      <th></th>\n      <th></th>\n      <th></th>\n      <th></th>\n      <th></th>\n      <th></th>\n      <th></th>\n      <th></th>\n      <th></th>\n      <th></th>\n      <th></th>\n    </tr>\n  </thead>\n  <tbody>\n    <tr>\n      <th>1</th>\n      <td>85536</td>\n      <td>85536</td>\n      <td>85536</td>\n      <td>85536</td>\n      <td>85536</td>\n      <td>85536</td>\n      <td>85536</td>\n      <td>85536</td>\n      <td>85511</td>\n      <td>85511</td>\n      <td>85528</td>\n      <td>85534</td>\n      <td>85523</td>\n    </tr>\n  </tbody>\n</table>\n</div>"
     },
     "metadata": {},
     "execution_count": 35
    }
   ],
   "source": [
    "df.groupby(\"id\").count()"
   ]
  },
  {
   "cell_type": "code",
   "execution_count": 37,
   "metadata": {},
   "outputs": [],
   "source": [
    "# result_df = pd.DataFrame()\n",
    "\n",
    "# for i, (index, dfx) in enumerate(df.groupby(\"id\")):\n",
    "#     prefix = \"%d_\" % i\n",
    "#     columns = [\"open\", \"close\", \"high\", \"low\", \"volume\",\"MACD\",\"MACDh\",\"MACDs\",\"RSI\",\"MFI\"]\n",
    "#     columns_with_prefix = {x : prefix + x for x in columns}\n",
    "#     # Select columns\n",
    "#     dfx = dfx[[\"ts\"] + columns]\n",
    "#     # Rename columns\n",
    "#     dfx = dfx.rename(columns=columns_with_prefix)\n",
    "#     # Concat columns\n",
    "#     if result_df.empty:\n",
    "#         # Copy\n",
    "#         result_df = dfx\n",
    "#     else:\n",
    "#         result_df = pd.merge(result_df, dfx, on=\"ts\")\n",
    "\n",
    "columns = [\"open\", \"close\", \"high\", \"low\", \"volume\",\"MACD\",\"MACDh\",\"MACDs\",\"RSI\",\"MFI\"]\n",
    "result_df = df[columns]"
   ]
  },
  {
   "cell_type": "code",
   "execution_count": 38,
   "metadata": {},
   "outputs": [
    {
     "output_type": "execute_result",
     "data": {
      "text/plain": [
       "     open   close    high     low   volume  MACD  MACDh  MACDs         RSI  \\\n",
       "0  114.02  114.02  114.02  114.02      6.0   NaN    NaN    NaN         NaN   \n",
       "1  114.02  114.02  114.02  114.02     10.0   NaN    NaN    NaN         NaN   \n",
       "2  114.20  114.23  114.26  114.16  76837.0   NaN    NaN    NaN  100.000000   \n",
       "3  114.37  114.21  114.39  114.19  34299.0   NaN    NaN    NaN   90.697674   \n",
       "4  114.33  114.36  114.41  114.31  27240.0   NaN    NaN    NaN   94.688458   \n",
       "\n",
       "   MFI  \n",
       "0  NaN  \n",
       "1  NaN  \n",
       "2  NaN  \n",
       "3  NaN  \n",
       "4  NaN  "
      ],
      "text/html": "<div>\n<style scoped>\n    .dataframe tbody tr th:only-of-type {\n        vertical-align: middle;\n    }\n\n    .dataframe tbody tr th {\n        vertical-align: top;\n    }\n\n    .dataframe thead th {\n        text-align: right;\n    }\n</style>\n<table border=\"1\" class=\"dataframe\">\n  <thead>\n    <tr style=\"text-align: right;\">\n      <th></th>\n      <th>open</th>\n      <th>close</th>\n      <th>high</th>\n      <th>low</th>\n      <th>volume</th>\n      <th>MACD</th>\n      <th>MACDh</th>\n      <th>MACDs</th>\n      <th>RSI</th>\n      <th>MFI</th>\n    </tr>\n  </thead>\n  <tbody>\n    <tr>\n      <th>0</th>\n      <td>114.02</td>\n      <td>114.02</td>\n      <td>114.02</td>\n      <td>114.02</td>\n      <td>6.0</td>\n      <td>NaN</td>\n      <td>NaN</td>\n      <td>NaN</td>\n      <td>NaN</td>\n      <td>NaN</td>\n    </tr>\n    <tr>\n      <th>1</th>\n      <td>114.02</td>\n      <td>114.02</td>\n      <td>114.02</td>\n      <td>114.02</td>\n      <td>10.0</td>\n      <td>NaN</td>\n      <td>NaN</td>\n      <td>NaN</td>\n      <td>NaN</td>\n      <td>NaN</td>\n    </tr>\n    <tr>\n      <th>2</th>\n      <td>114.20</td>\n      <td>114.23</td>\n      <td>114.26</td>\n      <td>114.16</td>\n      <td>76837.0</td>\n      <td>NaN</td>\n      <td>NaN</td>\n      <td>NaN</td>\n      <td>100.000000</td>\n      <td>NaN</td>\n    </tr>\n    <tr>\n      <th>3</th>\n      <td>114.37</td>\n      <td>114.21</td>\n      <td>114.39</td>\n      <td>114.19</td>\n      <td>34299.0</td>\n      <td>NaN</td>\n      <td>NaN</td>\n      <td>NaN</td>\n      <td>90.697674</td>\n      <td>NaN</td>\n    </tr>\n    <tr>\n      <th>4</th>\n      <td>114.33</td>\n      <td>114.36</td>\n      <td>114.41</td>\n      <td>114.31</td>\n      <td>27240.0</td>\n      <td>NaN</td>\n      <td>NaN</td>\n      <td>NaN</td>\n      <td>94.688458</td>\n      <td>NaN</td>\n    </tr>\n  </tbody>\n</table>\n</div>"
     },
     "metadata": {},
     "execution_count": 38
    }
   ],
   "source": [
    "result_df.head()"
   ]
  },
  {
   "cell_type": "code",
   "execution_count": 39,
   "metadata": {},
   "outputs": [
    {
     "output_type": "execute_result",
     "data": {
      "text/plain": [
       "(85536, 10)"
      ]
     },
     "metadata": {},
     "execution_count": 39
    }
   ],
   "source": [
    "result_df.shape"
   ]
  },
  {
   "cell_type": "code",
   "execution_count": 41,
   "metadata": {},
   "outputs": [
    {
     "output_type": "execute_result",
     "data": {
      "text/plain": [
       "               open         close          high           low         volume  \\\n",
       "count  85536.000000  85536.000000  85536.000000  85536.000000   85536.000000   \n",
       "mean     108.869357    108.868067    108.965903    108.769106   17384.196935   \n",
       "std       12.836169     12.837386     12.816483     12.857599   23507.344659   \n",
       "min       77.570000     77.250000     78.640000     76.930000       1.000000   \n",
       "25%       99.390000     99.390000     99.490000     99.280000      79.000000   \n",
       "50%      108.110000    108.110000    108.200000    108.020000   12355.000000   \n",
       "75%      115.510000    115.500000    115.590000    115.430000   24494.250000   \n",
       "max      141.240000    141.240000    141.240000    141.240000  515849.000000   \n",
       "\n",
       "               MACD         MACDh         MACDs           RSI           MFI  \n",
       "count  85511.000000  85511.000000  85528.000000  85534.000000  8.552300e+04  \n",
       "mean       0.000945     -0.000004      0.000949     50.000697  4.893427e+01  \n",
       "std        0.331436      0.107139      0.309003     12.180194  2.128730e+01  \n",
       "min       -5.099767     -2.370230     -4.474312      5.623387 -2.910913e-10  \n",
       "25%       -0.113025     -0.036314     -0.107513     41.880198  3.478548e+01  \n",
       "50%        0.000336     -0.000516      0.000513     50.136372  4.895652e+01  \n",
       "75%        0.120574      0.036310      0.115109     58.260839  6.299376e+01  \n",
       "max        3.564853      1.535910      3.143031    100.000000  1.000000e+02  "
      ],
      "text/html": "<div>\n<style scoped>\n    .dataframe tbody tr th:only-of-type {\n        vertical-align: middle;\n    }\n\n    .dataframe tbody tr th {\n        vertical-align: top;\n    }\n\n    .dataframe thead th {\n        text-align: right;\n    }\n</style>\n<table border=\"1\" class=\"dataframe\">\n  <thead>\n    <tr style=\"text-align: right;\">\n      <th></th>\n      <th>open</th>\n      <th>close</th>\n      <th>high</th>\n      <th>low</th>\n      <th>volume</th>\n      <th>MACD</th>\n      <th>MACDh</th>\n      <th>MACDs</th>\n      <th>RSI</th>\n      <th>MFI</th>\n    </tr>\n  </thead>\n  <tbody>\n    <tr>\n      <th>count</th>\n      <td>85536.000000</td>\n      <td>85536.000000</td>\n      <td>85536.000000</td>\n      <td>85536.000000</td>\n      <td>85536.000000</td>\n      <td>85511.000000</td>\n      <td>85511.000000</td>\n      <td>85528.000000</td>\n      <td>85534.000000</td>\n      <td>8.552300e+04</td>\n    </tr>\n    <tr>\n      <th>mean</th>\n      <td>108.869357</td>\n      <td>108.868067</td>\n      <td>108.965903</td>\n      <td>108.769106</td>\n      <td>17384.196935</td>\n      <td>0.000945</td>\n      <td>-0.000004</td>\n      <td>0.000949</td>\n      <td>50.000697</td>\n      <td>4.893427e+01</td>\n    </tr>\n    <tr>\n      <th>std</th>\n      <td>12.836169</td>\n      <td>12.837386</td>\n      <td>12.816483</td>\n      <td>12.857599</td>\n      <td>23507.344659</td>\n      <td>0.331436</td>\n      <td>0.107139</td>\n      <td>0.309003</td>\n      <td>12.180194</td>\n      <td>2.128730e+01</td>\n    </tr>\n    <tr>\n      <th>min</th>\n      <td>77.570000</td>\n      <td>77.250000</td>\n      <td>78.640000</td>\n      <td>76.930000</td>\n      <td>1.000000</td>\n      <td>-5.099767</td>\n      <td>-2.370230</td>\n      <td>-4.474312</td>\n      <td>5.623387</td>\n      <td>-2.910913e-10</td>\n    </tr>\n    <tr>\n      <th>25%</th>\n      <td>99.390000</td>\n      <td>99.390000</td>\n      <td>99.490000</td>\n      <td>99.280000</td>\n      <td>79.000000</td>\n      <td>-0.113025</td>\n      <td>-0.036314</td>\n      <td>-0.107513</td>\n      <td>41.880198</td>\n      <td>3.478548e+01</td>\n    </tr>\n    <tr>\n      <th>50%</th>\n      <td>108.110000</td>\n      <td>108.110000</td>\n      <td>108.200000</td>\n      <td>108.020000</td>\n      <td>12355.000000</td>\n      <td>0.000336</td>\n      <td>-0.000516</td>\n      <td>0.000513</td>\n      <td>50.136372</td>\n      <td>4.895652e+01</td>\n    </tr>\n    <tr>\n      <th>75%</th>\n      <td>115.510000</td>\n      <td>115.500000</td>\n      <td>115.590000</td>\n      <td>115.430000</td>\n      <td>24494.250000</td>\n      <td>0.120574</td>\n      <td>0.036310</td>\n      <td>0.115109</td>\n      <td>58.260839</td>\n      <td>6.299376e+01</td>\n    </tr>\n    <tr>\n      <th>max</th>\n      <td>141.240000</td>\n      <td>141.240000</td>\n      <td>141.240000</td>\n      <td>141.240000</td>\n      <td>515849.000000</td>\n      <td>3.564853</td>\n      <td>1.535910</td>\n      <td>3.143031</td>\n      <td>100.000000</td>\n      <td>1.000000e+02</td>\n    </tr>\n  </tbody>\n</table>\n</div>"
     },
     "metadata": {},
     "execution_count": 41
    }
   ],
   "source": [
    "result_df.describe()"
   ]
  },
  {
   "cell_type": "markdown",
   "metadata": {},
   "source": [
    "## Save results"
   ]
  },
  {
   "cell_type": "code",
   "execution_count": 40,
   "metadata": {},
   "outputs": [],
   "source": [
    "result_df.to_parquet(\"processed_data.parquet\", compression=\"gzip\")"
   ]
  }
 ],
 "metadata": {
  "kernelspec": {
   "display_name": "Python 3.7.9 64-bit",
   "language": "python",
   "name": "python37964bit3bffe351162749fba048ab36cc01edff"
  },
  "language_info": {
   "codemirror_mode": {
    "name": "ipython",
    "version": 3
   },
   "file_extension": ".py",
   "mimetype": "text/x-python",
   "name": "python",
   "nbconvert_exporter": "python",
   "pygments_lexer": "ipython3",
   "version": "3.7.9-final"
  }
 },
 "nbformat": 4,
 "nbformat_minor": 4
}