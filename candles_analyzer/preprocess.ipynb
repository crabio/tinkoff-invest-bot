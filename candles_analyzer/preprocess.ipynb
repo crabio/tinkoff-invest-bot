{
 "cells": [
  {
   "cell_type": "code",
   "execution_count": 19,
   "metadata": {},
   "outputs": [],
   "source": [
    "%matplotlib widget"
   ]
  },
  {
   "cell_type": "code",
   "execution_count": 20,
   "metadata": {},
   "outputs": [],
   "source": [
    "\n",
    "import pandas as pd\n",
    "\n",
    "import matplotlib.pyplot as plt\n",
    "import pandas_ta as ta"
   ]
  },
  {
   "cell_type": "markdown",
   "metadata": {},
   "source": [
    "## Load parquet"
   ]
  },
  {
   "cell_type": "code",
   "execution_count": 21,
   "metadata": {},
   "outputs": [],
   "source": [
    "df = pd.read_parquet(\"data.parquet\")"
   ]
  },
  {
   "cell_type": "code",
   "execution_count": 22,
   "metadata": {},
   "outputs": [
    {
     "output_type": "execute_result",
     "data": {
      "text/plain": [
       "              id    figi      ts  open_price  close_price  high_price  \\\n",
       "name                                                                    \n",
       "AT&T      101134  101134  101134      101134       101134      101134   \n",
       "Apple     119367  119367  119367      119367       119367      119367   \n",
       "JPMorgan   85536   85536   85536       85536        85536       85536   \n",
       "\n",
       "          low_price  volume  \n",
       "name                         \n",
       "AT&T         101134  101134  \n",
       "Apple        119367  119367  \n",
       "JPMorgan      85536   85536  "
      ],
      "text/html": "<div>\n<style scoped>\n    .dataframe tbody tr th:only-of-type {\n        vertical-align: middle;\n    }\n\n    .dataframe tbody tr th {\n        vertical-align: top;\n    }\n\n    .dataframe thead th {\n        text-align: right;\n    }\n</style>\n<table border=\"1\" class=\"dataframe\">\n  <thead>\n    <tr style=\"text-align: right;\">\n      <th></th>\n      <th>id</th>\n      <th>figi</th>\n      <th>ts</th>\n      <th>open_price</th>\n      <th>close_price</th>\n      <th>high_price</th>\n      <th>low_price</th>\n      <th>volume</th>\n    </tr>\n    <tr>\n      <th>name</th>\n      <th></th>\n      <th></th>\n      <th></th>\n      <th></th>\n      <th></th>\n      <th></th>\n      <th></th>\n      <th></th>\n    </tr>\n  </thead>\n  <tbody>\n    <tr>\n      <th>AT&amp;T</th>\n      <td>101134</td>\n      <td>101134</td>\n      <td>101134</td>\n      <td>101134</td>\n      <td>101134</td>\n      <td>101134</td>\n      <td>101134</td>\n      <td>101134</td>\n    </tr>\n    <tr>\n      <th>Apple</th>\n      <td>119367</td>\n      <td>119367</td>\n      <td>119367</td>\n      <td>119367</td>\n      <td>119367</td>\n      <td>119367</td>\n      <td>119367</td>\n      <td>119367</td>\n    </tr>\n    <tr>\n      <th>JPMorgan</th>\n      <td>85536</td>\n      <td>85536</td>\n      <td>85536</td>\n      <td>85536</td>\n      <td>85536</td>\n      <td>85536</td>\n      <td>85536</td>\n      <td>85536</td>\n    </tr>\n  </tbody>\n</table>\n</div>"
     },
     "metadata": {},
     "execution_count": 22
    }
   ],
   "source": [
    "df.groupby(\"name\").count()"
   ]
  },
  {
   "cell_type": "markdown",
   "metadata": {},
   "source": [
    "## Apply processing\n",
    "Strategy can be applied only on by-name group"
   ]
  },
  {
   "cell_type": "code",
   "execution_count": 23,
   "metadata": {},
   "outputs": [],
   "source": [
    "def concat_df_with_col(df, column):\n",
    "    return pd.concat([df, column], axis=1)"
   ]
  },
  {
   "cell_type": "code",
   "execution_count": 24,
   "metadata": {},
   "outputs": [],
   "source": [
    "def calc_metrics(df, \n",
    "    RSI_oversold_threshold = 30,\n",
    "    RSI_overbouht_threshold = 70,\n",
    "    MFI_oversold_threshold = 20,\n",
    "    MFI_overbouht_threshold = 80):\n",
    "    # Add MACD\n",
    "    df = concat_df_with_col(df, df.groupby(\"name\").apply(lambda x: x.ta.macd()).reset_index(level=0, drop=True))\n",
    "\n",
    "    # Add RSI\n",
    "    df = concat_df_with_col(df, df.groupby(\"name\").apply(lambda x: x.ta.rsi()).reset_index(level=0, drop=True))\n",
    "\n",
    "    # Add MFI\n",
    "    df = concat_df_with_col(df, df.groupby(\"name\").apply(lambda x: x.ta.mfi()).reset_index(level=0, drop=True))\n",
    "    \n",
    "    # # Add RSI oversold and overbought\n",
    "    # df[\"RSI_oversold\"] = df[\"RSI_14\"] <= RSI_oversold_threshold\n",
    "    # df[\"RSI_overbought\"] = df[\"RSI_14\"] >= RSI_overbouht_threshold\n",
    "\n",
    "    # # Add MFI oversold and overbought\n",
    "    # df[\"MFI_oversold\"] = df[\"MFI_14\"] <= MFI_oversold_threshold\n",
    "    # df[\"MFI_overbought\"] = df[\"MFI_14\"] >= MFI_overbouht_threshold\n",
    "    \n",
    "    # # Add MACD signal crossover and cross under\n",
    "    # df[\"MACD_diff\"] = (df[\"MACD_12_26_9\"] - df[\"MACDs_12_26_9\"])\n",
    "    # df[\"MACD_crossover\"] = (df[\"MACD_diff\"] >= 0) & (df[\"MACD_diff\"].shift() <= 0)\n",
    "    # df[\"MACD_crossunder\"] = (df[\"MACD_diff\"] <= 0) & (df[\"MACD_diff\"].shift() >= 0)\n",
    "    \n",
    "    return df"
   ]
  },
  {
   "cell_type": "code",
   "execution_count": 25,
   "metadata": {},
   "outputs": [],
   "source": [
    "df = calc_metrics(df)"
   ]
  },
  {
   "cell_type": "markdown",
   "metadata": {},
   "source": [
    "## Show result"
   ]
  },
  {
   "cell_type": "code",
   "execution_count": 26,
   "metadata": {},
   "outputs": [
    {
     "output_type": "execute_result",
     "data": {
      "text/plain": [
       "       name  id          figi                        ts  open_price  \\\n",
       "0  JPMorgan   1  BBG000DMBXR2 2018-01-23 21:45:00+00:00      114.02   \n",
       "1  JPMorgan   1  BBG000DMBXR2 2018-01-23 21:35:00+00:00      114.02   \n",
       "2  JPMorgan   1  BBG000DMBXR2 2018-01-23 20:55:00+00:00      114.20   \n",
       "3  JPMorgan   1  BBG000DMBXR2 2018-01-23 20:50:00+00:00      114.37   \n",
       "4  JPMorgan   1  BBG000DMBXR2 2018-01-23 20:45:00+00:00      114.33   \n",
       "\n",
       "   close_price  high_price  low_price   volume  MACD_12_26_9  MACDh_12_26_9  \\\n",
       "0       114.02      114.02     114.02      6.0           NaN            NaN   \n",
       "1       114.02      114.02     114.02     10.0           NaN            NaN   \n",
       "2       114.23      114.26     114.16  76837.0           NaN            NaN   \n",
       "3       114.21      114.39     114.19  34299.0           NaN            NaN   \n",
       "4       114.36      114.41     114.31  27240.0           NaN            NaN   \n",
       "\n",
       "   MACDs_12_26_9      RSI_14  MFI_14  \n",
       "0            NaN         NaN     NaN  \n",
       "1            NaN         NaN     NaN  \n",
       "2            NaN  100.000000     NaN  \n",
       "3            NaN   90.697674     NaN  \n",
       "4            NaN   94.688458     NaN  "
      ],
      "text/html": "<div>\n<style scoped>\n    .dataframe tbody tr th:only-of-type {\n        vertical-align: middle;\n    }\n\n    .dataframe tbody tr th {\n        vertical-align: top;\n    }\n\n    .dataframe thead th {\n        text-align: right;\n    }\n</style>\n<table border=\"1\" class=\"dataframe\">\n  <thead>\n    <tr style=\"text-align: right;\">\n      <th></th>\n      <th>name</th>\n      <th>id</th>\n      <th>figi</th>\n      <th>ts</th>\n      <th>open_price</th>\n      <th>close_price</th>\n      <th>high_price</th>\n      <th>low_price</th>\n      <th>volume</th>\n      <th>MACD_12_26_9</th>\n      <th>MACDh_12_26_9</th>\n      <th>MACDs_12_26_9</th>\n      <th>RSI_14</th>\n      <th>MFI_14</th>\n    </tr>\n  </thead>\n  <tbody>\n    <tr>\n      <th>0</th>\n      <td>JPMorgan</td>\n      <td>1</td>\n      <td>BBG000DMBXR2</td>\n      <td>2018-01-23 21:45:00+00:00</td>\n      <td>114.02</td>\n      <td>114.02</td>\n      <td>114.02</td>\n      <td>114.02</td>\n      <td>6.0</td>\n      <td>NaN</td>\n      <td>NaN</td>\n      <td>NaN</td>\n      <td>NaN</td>\n      <td>NaN</td>\n    </tr>\n    <tr>\n      <th>1</th>\n      <td>JPMorgan</td>\n      <td>1</td>\n      <td>BBG000DMBXR2</td>\n      <td>2018-01-23 21:35:00+00:00</td>\n      <td>114.02</td>\n      <td>114.02</td>\n      <td>114.02</td>\n      <td>114.02</td>\n      <td>10.0</td>\n      <td>NaN</td>\n      <td>NaN</td>\n      <td>NaN</td>\n      <td>NaN</td>\n      <td>NaN</td>\n    </tr>\n    <tr>\n      <th>2</th>\n      <td>JPMorgan</td>\n      <td>1</td>\n      <td>BBG000DMBXR2</td>\n      <td>2018-01-23 20:55:00+00:00</td>\n      <td>114.20</td>\n      <td>114.23</td>\n      <td>114.26</td>\n      <td>114.16</td>\n      <td>76837.0</td>\n      <td>NaN</td>\n      <td>NaN</td>\n      <td>NaN</td>\n      <td>100.000000</td>\n      <td>NaN</td>\n    </tr>\n    <tr>\n      <th>3</th>\n      <td>JPMorgan</td>\n      <td>1</td>\n      <td>BBG000DMBXR2</td>\n      <td>2018-01-23 20:50:00+00:00</td>\n      <td>114.37</td>\n      <td>114.21</td>\n      <td>114.39</td>\n      <td>114.19</td>\n      <td>34299.0</td>\n      <td>NaN</td>\n      <td>NaN</td>\n      <td>NaN</td>\n      <td>90.697674</td>\n      <td>NaN</td>\n    </tr>\n    <tr>\n      <th>4</th>\n      <td>JPMorgan</td>\n      <td>1</td>\n      <td>BBG000DMBXR2</td>\n      <td>2018-01-23 20:45:00+00:00</td>\n      <td>114.33</td>\n      <td>114.36</td>\n      <td>114.41</td>\n      <td>114.31</td>\n      <td>27240.0</td>\n      <td>NaN</td>\n      <td>NaN</td>\n      <td>NaN</td>\n      <td>94.688458</td>\n      <td>NaN</td>\n    </tr>\n  </tbody>\n</table>\n</div>"
     },
     "metadata": {},
     "execution_count": 26
    }
   ],
   "source": [
    "df.head()"
   ]
  },
  {
   "source": [
    "## Transform data"
   ],
   "cell_type": "markdown",
   "metadata": {}
  },
  {
   "cell_type": "code",
   "execution_count": 27,
   "metadata": {},
   "outputs": [],
   "source": [
    "column_names = {\n",
    "    \"open_price\":\"open\",\n",
    "    \"close_price\":\"close\",\n",
    "    \"high_price\":\"high\",\n",
    "    \"low_price\":\"low\",\n",
    "    \"volume\":\"volume\",\n",
    "    \"MACD_12_26_9\":\"MACD\",\n",
    "    \"MACDh_12_26_9\":\"MACDh\",\n",
    "    \"MACDs_12_26_9\":\"MACDs\",\n",
    "    \"RSI_14\":\"RSI\",\n",
    "    \"MFI_14\":\"MFI\"\n",
    "}\n",
    "\n",
    "df = df.rename(columns=column_names)"
   ]
  },
  {
   "cell_type": "code",
   "execution_count": 28,
   "metadata": {},
   "outputs": [
    {
     "output_type": "execute_result",
     "data": {
      "text/plain": [
       "       name  id          figi                        ts    open   close  \\\n",
       "0  JPMorgan   1  BBG000DMBXR2 2018-01-23 21:45:00+00:00  114.02  114.02   \n",
       "1  JPMorgan   1  BBG000DMBXR2 2018-01-23 21:35:00+00:00  114.02  114.02   \n",
       "2  JPMorgan   1  BBG000DMBXR2 2018-01-23 20:55:00+00:00  114.20  114.23   \n",
       "3  JPMorgan   1  BBG000DMBXR2 2018-01-23 20:50:00+00:00  114.37  114.21   \n",
       "4  JPMorgan   1  BBG000DMBXR2 2018-01-23 20:45:00+00:00  114.33  114.36   \n",
       "\n",
       "     high     low   volume  MACD  MACDh  MACDs         RSI  MFI  \n",
       "0  114.02  114.02      6.0   NaN    NaN    NaN         NaN  NaN  \n",
       "1  114.02  114.02     10.0   NaN    NaN    NaN         NaN  NaN  \n",
       "2  114.26  114.16  76837.0   NaN    NaN    NaN  100.000000  NaN  \n",
       "3  114.39  114.19  34299.0   NaN    NaN    NaN   90.697674  NaN  \n",
       "4  114.41  114.31  27240.0   NaN    NaN    NaN   94.688458  NaN  "
      ],
      "text/html": "<div>\n<style scoped>\n    .dataframe tbody tr th:only-of-type {\n        vertical-align: middle;\n    }\n\n    .dataframe tbody tr th {\n        vertical-align: top;\n    }\n\n    .dataframe thead th {\n        text-align: right;\n    }\n</style>\n<table border=\"1\" class=\"dataframe\">\n  <thead>\n    <tr style=\"text-align: right;\">\n      <th></th>\n      <th>name</th>\n      <th>id</th>\n      <th>figi</th>\n      <th>ts</th>\n      <th>open</th>\n      <th>close</th>\n      <th>high</th>\n      <th>low</th>\n      <th>volume</th>\n      <th>MACD</th>\n      <th>MACDh</th>\n      <th>MACDs</th>\n      <th>RSI</th>\n      <th>MFI</th>\n    </tr>\n  </thead>\n  <tbody>\n    <tr>\n      <th>0</th>\n      <td>JPMorgan</td>\n      <td>1</td>\n      <td>BBG000DMBXR2</td>\n      <td>2018-01-23 21:45:00+00:00</td>\n      <td>114.02</td>\n      <td>114.02</td>\n      <td>114.02</td>\n      <td>114.02</td>\n      <td>6.0</td>\n      <td>NaN</td>\n      <td>NaN</td>\n      <td>NaN</td>\n      <td>NaN</td>\n      <td>NaN</td>\n    </tr>\n    <tr>\n      <th>1</th>\n      <td>JPMorgan</td>\n      <td>1</td>\n      <td>BBG000DMBXR2</td>\n      <td>2018-01-23 21:35:00+00:00</td>\n      <td>114.02</td>\n      <td>114.02</td>\n      <td>114.02</td>\n      <td>114.02</td>\n      <td>10.0</td>\n      <td>NaN</td>\n      <td>NaN</td>\n      <td>NaN</td>\n      <td>NaN</td>\n      <td>NaN</td>\n    </tr>\n    <tr>\n      <th>2</th>\n      <td>JPMorgan</td>\n      <td>1</td>\n      <td>BBG000DMBXR2</td>\n      <td>2018-01-23 20:55:00+00:00</td>\n      <td>114.20</td>\n      <td>114.23</td>\n      <td>114.26</td>\n      <td>114.16</td>\n      <td>76837.0</td>\n      <td>NaN</td>\n      <td>NaN</td>\n      <td>NaN</td>\n      <td>100.000000</td>\n      <td>NaN</td>\n    </tr>\n    <tr>\n      <th>3</th>\n      <td>JPMorgan</td>\n      <td>1</td>\n      <td>BBG000DMBXR2</td>\n      <td>2018-01-23 20:50:00+00:00</td>\n      <td>114.37</td>\n      <td>114.21</td>\n      <td>114.39</td>\n      <td>114.19</td>\n      <td>34299.0</td>\n      <td>NaN</td>\n      <td>NaN</td>\n      <td>NaN</td>\n      <td>90.697674</td>\n      <td>NaN</td>\n    </tr>\n    <tr>\n      <th>4</th>\n      <td>JPMorgan</td>\n      <td>1</td>\n      <td>BBG000DMBXR2</td>\n      <td>2018-01-23 20:45:00+00:00</td>\n      <td>114.33</td>\n      <td>114.36</td>\n      <td>114.41</td>\n      <td>114.31</td>\n      <td>27240.0</td>\n      <td>NaN</td>\n      <td>NaN</td>\n      <td>NaN</td>\n      <td>94.688458</td>\n      <td>NaN</td>\n    </tr>\n  </tbody>\n</table>\n</div>"
     },
     "metadata": {},
     "execution_count": 28
    }
   ],
   "source": [
    "df.head()"
   ]
  },
  {
   "cell_type": "code",
   "execution_count": 29,
   "metadata": {},
   "outputs": [
    {
     "output_type": "execute_result",
     "data": {
      "text/plain": [
       "      name    figi      ts    open   close    high     low  volume    MACD  \\\n",
       "id                                                                           \n",
       "1    85536   85536   85536   85536   85536   85536   85536   85536   85511   \n",
       "2   119367  119367  119367  119367  119367  119367  119367  119367  119342   \n",
       "3   101134  101134  101134  101134  101134  101134  101134  101134  101109   \n",
       "\n",
       "     MACDh   MACDs     RSI     MFI  \n",
       "id                                  \n",
       "1    85511   85528   85534   85523  \n",
       "2   119342  119359  119365  119354  \n",
       "3   101109  101126  101133  101121  "
      ],
      "text/html": "<div>\n<style scoped>\n    .dataframe tbody tr th:only-of-type {\n        vertical-align: middle;\n    }\n\n    .dataframe tbody tr th {\n        vertical-align: top;\n    }\n\n    .dataframe thead th {\n        text-align: right;\n    }\n</style>\n<table border=\"1\" class=\"dataframe\">\n  <thead>\n    <tr style=\"text-align: right;\">\n      <th></th>\n      <th>name</th>\n      <th>figi</th>\n      <th>ts</th>\n      <th>open</th>\n      <th>close</th>\n      <th>high</th>\n      <th>low</th>\n      <th>volume</th>\n      <th>MACD</th>\n      <th>MACDh</th>\n      <th>MACDs</th>\n      <th>RSI</th>\n      <th>MFI</th>\n    </tr>\n    <tr>\n      <th>id</th>\n      <th></th>\n      <th></th>\n      <th></th>\n      <th></th>\n      <th></th>\n      <th></th>\n      <th></th>\n      <th></th>\n      <th></th>\n      <th></th>\n      <th></th>\n      <th></th>\n      <th></th>\n    </tr>\n  </thead>\n  <tbody>\n    <tr>\n      <th>1</th>\n      <td>85536</td>\n      <td>85536</td>\n      <td>85536</td>\n      <td>85536</td>\n      <td>85536</td>\n      <td>85536</td>\n      <td>85536</td>\n      <td>85536</td>\n      <td>85511</td>\n      <td>85511</td>\n      <td>85528</td>\n      <td>85534</td>\n      <td>85523</td>\n    </tr>\n    <tr>\n      <th>2</th>\n      <td>119367</td>\n      <td>119367</td>\n      <td>119367</td>\n      <td>119367</td>\n      <td>119367</td>\n      <td>119367</td>\n      <td>119367</td>\n      <td>119367</td>\n      <td>119342</td>\n      <td>119342</td>\n      <td>119359</td>\n      <td>119365</td>\n      <td>119354</td>\n    </tr>\n    <tr>\n      <th>3</th>\n      <td>101134</td>\n      <td>101134</td>\n      <td>101134</td>\n      <td>101134</td>\n      <td>101134</td>\n      <td>101134</td>\n      <td>101134</td>\n      <td>101134</td>\n      <td>101109</td>\n      <td>101109</td>\n      <td>101126</td>\n      <td>101133</td>\n      <td>101121</td>\n    </tr>\n  </tbody>\n</table>\n</div>"
     },
     "metadata": {},
     "execution_count": 29
    }
   ],
   "source": [
    "df.groupby(\"id\").count()"
   ]
  },
  {
   "cell_type": "code",
   "execution_count": 30,
   "metadata": {},
   "outputs": [],
   "source": [
    "result_df = pd.DataFrame()\n",
    "\n",
    "for i, (index, dfx) in enumerate(df.groupby(\"id\")):\n",
    "    prefix = \"%d_\" % i\n",
    "    columns = [\"open\", \"close\", \"high\", \"low\", \"volume\",\"MACD\",\"MACDh\",\"MACDs\",\"RSI\",\"MFI\"]\n",
    "    columns_with_prefix = {x : prefix + x for x in columns}\n",
    "    # Select columns\n",
    "    dfx = dfx[[\"ts\"] + columns]\n",
    "    # Rename columns\n",
    "    dfx = dfx.rename(columns=columns_with_prefix)\n",
    "    # Concat columns\n",
    "    if result_df.empty:\n",
    "        # Copy\n",
    "        result_df = dfx\n",
    "    else:\n",
    "        result_df = pd.merge(result_df, dfx, on=\"ts\")\n",
    "\n",
    "# Remove timestamp\n",
    "result_df = result_df.drop(\"ts\", axis=1)"
   ]
  },
  {
   "cell_type": "code",
   "execution_count": 31,
   "metadata": {},
   "outputs": [
    {
     "output_type": "execute_result",
     "data": {
      "text/plain": [
       "   0_open  0_close  0_high   0_low  0_volume  0_MACD  0_MACDh  0_MACDs  \\\n",
       "0  114.20   114.23  114.26  114.16   76837.0     NaN      NaN      NaN   \n",
       "1  114.37   114.21  114.39  114.19   34299.0     NaN      NaN      NaN   \n",
       "2  114.33   114.36  114.41  114.31   27240.0     NaN      NaN      NaN   \n",
       "3  114.32   114.32  114.34  114.25   22342.0     NaN      NaN      NaN   \n",
       "4  114.36   114.32  114.37  114.29   16668.0     NaN      NaN      NaN   \n",
       "\n",
       "        0_RSI  0_MFI  ...  2_open  2_close  2_high  2_low  2_volume  2_MACD  \\\n",
       "0  100.000000    NaN  ...   37.20    37.19   37.26  37.18   98644.0     NaN   \n",
       "1   90.697674    NaN  ...   37.15    37.20   37.20  37.14   38002.0     NaN   \n",
       "2   94.688458    NaN  ...   37.15    37.15   37.18  37.14   33423.0     NaN   \n",
       "3   84.302204    NaN  ...   37.22    37.14   37.22  37.14   59713.0     NaN   \n",
       "4   84.302204    NaN  ...   37.26    37.22   37.26  37.22   17075.0     NaN   \n",
       "\n",
       "   2_MACDh  2_MACDs      2_RSI  2_MFI  \n",
       "0      NaN      NaN  32.049265    NaN  \n",
       "1      NaN      NaN  36.604042    NaN  \n",
       "2      NaN      NaN  26.896268    NaN  \n",
       "3      NaN      0.0  25.442911    NaN  \n",
       "4      NaN      0.0  49.126458    NaN  \n",
       "\n",
       "[5 rows x 30 columns]"
      ],
      "text/html": "<div>\n<style scoped>\n    .dataframe tbody tr th:only-of-type {\n        vertical-align: middle;\n    }\n\n    .dataframe tbody tr th {\n        vertical-align: top;\n    }\n\n    .dataframe thead th {\n        text-align: right;\n    }\n</style>\n<table border=\"1\" class=\"dataframe\">\n  <thead>\n    <tr style=\"text-align: right;\">\n      <th></th>\n      <th>0_open</th>\n      <th>0_close</th>\n      <th>0_high</th>\n      <th>0_low</th>\n      <th>0_volume</th>\n      <th>0_MACD</th>\n      <th>0_MACDh</th>\n      <th>0_MACDs</th>\n      <th>0_RSI</th>\n      <th>0_MFI</th>\n      <th>...</th>\n      <th>2_open</th>\n      <th>2_close</th>\n      <th>2_high</th>\n      <th>2_low</th>\n      <th>2_volume</th>\n      <th>2_MACD</th>\n      <th>2_MACDh</th>\n      <th>2_MACDs</th>\n      <th>2_RSI</th>\n      <th>2_MFI</th>\n    </tr>\n  </thead>\n  <tbody>\n    <tr>\n      <th>0</th>\n      <td>114.20</td>\n      <td>114.23</td>\n      <td>114.26</td>\n      <td>114.16</td>\n      <td>76837.0</td>\n      <td>NaN</td>\n      <td>NaN</td>\n      <td>NaN</td>\n      <td>100.000000</td>\n      <td>NaN</td>\n      <td>...</td>\n      <td>37.20</td>\n      <td>37.19</td>\n      <td>37.26</td>\n      <td>37.18</td>\n      <td>98644.0</td>\n      <td>NaN</td>\n      <td>NaN</td>\n      <td>NaN</td>\n      <td>32.049265</td>\n      <td>NaN</td>\n    </tr>\n    <tr>\n      <th>1</th>\n      <td>114.37</td>\n      <td>114.21</td>\n      <td>114.39</td>\n      <td>114.19</td>\n      <td>34299.0</td>\n      <td>NaN</td>\n      <td>NaN</td>\n      <td>NaN</td>\n      <td>90.697674</td>\n      <td>NaN</td>\n      <td>...</td>\n      <td>37.15</td>\n      <td>37.20</td>\n      <td>37.20</td>\n      <td>37.14</td>\n      <td>38002.0</td>\n      <td>NaN</td>\n      <td>NaN</td>\n      <td>NaN</td>\n      <td>36.604042</td>\n      <td>NaN</td>\n    </tr>\n    <tr>\n      <th>2</th>\n      <td>114.33</td>\n      <td>114.36</td>\n      <td>114.41</td>\n      <td>114.31</td>\n      <td>27240.0</td>\n      <td>NaN</td>\n      <td>NaN</td>\n      <td>NaN</td>\n      <td>94.688458</td>\n      <td>NaN</td>\n      <td>...</td>\n      <td>37.15</td>\n      <td>37.15</td>\n      <td>37.18</td>\n      <td>37.14</td>\n      <td>33423.0</td>\n      <td>NaN</td>\n      <td>NaN</td>\n      <td>NaN</td>\n      <td>26.896268</td>\n      <td>NaN</td>\n    </tr>\n    <tr>\n      <th>3</th>\n      <td>114.32</td>\n      <td>114.32</td>\n      <td>114.34</td>\n      <td>114.25</td>\n      <td>22342.0</td>\n      <td>NaN</td>\n      <td>NaN</td>\n      <td>NaN</td>\n      <td>84.302204</td>\n      <td>NaN</td>\n      <td>...</td>\n      <td>37.22</td>\n      <td>37.14</td>\n      <td>37.22</td>\n      <td>37.14</td>\n      <td>59713.0</td>\n      <td>NaN</td>\n      <td>NaN</td>\n      <td>0.0</td>\n      <td>25.442911</td>\n      <td>NaN</td>\n    </tr>\n    <tr>\n      <th>4</th>\n      <td>114.36</td>\n      <td>114.32</td>\n      <td>114.37</td>\n      <td>114.29</td>\n      <td>16668.0</td>\n      <td>NaN</td>\n      <td>NaN</td>\n      <td>NaN</td>\n      <td>84.302204</td>\n      <td>NaN</td>\n      <td>...</td>\n      <td>37.26</td>\n      <td>37.22</td>\n      <td>37.26</td>\n      <td>37.22</td>\n      <td>17075.0</td>\n      <td>NaN</td>\n      <td>NaN</td>\n      <td>0.0</td>\n      <td>49.126458</td>\n      <td>NaN</td>\n    </tr>\n  </tbody>\n</table>\n<p>5 rows × 30 columns</p>\n</div>"
     },
     "metadata": {},
     "execution_count": 31
    }
   ],
   "source": [
    "result_df.head()"
   ]
  },
  {
   "cell_type": "code",
   "execution_count": 32,
   "metadata": {},
   "outputs": [
    {
     "output_type": "execute_result",
     "data": {
      "text/plain": [
       "(80438, 30)"
      ]
     },
     "metadata": {},
     "execution_count": 32
    }
   ],
   "source": [
    "result_df.shape"
   ]
  },
  {
   "cell_type": "markdown",
   "metadata": {},
   "source": [
    "## Save results"
   ]
  },
  {
   "cell_type": "code",
   "execution_count": 33,
   "metadata": {},
   "outputs": [],
   "source": [
    "result_df.to_parquet(\"processed_data.parquet\", compression=\"gzip\")"
   ]
  }
 ],
 "metadata": {
  "kernelspec": {
   "display_name": "Python 3",
   "language": "python",
   "name": "python3"
  },
  "language_info": {
   "codemirror_mode": {
    "name": "ipython",
    "version": 3
   },
   "file_extension": ".py",
   "mimetype": "text/x-python",
   "name": "python",
   "nbconvert_exporter": "python",
   "pygments_lexer": "ipython3",
   "version": "3.8.5-final"
  }
 },
 "nbformat": 4,
 "nbformat_minor": 4
}