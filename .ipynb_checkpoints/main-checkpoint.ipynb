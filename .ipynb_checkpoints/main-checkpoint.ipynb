{
 "cells": [
  {
   "cell_type": "code",
   "execution_count": 1,
   "metadata": {
    "collapsed": true,
    "jupyter": {
     "outputs_hidden": true
    }
   },
   "outputs": [
    {
     "name": "stdout",
     "output_type": "stream",
     "text": [
      "Requirement already satisfied: selenium in /Library/Frameworks/Python.framework/Versions/3.7/lib/python3.7/site-packages (from -r requirements.txt (line 1)) (3.141.0)\n",
      "Requirement already satisfied: tinvest in /Library/Frameworks/Python.framework/Versions/3.7/lib/python3.7/site-packages (from -r requirements.txt (line 2)) (1.0.22)\n",
      "Requirement already satisfied: pandas in /Library/Frameworks/Python.framework/Versions/3.7/lib/python3.7/site-packages (from -r requirements.txt (line 3)) (1.0.3)\n",
      "Requirement already satisfied: pyarrow in /Library/Frameworks/Python.framework/Versions/3.7/lib/python3.7/site-packages (from -r requirements.txt (line 4)) (0.17.1)\n",
      "Requirement already satisfied: urllib3 in /Library/Frameworks/Python.framework/Versions/3.7/lib/python3.7/site-packages (from selenium->-r requirements.txt (line 1)) (1.25.7)\n",
      "Requirement already satisfied: requests<3.0,>=2.22 in /Library/Frameworks/Python.framework/Versions/3.7/lib/python3.7/site-packages (from tinvest->-r requirements.txt (line 2)) (2.23.0)\n",
      "Requirement already satisfied: pydantic<2,>=1.2 in /Library/Frameworks/Python.framework/Versions/3.7/lib/python3.7/site-packages (from tinvest->-r requirements.txt (line 2)) (1.5.1)\n",
      "Requirement already satisfied: Deprecated<2.0.0,>=1.2.9 in /Library/Frameworks/Python.framework/Versions/3.7/lib/python3.7/site-packages (from tinvest->-r requirements.txt (line 2)) (1.2.10)\n",
      "Requirement already satisfied: aiohttp<4.0,>=3.6 in /Library/Frameworks/Python.framework/Versions/3.7/lib/python3.7/site-packages (from tinvest->-r requirements.txt (line 2)) (3.6.2)\n",
      "Requirement already satisfied: pytz>=2017.2 in /Library/Frameworks/Python.framework/Versions/3.7/lib/python3.7/site-packages (from pandas->-r requirements.txt (line 3)) (2019.3)\n",
      "Requirement already satisfied: numpy>=1.13.3 in /Library/Frameworks/Python.framework/Versions/3.7/lib/python3.7/site-packages (from pandas->-r requirements.txt (line 3)) (1.18.1)\n",
      "Requirement already satisfied: python-dateutil>=2.6.1 in /Library/Frameworks/Python.framework/Versions/3.7/lib/python3.7/site-packages (from pandas->-r requirements.txt (line 3)) (2.8.1)\n",
      "Requirement already satisfied: chardet<4,>=3.0.2 in /Library/Frameworks/Python.framework/Versions/3.7/lib/python3.7/site-packages (from requests<3.0,>=2.22->tinvest->-r requirements.txt (line 2)) (3.0.4)\n",
      "Requirement already satisfied: certifi>=2017.4.17 in /Library/Frameworks/Python.framework/Versions/3.7/lib/python3.7/site-packages (from requests<3.0,>=2.22->tinvest->-r requirements.txt (line 2)) (2019.11.28)\n",
      "Requirement already satisfied: idna<3,>=2.5 in /Library/Frameworks/Python.framework/Versions/3.7/lib/python3.7/site-packages (from requests<3.0,>=2.22->tinvest->-r requirements.txt (line 2)) (2.6)\n",
      "Requirement already satisfied: wrapt<2,>=1.10 in /Library/Frameworks/Python.framework/Versions/3.7/lib/python3.7/site-packages (from Deprecated<2.0.0,>=1.2.9->tinvest->-r requirements.txt (line 2)) (1.11.2)\n",
      "Requirement already satisfied: attrs>=17.3.0 in /Library/Frameworks/Python.framework/Versions/3.7/lib/python3.7/site-packages (from aiohttp<4.0,>=3.6->tinvest->-r requirements.txt (line 2)) (19.3.0)\n",
      "Requirement already satisfied: yarl<2.0,>=1.0 in /Library/Frameworks/Python.framework/Versions/3.7/lib/python3.7/site-packages (from aiohttp<4.0,>=3.6->tinvest->-r requirements.txt (line 2)) (1.4.2)\n",
      "Requirement already satisfied: async-timeout<4.0,>=3.0 in /Library/Frameworks/Python.framework/Versions/3.7/lib/python3.7/site-packages (from aiohttp<4.0,>=3.6->tinvest->-r requirements.txt (line 2)) (3.0.1)\n",
      "Requirement already satisfied: multidict<5.0,>=4.5 in /Library/Frameworks/Python.framework/Versions/3.7/lib/python3.7/site-packages (from aiohttp<4.0,>=3.6->tinvest->-r requirements.txt (line 2)) (4.7.6)\n",
      "Requirement already satisfied: six>=1.5 in /Library/Frameworks/Python.framework/Versions/3.7/lib/python3.7/site-packages (from python-dateutil>=2.6.1->pandas->-r requirements.txt (line 3)) (1.13.0)\n",
      "\u001b[33mWARNING: You are using pip version 20.0.2; however, version 20.1.1 is available.\n",
      "You should consider upgrading via the '/Library/Frameworks/Python.framework/Versions/3.7/bin/python3.7 -m pip install --upgrade pip' command.\u001b[0m\n"
     ]
    }
   ],
   "source": [
    "import sys\n",
    "!{sys.executable} -m pip install -r requirements.txt"
   ]
  },
  {
   "cell_type": "code",
   "execution_count": 2,
   "metadata": {},
   "outputs": [],
   "source": [
    "import tinvest\n",
    "import pandas as pd\n",
    "import ipywidgets as widgets\n",
    "\n",
    "from IPython.display import clear_output\n",
    "from datetime import datetime, timedelta, timezone"
   ]
  },
  {
   "cell_type": "markdown",
   "metadata": {},
   "source": [
    "# Get token"
   ]
  },
  {
   "cell_type": "code",
   "execution_count": 3,
   "metadata": {},
   "outputs": [
    {
     "data": {
      "text/plain": [
       "'t.IodbD3G5wmc4_vOlZDLdTKe4N9VVpCoEIAmbTcFhqWVACCiXMTKCLYm0GP7v2SRf-ozJb5Vq6Ix67Bv5-ydMDA'"
      ]
     },
     "execution_count": 3,
     "metadata": {},
     "output_type": "execute_result"
    }
   ],
   "source": [
    "f = open(\"token.txt\", \"r\")\n",
    "\n",
    "TOKEN = f.read()\n",
    "TOKEN"
   ]
  },
  {
   "cell_type": "markdown",
   "metadata": {},
   "source": [
    "# Get companies ranks"
   ]
  },
  {
   "cell_type": "code",
   "execution_count": 4,
   "metadata": {},
   "outputs": [
    {
     "data": {
      "text/html": [
       "<div>\n",
       "<style scoped>\n",
       "    .dataframe tbody tr th:only-of-type {\n",
       "        vertical-align: middle;\n",
       "    }\n",
       "\n",
       "    .dataframe tbody tr th {\n",
       "        vertical-align: top;\n",
       "    }\n",
       "\n",
       "    .dataframe thead th {\n",
       "        text-align: right;\n",
       "    }\n",
       "</style>\n",
       "<table border=\"1\" class=\"dataframe\">\n",
       "  <thead>\n",
       "    <tr style=\"text-align: right;\">\n",
       "      <th></th>\n",
       "      <th>Rank</th>\n",
       "      <th>Company</th>\n",
       "      <th>Country/Territory</th>\n",
       "      <th>Sales</th>\n",
       "      <th>Profits</th>\n",
       "      <th>Assets</th>\n",
       "      <th>Market Value</th>\n",
       "    </tr>\n",
       "  </thead>\n",
       "  <tbody>\n",
       "    <tr>\n",
       "      <th>1</th>\n",
       "      <td>1.0</td>\n",
       "      <td>ICBC</td>\n",
       "      <td>China</td>\n",
       "      <td>$177.2 B</td>\n",
       "      <td>$45.3 B</td>\n",
       "      <td>$4,322.5 B</td>\n",
       "      <td>$242.3 B</td>\n",
       "    </tr>\n",
       "    <tr>\n",
       "      <th>2</th>\n",
       "      <td>2.0</td>\n",
       "      <td>China Construction Bank</td>\n",
       "      <td>China</td>\n",
       "      <td>$162.1 B</td>\n",
       "      <td>$38.9 B</td>\n",
       "      <td>$3,822 B</td>\n",
       "      <td>$203.8 B</td>\n",
       "    </tr>\n",
       "    <tr>\n",
       "      <th>3</th>\n",
       "      <td>3.0</td>\n",
       "      <td>JPMorgan Chase</td>\n",
       "      <td>United States</td>\n",
       "      <td>$142.9 B</td>\n",
       "      <td>$30 B</td>\n",
       "      <td>$3,139.4 B</td>\n",
       "      <td>$291.7 B</td>\n",
       "    </tr>\n",
       "    <tr>\n",
       "      <th>4</th>\n",
       "      <td>4.0</td>\n",
       "      <td>Berkshire Hathaway</td>\n",
       "      <td>United States</td>\n",
       "      <td>$254.6 B</td>\n",
       "      <td>$81.4 B</td>\n",
       "      <td>$817.7 B</td>\n",
       "      <td>$455.4 B</td>\n",
       "    </tr>\n",
       "    <tr>\n",
       "      <th>5</th>\n",
       "      <td>5.0</td>\n",
       "      <td>Agricultural Bank of China</td>\n",
       "      <td>China</td>\n",
       "      <td>$148.7 B</td>\n",
       "      <td>$30.9 B</td>\n",
       "      <td>$3,697.5 B</td>\n",
       "      <td>$147.2 B</td>\n",
       "    </tr>\n",
       "  </tbody>\n",
       "</table>\n",
       "</div>"
      ],
      "text/plain": [
       "   Rank                     Company Country/Territory     Sales  Profits  \\\n",
       "1   1.0                        ICBC             China  $177.2 B  $45.3 B   \n",
       "2   2.0     China Construction Bank             China  $162.1 B  $38.9 B   \n",
       "3   3.0              JPMorgan Chase     United States  $142.9 B    $30 B   \n",
       "4   4.0          Berkshire Hathaway     United States  $254.6 B  $81.4 B   \n",
       "5   5.0  Agricultural Bank of China             China  $148.7 B  $30.9 B   \n",
       "\n",
       "       Assets Market Value  \n",
       "1  $4,322.5 B     $242.3 B  \n",
       "2    $3,822 B     $203.8 B  \n",
       "3  $3,139.4 B     $291.7 B  \n",
       "4    $817.7 B     $455.4 B  \n",
       "5  $3,697.5 B     $147.2 B  "
      ]
     },
     "execution_count": 4,
     "metadata": {},
     "output_type": "execute_result"
    }
   ],
   "source": [
    "companies_pd = pd.read_parquet(\"data/companies_rank.parquet\")\n",
    "companies_pd.head()"
   ]
  },
  {
   "cell_type": "markdown",
   "metadata": {},
   "source": [
    "# Get markets"
   ]
  },
  {
   "cell_type": "code",
   "execution_count": 5,
   "metadata": {},
   "outputs": [],
   "source": [
    "client = tinvest.SyncClient(TOKEN, use_sandbox=True)\n",
    "api = tinvest.MarketApi(client)"
   ]
  },
  {
   "cell_type": "code",
   "execution_count": 6,
   "metadata": {},
   "outputs": [],
   "source": [
    "# TODO Add concurencies\n",
    "\n",
    "def markets_list_2_df(markets_instruments_list):\n",
    "    markets_instruments_data = [ {\n",
    "            'currency': markets_instrument.currency,\n",
    "            'figi': markets_instrument.figi,\n",
    "            'isin': markets_instrument.isin,\n",
    "            'lot': markets_instrument.lot,\n",
    "            'min_price_increment': markets_instrument.min_price_increment,\n",
    "            'name': markets_instrument.name,\n",
    "            'ticker': markets_instrument.ticker,\n",
    "            'type': markets_instrument.type\n",
    "        }\n",
    "        for markets_instrument\n",
    "        in markets_instruments_list]\n",
    "\n",
    "    return pd.DataFrame(markets_instruments_data)\n",
    "\n",
    "markets_instruments_df = pd.DataFrame()\n",
    "\n",
    "# Get Stocks\n",
    "response = api.market_stocks_get()\n",
    "if response.status_code == 200:\n",
    "    # Parse\n",
    "    markets_instruments_df = pd.concat([markets_instruments_df,\n",
    "                                        markets_list_2_df(response.parse_json().payload.instruments)])\n",
    "else:\n",
    "    print(\"ERROR:\", response.parse_error())\n",
    "\n",
    "# Get Bonds\n",
    "response = api.market_bonds_get()\n",
    "if response.status_code == 200:\n",
    "    # Parse\n",
    "    markets_instruments_df = pd.concat([markets_instruments_df,\n",
    "                                        markets_list_2_df(response.parse_json().payload.instruments)])\n",
    "else:\n",
    "    print(\"ERROR:\", response.parse_error())\n",
    "    \n",
    "# Get ETFs\n",
    "response = api.market_etfs_get()\n",
    "if response.status_code == 200:\n",
    "    # Parse\n",
    "    markets_instruments_df = pd.concat([markets_instruments_df,\n",
    "                                        markets_list_2_df(response.parse_json().payload.instruments)])\n",
    "else:\n",
    "    print(\"ERROR:\", response.parse_error())"
   ]
  },
  {
   "cell_type": "code",
   "execution_count": 7,
   "metadata": {},
   "outputs": [
    {
     "data": {
      "text/plain": [
       "(1794, 8)"
      ]
     },
     "execution_count": 7,
     "metadata": {},
     "output_type": "execute_result"
    }
   ],
   "source": [
    "markets_instruments_df.shape"
   ]
  },
  {
   "cell_type": "code",
   "execution_count": 8,
   "metadata": {},
   "outputs": [
    {
     "data": {
      "text/html": [
       "<div>\n",
       "<style scoped>\n",
       "    .dataframe tbody tr th:only-of-type {\n",
       "        vertical-align: middle;\n",
       "    }\n",
       "\n",
       "    .dataframe tbody tr th {\n",
       "        vertical-align: top;\n",
       "    }\n",
       "\n",
       "    .dataframe thead th {\n",
       "        text-align: right;\n",
       "    }\n",
       "</style>\n",
       "<table border=\"1\" class=\"dataframe\">\n",
       "  <thead>\n",
       "    <tr style=\"text-align: right;\">\n",
       "      <th></th>\n",
       "      <th>currency</th>\n",
       "      <th>figi</th>\n",
       "      <th>isin</th>\n",
       "      <th>lot</th>\n",
       "      <th>min_price_increment</th>\n",
       "      <th>name</th>\n",
       "      <th>ticker</th>\n",
       "      <th>type</th>\n",
       "    </tr>\n",
       "  </thead>\n",
       "  <tbody>\n",
       "    <tr>\n",
       "      <th>0</th>\n",
       "      <td>Currency.usd</td>\n",
       "      <td>BBG000HLJ7M4</td>\n",
       "      <td>US45867G1013</td>\n",
       "      <td>1</td>\n",
       "      <td>0.01</td>\n",
       "      <td>InterDigItal Inc</td>\n",
       "      <td>IDCC</td>\n",
       "      <td>InstrumentType.stock</td>\n",
       "    </tr>\n",
       "    <tr>\n",
       "      <th>1</th>\n",
       "      <td>Currency.usd</td>\n",
       "      <td>BBG002293PJ4</td>\n",
       "      <td>US74967X1037</td>\n",
       "      <td>1</td>\n",
       "      <td>0.01</td>\n",
       "      <td>RH</td>\n",
       "      <td>RH</td>\n",
       "      <td>InstrumentType.stock</td>\n",
       "    </tr>\n",
       "    <tr>\n",
       "      <th>2</th>\n",
       "      <td>Currency.usd</td>\n",
       "      <td>BBG000CTQBF3</td>\n",
       "      <td>US8552441094</td>\n",
       "      <td>1</td>\n",
       "      <td>0.01</td>\n",
       "      <td>Starbucks Corporation</td>\n",
       "      <td>SBUX</td>\n",
       "      <td>InstrumentType.stock</td>\n",
       "    </tr>\n",
       "    <tr>\n",
       "      <th>3</th>\n",
       "      <td>Currency.usd</td>\n",
       "      <td>BBG000BPL8G3</td>\n",
       "      <td>US5537771033</td>\n",
       "      <td>1</td>\n",
       "      <td>0.01</td>\n",
       "      <td>MTS Systems Corp</td>\n",
       "      <td>MTSC</td>\n",
       "      <td>InstrumentType.stock</td>\n",
       "    </tr>\n",
       "    <tr>\n",
       "      <th>4</th>\n",
       "      <td>Currency.usd</td>\n",
       "      <td>BBG000BH0FR6</td>\n",
       "      <td>US8125781026</td>\n",
       "      <td>1</td>\n",
       "      <td>0.01</td>\n",
       "      <td>Seattle Genetics Inc</td>\n",
       "      <td>SGEN</td>\n",
       "      <td>InstrumentType.stock</td>\n",
       "    </tr>\n",
       "  </tbody>\n",
       "</table>\n",
       "</div>"
      ],
      "text/plain": [
       "       currency          figi          isin  lot  min_price_increment  \\\n",
       "0  Currency.usd  BBG000HLJ7M4  US45867G1013    1                 0.01   \n",
       "1  Currency.usd  BBG002293PJ4  US74967X1037    1                 0.01   \n",
       "2  Currency.usd  BBG000CTQBF3  US8552441094    1                 0.01   \n",
       "3  Currency.usd  BBG000BPL8G3  US5537771033    1                 0.01   \n",
       "4  Currency.usd  BBG000BH0FR6  US8125781026    1                 0.01   \n",
       "\n",
       "                    name ticker                  type  \n",
       "0       InterDigItal Inc   IDCC  InstrumentType.stock  \n",
       "1                     RH     RH  InstrumentType.stock  \n",
       "2  Starbucks Corporation   SBUX  InstrumentType.stock  \n",
       "3       MTS Systems Corp   MTSC  InstrumentType.stock  \n",
       "4   Seattle Genetics Inc   SGEN  InstrumentType.stock  "
      ]
     },
     "execution_count": 8,
     "metadata": {},
     "output_type": "execute_result"
    }
   ],
   "source": [
    "markets_instruments_df.head()"
   ]
  },
  {
   "cell_type": "markdown",
   "metadata": {},
   "source": [
    "# Merge Forbes rank data with Tinkoff instruments"
   ]
  },
  {
   "cell_type": "code",
   "execution_count": 10,
   "metadata": {},
   "outputs": [
    {
     "data": {
      "text/html": [
       "<div>\n",
       "<style scoped>\n",
       "    .dataframe tbody tr th:only-of-type {\n",
       "        vertical-align: middle;\n",
       "    }\n",
       "\n",
       "    .dataframe tbody tr th {\n",
       "        vertical-align: top;\n",
       "    }\n",
       "\n",
       "    .dataframe thead th {\n",
       "        text-align: right;\n",
       "    }\n",
       "</style>\n",
       "<table border=\"1\" class=\"dataframe\">\n",
       "  <thead>\n",
       "    <tr style=\"text-align: right;\">\n",
       "      <th></th>\n",
       "      <th>currency</th>\n",
       "      <th>figi</th>\n",
       "      <th>isin</th>\n",
       "      <th>lot</th>\n",
       "      <th>min_price_increment</th>\n",
       "      <th>name</th>\n",
       "      <th>ticker</th>\n",
       "      <th>type</th>\n",
       "      <th>Rank</th>\n",
       "      <th>Company</th>\n",
       "      <th>Country/Territory</th>\n",
       "      <th>Sales</th>\n",
       "      <th>Profits</th>\n",
       "      <th>Assets</th>\n",
       "      <th>Market Value</th>\n",
       "    </tr>\n",
       "  </thead>\n",
       "  <tbody>\n",
       "    <tr>\n",
       "      <th>0</th>\n",
       "      <td>Currency.usd</td>\n",
       "      <td>BBG000BF0K17</td>\n",
       "      <td>US1491231015</td>\n",
       "      <td>1</td>\n",
       "      <td>0.01</td>\n",
       "      <td>Caterpillar</td>\n",
       "      <td>CAT</td>\n",
       "      <td>InstrumentType.stock</td>\n",
       "      <td>132.0</td>\n",
       "      <td>Caterpillar</td>\n",
       "      <td>United States</td>\n",
       "      <td>$51 B</td>\n",
       "      <td>$5.3 B</td>\n",
       "      <td>$75.9 B</td>\n",
       "      <td>$63 B</td>\n",
       "    </tr>\n",
       "    <tr>\n",
       "      <th>1</th>\n",
       "      <td>Currency.usd</td>\n",
       "      <td>BBG000QW7VC1</td>\n",
       "      <td>US40412C1018</td>\n",
       "      <td>1</td>\n",
       "      <td>0.01</td>\n",
       "      <td>HCA Healthcare</td>\n",
       "      <td>HCA</td>\n",
       "      <td>InstrumentType.stock</td>\n",
       "      <td>225.0</td>\n",
       "      <td>HCA Healthcare</td>\n",
       "      <td>United States</td>\n",
       "      <td>$51.7 B</td>\n",
       "      <td>$3 B</td>\n",
       "      <td>$45.4 B</td>\n",
       "      <td>$37.2 B</td>\n",
       "    </tr>\n",
       "    <tr>\n",
       "      <th>2</th>\n",
       "      <td>Currency.usd</td>\n",
       "      <td>BBG005YHY0Q7</td>\n",
       "      <td>US47215P1066</td>\n",
       "      <td>1</td>\n",
       "      <td>0.01</td>\n",
       "      <td>JD.com</td>\n",
       "      <td>JD</td>\n",
       "      <td>InstrumentType.stock</td>\n",
       "      <td>238.0</td>\n",
       "      <td>JD.com</td>\n",
       "      <td>China</td>\n",
       "      <td>$83.4 B</td>\n",
       "      <td>$1.8 B</td>\n",
       "      <td>$37.3 B</td>\n",
       "      <td>$53.6 B</td>\n",
       "    </tr>\n",
       "    <tr>\n",
       "      <th>3</th>\n",
       "      <td>Currency.usd</td>\n",
       "      <td>BBG000L9CV04</td>\n",
       "      <td>US9113121068</td>\n",
       "      <td>1</td>\n",
       "      <td>0.01</td>\n",
       "      <td>United Parcel Service</td>\n",
       "      <td>UPS</td>\n",
       "      <td>InstrumentType.stock</td>\n",
       "      <td>143.0</td>\n",
       "      <td>United Parcel Service</td>\n",
       "      <td>United States</td>\n",
       "      <td>$74.8 B</td>\n",
       "      <td>$4.3 B</td>\n",
       "      <td>$57.9 B</td>\n",
       "      <td>$81.3 B</td>\n",
       "    </tr>\n",
       "    <tr>\n",
       "      <th>4</th>\n",
       "      <td>Currency.usd</td>\n",
       "      <td>BBG000BB6KF5</td>\n",
       "      <td>US59156R1086</td>\n",
       "      <td>1</td>\n",
       "      <td>0.01</td>\n",
       "      <td>MetLife</td>\n",
       "      <td>MET</td>\n",
       "      <td>InstrumentType.stock</td>\n",
       "      <td>80.0</td>\n",
       "      <td>MetLife</td>\n",
       "      <td>United States</td>\n",
       "      <td>$69 B</td>\n",
       "      <td>$5.9 B</td>\n",
       "      <td>$746.3 B</td>\n",
       "      <td>$32.8 B</td>\n",
       "    </tr>\n",
       "  </tbody>\n",
       "</table>\n",
       "</div>"
      ],
      "text/plain": [
       "       currency          figi          isin  lot  min_price_increment  \\\n",
       "0  Currency.usd  BBG000BF0K17  US1491231015    1                 0.01   \n",
       "1  Currency.usd  BBG000QW7VC1  US40412C1018    1                 0.01   \n",
       "2  Currency.usd  BBG005YHY0Q7  US47215P1066    1                 0.01   \n",
       "3  Currency.usd  BBG000L9CV04  US9113121068    1                 0.01   \n",
       "4  Currency.usd  BBG000BB6KF5  US59156R1086    1                 0.01   \n",
       "\n",
       "                    name ticker                  type   Rank  \\\n",
       "0            Caterpillar    CAT  InstrumentType.stock  132.0   \n",
       "1         HCA Healthcare    HCA  InstrumentType.stock  225.0   \n",
       "2                 JD.com     JD  InstrumentType.stock  238.0   \n",
       "3  United Parcel Service    UPS  InstrumentType.stock  143.0   \n",
       "4                MetLife    MET  InstrumentType.stock   80.0   \n",
       "\n",
       "                 Company Country/Territory    Sales Profits    Assets  \\\n",
       "0            Caterpillar     United States    $51 B  $5.3 B   $75.9 B   \n",
       "1         HCA Healthcare     United States  $51.7 B    $3 B   $45.4 B   \n",
       "2                 JD.com             China  $83.4 B  $1.8 B   $37.3 B   \n",
       "3  United Parcel Service     United States  $74.8 B  $4.3 B   $57.9 B   \n",
       "4                MetLife     United States    $69 B  $5.9 B  $746.3 B   \n",
       "\n",
       "  Market Value  \n",
       "0        $63 B  \n",
       "1      $37.2 B  \n",
       "2      $53.6 B  \n",
       "3      $81.3 B  \n",
       "4      $32.8 B  "
      ]
     },
     "execution_count": 10,
     "metadata": {},
     "output_type": "execute_result"
    }
   ],
   "source": [
    "top_markets_instruments_df = pd.merge(markets_instruments_df, companies_pd, how='inner', left_on='name', right_on='Company')\n",
    "top_markets_instruments_df.head()"
   ]
  },
  {
   "cell_type": "markdown",
   "metadata": {},
   "source": [
    "# Get Candles"
   ]
  },
  {
   "cell_type": "code",
   "execution_count": 11,
   "metadata": {},
   "outputs": [
    {
     "name": "stdout",
     "output_type": "stream",
     "text": [
      "BBG000HLJ7M4\n",
      "2020-06-18T16:12:51.540217+00:00\n",
      "2020-06-19T16:12:51.540149+00:00\n",
      "payload=Candles(candles=[Candle(c=54.37, figi='BBG000HLJ7M4', h=54.54, interval=<CandleResolution.min15: '15min'>, l=54.31, o=54.51, time='2020-06-18T16:15:00Z', v=1656), Candle(c=54.23, figi='BBG000HLJ7M4', h=54.4, interval=<CandleResolution.min15: '15min'>, l=54.17, o=54.36, time='2020-06-18T16:30:00Z', v=1544), Candle(c=54.37, figi='BBG000HLJ7M4', h=54.39, interval=<CandleResolution.min15: '15min'>, l=54.25, o=54.25, time='2020-06-18T16:45:00Z', v=1519), Candle(c=54.51, figi='BBG000HLJ7M4', h=54.51, interval=<CandleResolution.min15: '15min'>, l=54.32, o=54.4, time='2020-06-18T17:00:00Z', v=1633), Candle(c=54.42, figi='BBG000HLJ7M4', h=54.47, interval=<CandleResolution.min15: '15min'>, l=54.4, o=54.41, time='2020-06-18T17:15:00Z', v=2666), Candle(c=54.59, figi='BBG000HLJ7M4', h=54.59, interval=<CandleResolution.min15: '15min'>, l=54.47, o=54.47, time='2020-06-18T17:30:00Z', v=2065), Candle(c=54.63, figi='BBG000HLJ7M4', h=54.66, interval=<CandleResolution.min15: '15min'>, l=54.53, o=54.58, time='2020-06-18T17:45:00Z', v=2020), Candle(c=54.6, figi='BBG000HLJ7M4', h=54.65, interval=<CandleResolution.min15: '15min'>, l=54.58, o=54.63, time='2020-06-18T18:00:00Z', v=1032), Candle(c=54.77, figi='BBG000HLJ7M4', h=54.77, interval=<CandleResolution.min15: '15min'>, l=54.56, o=54.56, time='2020-06-18T18:15:00Z', v=1870), Candle(c=54.79, figi='BBG000HLJ7M4', h=54.88, interval=<CandleResolution.min15: '15min'>, l=54.74, o=54.83, time='2020-06-18T18:30:00Z', v=1373), Candle(c=54.59, figi='BBG000HLJ7M4', h=54.83, interval=<CandleResolution.min15: '15min'>, l=54.57, o=54.81, time='2020-06-18T18:45:00Z', v=1051), Candle(c=54.26, figi='BBG000HLJ7M4', h=54.56, interval=<CandleResolution.min15: '15min'>, l=54.09, o=54.55, time='2020-06-18T19:00:00Z', v=3876), Candle(c=54.49, figi='BBG000HLJ7M4', h=54.52, interval=<CandleResolution.min15: '15min'>, l=54.29, o=54.3, time='2020-06-18T19:15:00Z', v=1985), Candle(c=54.53, figi='BBG000HLJ7M4', h=54.53, interval=<CandleResolution.min15: '15min'>, l=54.35, o=54.42, time='2020-06-18T19:30:00Z', v=4616), Candle(c=54.65, figi='BBG000HLJ7M4', h=54.68, interval=<CandleResolution.min15: '15min'>, l=54.37, o=54.47, time='2020-06-18T19:45:00Z', v=16131), Candle(c=54.65, figi='BBG000HLJ7M4', h=54.65, interval=<CandleResolution.min15: '15min'>, l=54.65, o=54.65, time='2020-06-18T20:00:00Z', v=103798), Candle(c=56.0, figi='BBG000HLJ7M4', h=56.0, interval=<CandleResolution.min15: '15min'>, l=56.0, o=56.0, time='2020-06-19T12:00:00Z', v=1), Candle(c=55.57, figi='BBG000HLJ7M4', h=55.65, interval=<CandleResolution.min15: '15min'>, l=55.57, o=55.65, time='2020-06-19T13:15:00Z', v=1100), Candle(c=55.1, figi='BBG000HLJ7M4', h=55.34, interval=<CandleResolution.min15: '15min'>, l=55.1, o=55.24, time='2020-06-19T13:30:00Z', v=88458), Candle(c=55.14, figi='BBG000HLJ7M4', h=55.32, interval=<CandleResolution.min15: '15min'>, l=55.12, o=55.12, time='2020-06-19T13:45:00Z', v=784), Candle(c=55.5, figi='BBG000HLJ7M4', h=55.5, interval=<CandleResolution.min15: '15min'>, l=55.03, o=55.22, time='2020-06-19T14:00:00Z', v=1219), Candle(c=55.92, figi='BBG000HLJ7M4', h=55.92, interval=<CandleResolution.min15: '15min'>, l=55.5, o=55.53, time='2020-06-19T14:15:00Z', v=1192), Candle(c=55.56, figi='BBG000HLJ7M4', h=55.88, interval=<CandleResolution.min15: '15min'>, l=55.45, o=55.88, time='2020-06-19T14:30:00Z', v=822), Candle(c=55.82, figi='BBG000HLJ7M4', h=55.82, interval=<CandleResolution.min15: '15min'>, l=55.56, o=55.61, time='2020-06-19T14:45:00Z', v=1392), Candle(c=55.92, figi='BBG000HLJ7M4', h=55.95, interval=<CandleResolution.min15: '15min'>, l=55.7, o=55.82, time='2020-06-19T15:00:00Z', v=1132), Candle(c=55.92, figi='BBG000HLJ7M4', h=56.0, interval=<CandleResolution.min15: '15min'>, l=55.73, o=55.92, time='2020-06-19T15:15:00Z', v=969), Candle(c=55.75, figi='BBG000HLJ7M4', h=55.98, interval=<CandleResolution.min15: '15min'>, l=55.75, o=55.96, time='2020-06-19T15:30:00Z', v=1028), Candle(c=55.5, figi='BBG000HLJ7M4', h=55.81, interval=<CandleResolution.min15: '15min'>, l=55.5, o=55.75, time='2020-06-19T15:45:00Z', v=1165), Candle(c=55.0, figi='BBG000HLJ7M4', h=55.46, interval=<CandleResolution.min15: '15min'>, l=55.0, o=55.46, time='2020-06-19T16:00:00Z', v=1303)], figi='BBG000HLJ7M4', interval=<CandleResolution.min15: '15min'>) status='Ok' tracking_id='811ca58058cead19'\n"
     ]
    }
   ],
   "source": [
    "figi = markets_instruments_df.figi.iloc[0]\n",
    "datetime_to = (datetime.now(timezone.utc) - timedelta(days=2)).isoformat()\n",
    "datetime_from = (datetime.now(timezone.utc) - timedelta(days=3)).isoformat()\n",
    "\n",
    "print(figi)\n",
    "print(datetime_from)\n",
    "print(datetime_to)\n",
    "\n",
    "response = api.market_candles_get(figi,\n",
    "                                 datetime_from,\n",
    "                                  datetime_to,\n",
    "                                 tinvest.CandleResolution.min15)\n",
    "if response.status_code == 200:\n",
    "    # Parse\n",
    "    print(response.parse_json())\n",
    "else:\n",
    "    print(\"ERROR:\", response.parse_error())"
   ]
  }
 ],
 "metadata": {
  "kernelspec": {
   "display_name": "Python 3",
   "language": "python",
   "name": "python3"
  },
  "language_info": {
   "codemirror_mode": {
    "name": "ipython",
    "version": 3
   },
   "file_extension": ".py",
   "mimetype": "text/x-python",
   "name": "python",
   "nbconvert_exporter": "python",
   "pygments_lexer": "ipython3",
   "version": "3.7.6"
  }
 },
 "nbformat": 4,
 "nbformat_minor": 4
}
