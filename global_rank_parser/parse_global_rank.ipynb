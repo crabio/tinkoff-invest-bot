{
 "metadata": {
  "language_info": {
   "codemirror_mode": {
    "name": "ipython",
    "version": 3
   },
   "file_extension": ".py",
   "mimetype": "text/x-python",
   "name": "python",
   "nbconvert_exporter": "python",
   "pygments_lexer": "ipython3",
   "version": "3.7.4-final"
  },
  "orig_nbformat": 2,
  "kernelspec": {
   "name": "python_defaultSpec_1595771762624",
   "display_name": "Python 3.7.4 64-bit ('base': conda)"
  }
 },
 "nbformat": 4,
 "nbformat_minor": 2,
 "cells": [
  {
   "cell_type": "markdown",
   "metadata": {},
   "source": [
    "### How does it work:\n",
    "* import required libraries;\n",
    "* get data from Forbes. Link to request for top 2000 companies;\n",
    "* filtering data fields for each company;\n",
    "* create data frame;\n",
    "* save as parquet file"
   ]
  },
  {
   "cell_type": "code",
   "execution_count": 1,
   "metadata": {},
   "outputs": [],
   "source": [
    "import pandas as pd\n",
    "import json\n",
    "import requests\n",
    "import os"
   ]
  },
  {
   "cell_type": "code",
   "execution_count": 2,
   "metadata": {},
   "outputs": [],
   "source": [
    "# Request settings\n",
    "params={\n",
    "    \"limit\": 2000\n",
    "}\n",
    "URL = \"https://www.forbes.com/forbesapi/org/global2000/2020/position/true.json\""
   ]
  },
  {
   "cell_type": "code",
   "execution_count": 3,
   "metadata": {
    "tags": []
   },
   "outputs": [
    {
     "output_type": "stream",
     "name": "stdout",
     "text": "200\n"
    }
   ],
   "source": [
    "# Get data from Forbes website\n",
    "response = requests.get(URL, params = params)\n",
    "print(response.status_code)"
   ]
  },
  {
   "cell_type": "code",
   "execution_count": 4,
   "metadata": {
    "tags": []
   },
   "outputs": [],
   "source": [
    "# List of organization data\n",
    "list_of_organization_data = []\n",
    "\n",
    "# Get json from response message\n",
    "original_json = response.json()\n",
    "\n",
    "# Get only list of all organizations\n",
    "organizations_json = original_json[\"organizationList\"][\"organizationsLists\"]\n",
    "\n",
    "# Loop for filtering data about ecach organization\n",
    "for organization in organizations_json:\n",
    "    filtered_organization={}\n",
    "    filtered_organization[\"Company\"] = organization[\"organizationName\"]\n",
    "    filtered_organization[\"Country\"] = organization[\"country\"]\n",
    "    filtered_organization[\"Industry\"] = organization[\"industry\"]\n",
    "    filtered_organization[\"Sales\"] = organization[\"revenue\"] * 1000\n",
    "    filtered_organization[\"Profits\"] = organization[\"profits\"] * 1000\n",
    "    filtered_organization[\"Assets\"] = organization[\"assets\"] * 1000\n",
    "    filtered_organization[\"Market Value\"] = organization[\"marketValue\"] * 1000\n",
    "\n",
    "    # Add filtered data to list\n",
    "    list_of_organization_data.append(filtered_organization)\n"
   ]
  },
  {
   "cell_type": "code",
   "execution_count": 5,
   "metadata": {
    "tags": []
   },
   "outputs": [
    {
     "output_type": "execute_result",
     "data": {
      "text/plain": "                             Company        Country                Industry  \\\n0                               ICBC          China                 Banking   \n1            China Construction Bank          China                 Banking   \n2                     JPMorgan Chase  United States  Diversified Financials   \n3                 Berkshire Hathaway  United States  Diversified Financials   \n4         Agricultural Bank of China          China                 Banking   \n...                              ...            ...                     ...   \n1995              Founder Securities          China  Diversified Financials   \n1996    Merlin Properties SOCIMI S.A          Spain  Diversified Financials   \n1997                           Heico  United States     Aerospace & Defense   \n1998                      W.P. Carey  United States  Diversified Financials   \n1999  Zhejiang Century Huatong Group          China       Consumer Durables   \n\n            Sales     Profits        Assets  Market Value  \n0     177230000.0  45283600.0  4.322528e+09   242283000.0  \n1     162147000.0  38914800.0  3.822048e+09   203818000.0  \n2     142927000.0  29954000.0  3.139431e+09   291737000.0  \n3     254616000.0  81417000.0  8.177290e+08   455444000.0  \n4     148692000.0  30911600.0  3.697451e+09   147174000.0  \n...           ...         ...           ...           ...  \n1995    1391000.0    114700.0  1.862300e+07     8300000.0  \n1996     594000.0    630900.0  1.493600e+07     4306000.0  \n1997    2096000.0    370500.0  3.097000e+06    11796000.0  \n1998    1246000.0    305200.0  1.406100e+07    11341000.0  \n1999    2182000.0    364800.0  4.720000e+06    12081000.0  \n\n[2000 rows x 7 columns]",
      "text/html": "<div>\n<style scoped>\n    .dataframe tbody tr th:only-of-type {\n        vertical-align: middle;\n    }\n\n    .dataframe tbody tr th {\n        vertical-align: top;\n    }\n\n    .dataframe thead th {\n        text-align: right;\n    }\n</style>\n<table border=\"1\" class=\"dataframe\">\n  <thead>\n    <tr style=\"text-align: right;\">\n      <th></th>\n      <th>Company</th>\n      <th>Country</th>\n      <th>Industry</th>\n      <th>Sales</th>\n      <th>Profits</th>\n      <th>Assets</th>\n      <th>Market Value</th>\n    </tr>\n  </thead>\n  <tbody>\n    <tr>\n      <td>0</td>\n      <td>ICBC</td>\n      <td>China</td>\n      <td>Banking</td>\n      <td>177230000.0</td>\n      <td>45283600.0</td>\n      <td>4.322528e+09</td>\n      <td>242283000.0</td>\n    </tr>\n    <tr>\n      <td>1</td>\n      <td>China Construction Bank</td>\n      <td>China</td>\n      <td>Banking</td>\n      <td>162147000.0</td>\n      <td>38914800.0</td>\n      <td>3.822048e+09</td>\n      <td>203818000.0</td>\n    </tr>\n    <tr>\n      <td>2</td>\n      <td>JPMorgan Chase</td>\n      <td>United States</td>\n      <td>Diversified Financials</td>\n      <td>142927000.0</td>\n      <td>29954000.0</td>\n      <td>3.139431e+09</td>\n      <td>291737000.0</td>\n    </tr>\n    <tr>\n      <td>3</td>\n      <td>Berkshire Hathaway</td>\n      <td>United States</td>\n      <td>Diversified Financials</td>\n      <td>254616000.0</td>\n      <td>81417000.0</td>\n      <td>8.177290e+08</td>\n      <td>455444000.0</td>\n    </tr>\n    <tr>\n      <td>4</td>\n      <td>Agricultural Bank of China</td>\n      <td>China</td>\n      <td>Banking</td>\n      <td>148692000.0</td>\n      <td>30911600.0</td>\n      <td>3.697451e+09</td>\n      <td>147174000.0</td>\n    </tr>\n    <tr>\n      <td>...</td>\n      <td>...</td>\n      <td>...</td>\n      <td>...</td>\n      <td>...</td>\n      <td>...</td>\n      <td>...</td>\n      <td>...</td>\n    </tr>\n    <tr>\n      <td>1995</td>\n      <td>Founder Securities</td>\n      <td>China</td>\n      <td>Diversified Financials</td>\n      <td>1391000.0</td>\n      <td>114700.0</td>\n      <td>1.862300e+07</td>\n      <td>8300000.0</td>\n    </tr>\n    <tr>\n      <td>1996</td>\n      <td>Merlin Properties SOCIMI S.A</td>\n      <td>Spain</td>\n      <td>Diversified Financials</td>\n      <td>594000.0</td>\n      <td>630900.0</td>\n      <td>1.493600e+07</td>\n      <td>4306000.0</td>\n    </tr>\n    <tr>\n      <td>1997</td>\n      <td>Heico</td>\n      <td>United States</td>\n      <td>Aerospace &amp; Defense</td>\n      <td>2096000.0</td>\n      <td>370500.0</td>\n      <td>3.097000e+06</td>\n      <td>11796000.0</td>\n    </tr>\n    <tr>\n      <td>1998</td>\n      <td>W.P. Carey</td>\n      <td>United States</td>\n      <td>Diversified Financials</td>\n      <td>1246000.0</td>\n      <td>305200.0</td>\n      <td>1.406100e+07</td>\n      <td>11341000.0</td>\n    </tr>\n    <tr>\n      <td>1999</td>\n      <td>Zhejiang Century Huatong Group</td>\n      <td>China</td>\n      <td>Consumer Durables</td>\n      <td>2182000.0</td>\n      <td>364800.0</td>\n      <td>4.720000e+06</td>\n      <td>12081000.0</td>\n    </tr>\n  </tbody>\n</table>\n<p>2000 rows × 7 columns</p>\n</div>"
     },
     "metadata": {},
     "execution_count": 5
    }
   ],
   "source": [
    "# Create DataFrame from list of oraganizations dictionaries\n",
    "df = pd.DataFrame(list_of_organization_data)\n",
    "\n",
    "# Clear\n",
    "df.dropna(axis=1, how='all').dropna(axis=0, how='all')"
   ]
  },
  {
   "cell_type": "code",
   "execution_count": 6,
   "metadata": {},
   "outputs": [],
   "source": [
    "# File save settings\n",
    "save_dir=\"../data\"\n",
    "file_name = \"companies_rank.parquet\"\n",
    "\n",
    "# Create \"data\" directory if it isn't exist\n",
    "if not os.path.exists(save_dir):\n",
    "    os.makedirs(save_dir)\n",
    "    \n",
    "# Save to parquet\n",
    "df.to_parquet('{}/{}'.format(save_dir,file_name))"
   ]
  }
 ]
}